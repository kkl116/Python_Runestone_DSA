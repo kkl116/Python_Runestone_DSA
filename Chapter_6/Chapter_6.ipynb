{
 "cells": [
  {
   "cell_type": "code",
   "execution_count": 194,
   "metadata": {},
   "outputs": [],
   "source": [
    "#helper functions \n",
    "from tqdm import tqdm\n",
    "\n",
    "def generate_n_colours(n):\n",
    "    return [\"#\"+''.join([random.choice('0123456789ABCDEF') for _ in range(6)]) for _ in range(n)]\n"
   ]
  },
  {
   "cell_type": "markdown",
   "metadata": {},
   "source": [
    "# Discussion Questions\n",
    "\n",
    "1. Using the hash table performance formulas given in the chapter, compute the average number of comparisons necessary when the table is\n",
    "\n",
    "10% full\n",
    "\n",
    "25% full\n",
    "\n",
    "50% full\n",
    "\n",
    "75% full\n",
    "\n",
    "90% full\n",
    "\n",
    "99% full\n",
    "\n",
    "At what point do you think the hash table is too small? Explain.\n"
   ]
  },
  {
   "cell_type": "code",
   "execution_count": 2,
   "metadata": {},
   "outputs": [
    {
     "name": "stdout",
     "output_type": "stream",
     "text": [
      "lambda = 0.1\n",
      "successful: 1.0555555555555556\n",
      "unsuccessful: 1.117283950617284\n",
      "lambda = 0.25\n",
      "successful: 1.1666666666666665\n",
      "unsuccessful: 1.3888888888888888\n",
      "lambda = 0.5\n",
      "successful: 1.5\n",
      "unsuccessful: 2.5\n",
      "lambda = 0.75\n",
      "successful: 2.5\n",
      "unsuccessful: 8.5\n",
      "lambda = 0.9\n",
      "successful: 5.500000000000001\n",
      "unsuccessful: 50.50000000000003\n",
      "lambda = 0.99\n",
      "successful: 50.49999999999996\n",
      "unsuccessful: 5000.499999999991\n"
     ]
    }
   ],
   "source": [
    "#formulas for open addressing with linear probing --\n",
    "#successful: 1/2 * (1 + 1/(1 - lambda))\n",
    "#unsuccessful: 1/2 * (1 + 1/(1 - lambda)**2)\n",
    "lambdas = [0.1, 0.25, 0.5, 0.75, 0.9, 0.99]\n",
    "for l in lambdas:\n",
    "    print(f'lambda = {l}')\n",
    "    print(f'successful: {1/2 * (1 + 1/(1 - l) )}')\n",
    "    print(f'unsuccessful: {1/2 * (1 + 1/(1 - l)**2 )}')\n"
   ]
  },
  {
   "cell_type": "markdown",
   "metadata": {},
   "source": [
    "Judging from the results, I think when lambda is at 0.75 the hash table is too small. Although during successful searches the average number of comparisons is 2.5, which is still acceptable even for small number of inputs, but the increase in average number of comparisons for unsuccessful searches to 8.5 would mean that for small number of inputs, sequential search or binary search may be more efficient in these cases. "
   ]
  },
  {
   "cell_type": "code",
   "execution_count": 3,
   "metadata": {},
   "outputs": [
    {
     "name": "stdout",
     "output_type": "stream",
     "text": [
      "1\n",
      "2\n",
      "3\n"
     ]
    }
   ],
   "source": [
    "#2. Modify the hash function for strings to use positional weightings.\n",
    "def hash_str_positional(a_string, table_size):\n",
    "    return sum([ord(c)*(i+1) for i,c in enumerate(a_string)]) % table_size\n",
    "\n",
    "table_size = 5\n",
    "print(hash_str_positional('cat', table_size))\n",
    "print(hash_str_positional('tac', table_size))\n",
    "print(hash_str_positional('act', table_size))"
   ]
  },
  {
   "cell_type": "code",
   "execution_count": 4,
   "metadata": {},
   "outputs": [
    {
     "name": "stdout",
     "output_type": "stream",
     "text": [
      "6\n",
      "10\n",
      "0\n"
     ]
    }
   ],
   "source": [
    "# 3. We used a hash function for strings that weighted the characters by position. \n",
    "# Devise an alternative weighting scheme. What are the biases that exist with these functions?\n",
    "\n",
    "def hash_str_alt(a_string, table_size, p):\n",
    "    #another weighting scheme is polynomial rolling hash \n",
    "    return sum([ord(c)* (p)**(i) for i,c in enumerate(a_string)]) % table_size\n",
    "\n",
    "table_size = 11\n",
    "p = 31\n",
    "# https://cp-algorithms.com/string/string-hashing.html\n",
    "# p should be a prime number roughly equal to the numbero f characters in the input alphabet - \n",
    "# e.g. if input is only lowercase letters of eng alphabet, p=31 is good choice. If upper + lower, then 53 is a possible choice.\n",
    "# choice of m i.e. table_size should be a large number since probability of two random strings colliding is ~ 1/m \n",
    " \n",
    "print(hash_str_alt('cat', table_size, p))\n",
    "print(hash_str_alt('tac', table_size, p))\n",
    "print(hash_str_alt('act', table_size, p))"
   ]
  },
  {
   "cell_type": "code",
   "execution_count": 5,
   "metadata": {},
   "outputs": [
    {
     "name": "stdout",
     "output_type": "stream",
     "text": [
      "{'kib': 8, 'mib': 6, 'lib': 7, 'nib': 3, 'pib': 4, 'doglion': 1, 'fishcat': 2, 'hib': 9, 'turts': 0, 'squib': 5}\n",
      "{'euterpe': 7, 'calliope': 8, 'erato': 5, 'terpsichore': 2, 'melpomene': 0, 'thalia': 6, 'clio': 4, 'polyhymnia': 3, 'urania': 1}\n",
      "{'get': 4, 'text': 6, 'reset': 13, 'output': 14, 'maxint': 15, 'input': 8, 'true': 9, 'integer': 0, 'eof': 3, 'rewrite': 2, 'false': 5, 'chr': 11, 'char': 12, 'trunc': 7, 'real': 1, 'sqr': 10}\n"
     ]
    }
   ],
   "source": [
    "# 4. Research perfect hash functions. Using a list of names (classmates, family members, etc.), \n",
    "# generate the hash values using the perfect hash algorithm.\n",
    "\n",
    "\"\"\"\n",
    "Universal Hash (dynamic data): expected constant time for insertion, deletion and search. Choose hash function randomly \n",
    "from some set of hash functions (universal hash family). \n",
    "\n",
    "Perfect hash function (static data): function that maps set of actual key values to table without any collisons\n",
    "\n",
    "Minimal perfert hash function: function that maps keys to a table that has only as many slots as therea are key values to be hashed,\n",
    "without any collisions.\n",
    "\n",
    "Dynamic perfect hashing: hash function that update themselves when the original set is modified \n",
    "\n",
    "k-perfect hashing: hash functions where at most k elements from original set are mapped onto same value in the range. \n",
    "\"\"\"\n",
    "\n",
    "#https://www.cs.cmu.edu/~avrim/451f11/lectures/lect1004.pdf\n",
    "#https://www.youtube.com/watch?v=z0lJ2k0sl1g&ab_channel=MITOpenCourseWare\n",
    "\n",
    "def get_letter_frequencies(string_set):\n",
    "    #for each word, get first and last letter and determine freqs of those letters\n",
    "    letters = {}\n",
    "    for word in string_set:\n",
    "        for idx in [0, -1]:\n",
    "            if word[idx] in letters:\n",
    "                letters[word[idx]] += 1 \n",
    "            else:\n",
    "                letters.update({word[idx]: 1})\n",
    "    return letters\n",
    "\n",
    "def score_words(string_set, letter_frequencies):\n",
    "    scores = []\n",
    "    for word in string_set:\n",
    "        scores.append(letter_frequencies[word[0]] + letter_frequencies[word[-1]])\n",
    "    return scores \n",
    "\n",
    "class G:\n",
    "    def __init__(self, letter, from_word, i):\n",
    "        self.letter = letter \n",
    "        self.from_word = from_word \n",
    "        self.val = 0\n",
    "        self.i = i\n",
    "    \n",
    "    def reset_val(self):\n",
    "        self.val = 0\n",
    "    \n",
    "    def is_from_word(self, word):\n",
    "        return word == self.from_word \n",
    "    \n",
    "    def __add__(self, integer):\n",
    "        self.val += 1\n",
    "\n",
    "    def __repr__(self):\n",
    "        return f'G(letter={self.letter}, from_word={self.from_word}, val={self.val})'\n",
    "    \n",
    "def add_g(i, word, gs):\n",
    "    curr_gs = [g.letter for g in gs]\n",
    "    if word[0] not in curr_gs:\n",
    "        gs.append(G(word[0], word, i))\n",
    "    if word[-1] not in curr_gs and word[-1] != word[0]:\n",
    "        gs.append(G(word[-1], word, i))\n",
    "    return gs\n",
    "\n",
    "def calc_h(word, gs, m):\n",
    "    g1 = [g.val for g in gs if g.letter == word[0]]\n",
    "    assert len(g1) == 1\n",
    "    g1 = g1[0]\n",
    "    g2 = [g.val for g in gs if g.letter == word[-1]]\n",
    "    assert len(g2) == 1\n",
    "    g2 = g2[0]\n",
    "    return (len(word) + g1 + g2) % m\n",
    "\n",
    "def g_search(sorted_set, max_steps=5):\n",
    "    m = len(sorted_set) #table size \n",
    "    #get all first and last letters \n",
    "    gs = []\n",
    "    i = 0 #track i word\n",
    "    table = [None] * m\n",
    "    while -1 < i < m:\n",
    "        #rollback \n",
    "        #print(table)\n",
    "        rollback = False\n",
    "        word = sorted_set[i]\n",
    "        curr_gs = [g for g in gs[-2:] if g.from_word == word]\n",
    "        if len(curr_gs) == 1:\n",
    "            if curr_gs[0].val == max_steps:\n",
    "                #print(f'rollback 1 {word}')\n",
    "                if word in table:\n",
    "                    table[table.index(word)] = None\n",
    "                gs.pop()\n",
    "                #roll back to previous word that had an entry\n",
    "                i = sorted_set.index(gs[-1].from_word)\n",
    "                rollback = True \n",
    "            \n",
    "        elif len(curr_gs) == 2:\n",
    "            if curr_gs[1].val == max_steps:\n",
    "                #print(f'rollback 2 {word}')\n",
    "                if word in table:\n",
    "                    table[table.index(word)] = None\n",
    "                for _ in range(2):\n",
    "                    gs.pop()\n",
    "                #roll back to previous word that had an entry\n",
    "                i = sorted_set.index(gs[-1].from_word)\n",
    "                rollback = True\n",
    "                \n",
    "        if rollback:\n",
    "            continue   \n",
    "\n",
    "        gs = add_g(i, word, gs)\n",
    "        h = calc_h(word, gs, m)\n",
    "        if table[h] is None:\n",
    "            #print(f'set {word} at {h}')\n",
    "            if word in table:\n",
    "                table[table.index(word)] = None\n",
    "            table[h] = word \n",
    "            i += 1\n",
    "        else:\n",
    "            curr_gs = [g for g in gs[-2:] if g.from_word == word]\n",
    "            if len(curr_gs) == 0:\n",
    "                #print(f'empty g: {word} roll back at {h}')\n",
    "                #return to previous word that had a g entry\n",
    "                i = sorted_set.index(gs[-1].from_word)\n",
    "\n",
    "            elif len(curr_gs) == 1:\n",
    "                #print(f'inc 1 {word} i {i}')\n",
    "                curr_gs[0].val += 1\n",
    "            elif len(curr_gs) == 2:\n",
    "                if curr_gs[0].val < max_steps:\n",
    "                    #print(f'inc j=0 {word} i {i}')\n",
    "                    curr_gs[0].val += 1\n",
    "                else:\n",
    "                    #print(f'inc j=1 {word} i {i}')\n",
    "                    curr_gs[1].val += 1\n",
    "\n",
    "    assert len(set(table)) == len(table)              \n",
    "    return gs\n",
    "\n",
    "def cichellis(string_set, max_steps=5):\n",
    "    freqs = get_letter_frequencies(string_set)\n",
    "    scores = score_words(string_set, freqs)\n",
    "    sorted_set = [word for _, word in sorted(zip(scores, string_set), reverse=True)]\n",
    "    #print(sorted_set)\n",
    "    #returns function g \n",
    "    gs = g_search(sorted_set, max_steps=max_steps)\n",
    "    solution = {}\n",
    "    for word in string_set:\n",
    "        solution.update({word: calc_h(word, gs, len(string_set))})\n",
    "    print(solution)\n",
    "\n",
    "tests = [['kib', 'mib', 'lib', 'nib', 'pib', 'doglion', 'fishcat', 'hib', 'turts', 'squib'],\n",
    "\n",
    "        ['euterpe', 'calliope', 'erato', 'terpsichore', 'melpomene', 'thalia', 'clio', 'polyhymnia', 'urania'],\n",
    "\n",
    "        ['get', 'text', 'reset', 'output', 'maxint', 'input', 'true', 'integer', 'eof', 'rewrite',\n",
    "        'false', 'chr', 'char', 'trunc', 'real', 'sqr']]\n",
    "for test in tests:\n",
    "    cichellis(test, max_steps=len(test))"
   ]
  },
  {
   "cell_type": "code",
   "execution_count": 211,
   "metadata": {},
   "outputs": [],
   "source": [
    "import random\n",
    "import statistics\n",
    "\n",
    "def bubble_sort(lst):\n",
    "    for i in range(len(lst)-1, 0, -1):\n",
    "        exchanges = False\n",
    "        for j in range(1, i+1):\n",
    "            if lst[j-1] > lst[j]:\n",
    "                exchanges = True \n",
    "                lst[j], lst[j-1] = lst[j-1], lst[j]\n",
    "\n",
    "        if not exchanges:\n",
    "            #bubble sort short - terminates if list is sorted\n",
    "            break\n",
    "    return lst\n",
    "\n",
    "def selection_sort(lst):\n",
    "    for i in range(len(lst)-1, 0, -1):\n",
    "        max_i = 0\n",
    "        for j in range(1, i+1):\n",
    "            if lst[j] > lst[max_i]:\n",
    "                max_i = j\n",
    "        lst[i], lst[max_i] = lst[max_i], lst[i]\n",
    "    return lst  \n",
    "\n",
    "def insertion_sort(lst):\n",
    "    for i in range(1, len(lst)):\n",
    "        curr_val = lst[i]\n",
    "        curr_pos = i\n",
    "        while curr_pos > 0:\n",
    "            #compare to previous value \n",
    "            if curr_val < lst[curr_pos-1]:\n",
    "                #prev value greater, so shift value to right \n",
    "                lst[curr_pos] = lst[curr_pos-1]\n",
    "            elif curr_val >= lst[curr_pos-1]:\n",
    "                #found the correct position\n",
    "                break \n",
    "            curr_pos -= 1\n",
    "        lst[curr_pos] = curr_val \n",
    "    return lst \n",
    "            \n",
    "def sublist_sort(lst, start_pos, gap_size):\n",
    "    pos = list(range(start_pos, len(lst), gap_size))\n",
    "    #then just insertion sort for sublist \n",
    "    for i in range(1, len(pos)):\n",
    "        curr_val = lst[pos[i]]\n",
    "        curr_i = i\n",
    "        while curr_i > 0:\n",
    "            if curr_val < lst[pos[curr_i-1]]:\n",
    "                lst[pos[curr_i]] = lst[pos[curr_i-1]]\n",
    "            elif curr_val >= lst[pos[curr_i-1]]:\n",
    "                break\n",
    "            curr_i -= 1\n",
    "        lst[pos[curr_i]] = curr_val \n",
    "    return lst \n",
    "\n",
    "def shell_sort(lst):\n",
    "    n_sublists = len(lst)//2\n",
    "    while n_sublists > 0:\n",
    "        for start in range(n_sublists):\n",
    "            lst = sublist_sort(lst, start, n_sublists)\n",
    "        n_sublists = n_sublists//2\n",
    "    return lst \n",
    "    \n",
    "\n",
    "def merge_sort(lst):\n",
    "    if len(lst) == 1:\n",
    "        return lst\n",
    "    else:\n",
    "        #call mergesort on left and right half \n",
    "        left_half = merge_sort(lst[:len(lst)//2])\n",
    "        right_half = merge_sort(lst[len(lst)//2:])\n",
    "\n",
    "        #merge step \n",
    "        i = 0 #left half pointer \n",
    "        j = 0 #right half pointer \n",
    "        k = 0 #lst pointer \n",
    "\n",
    "        while i < len(left_half) and j < len(right_half):\n",
    "            if left_half[i] >= right_half[j]:\n",
    "                lst[k] = right_half[j]\n",
    "                j += 1\n",
    "            else:\n",
    "                lst[k] = left_half[i]\n",
    "                i += 1\n",
    "            k += 1\n",
    "\n",
    "        #fill rest of list with left half or right half \n",
    "        while i < len(left_half):\n",
    "            lst[k] = left_half[i]\n",
    "            i += 1\n",
    "            k += 1\n",
    "        \n",
    "        while j < len(right_half):\n",
    "            lst[k] = right_half[j]\n",
    "            j += 1\n",
    "            k += 1\n",
    "        \n",
    "        return lst\n",
    "\n",
    "def partition(lst, first, last, method='random'):\n",
    "    assert method in ['random', 'first', 'last', 'median']\n",
    "    if method == 'random':\n",
    "        #pivot point will be element chosen at random \n",
    "        pivot = random.choice(range(first, last+1))\n",
    "        #place pivot at start of list just to make things neater \n",
    "        if pivot != first:\n",
    "            lst[first], lst[pivot] = lst[pivot], lst[first]\n",
    "    elif method == 'first':\n",
    "        #do nothing\n",
    "        pass\n",
    "    elif method == 'last':\n",
    "        #swap first and last elements\n",
    "        lst[first], lst[last] = lst[last], lst[first]\n",
    "    elif method == 'median':\n",
    "        #uses median of three\n",
    "        middle = (first+last)//2\n",
    "        choices = [lst[first], lst[middle], lst[last]]\n",
    "        median = statistics.median(choices)\n",
    "        median_idx = choices.index(median)\n",
    "        if median_idx == 1:\n",
    "            lst[middle], lst[first] = lst[first], lst[middle]\n",
    "        elif median_idx == 2:\n",
    "            lst[last], lst[first] = lst[first], lst[last]\n",
    "        \n",
    "    i = first + 1\n",
    "    j = last\n",
    "    while True:\n",
    "        # i <= j conditional has to come FIRST!! \n",
    "        # or else when i > j and j is last will run into error\n",
    "        while i <= j and lst[i] <= lst[first]:\n",
    "            i += 1\n",
    "\n",
    "        while i <= j and lst[j] >= lst[first]:\n",
    "            j -= 1\n",
    "        \n",
    "        if i > j:\n",
    "            break\n",
    "        else:\n",
    "            #swap and keep moving i and j \n",
    "            lst[i], lst[j] = lst[j], lst[i]\n",
    "\n",
    "        \n",
    "    lst[j], lst[first] = lst[first], lst[j]\n",
    "    return j\n",
    "\n",
    "\n",
    "def quicksorter(lst, first, last, method='random'):\n",
    "    if first < last:\n",
    "        pivot = partition(lst, first, last, method=method)\n",
    "        quicksorter(lst, first, pivot-1, method=method)\n",
    "        quicksorter(lst, pivot+1, last, method=method)\n",
    "        return lst\n",
    "\n",
    "def quick_sort(lst, method='random'):\n",
    "    return quicksorter(lst, 0, len(lst)-1, method=method)\n",
    "    \n"
   ]
  },
  {
   "cell_type": "code",
   "execution_count": 204,
   "metadata": {},
   "outputs": [],
   "source": [
    "# 5. Generate a random list of integers. Show how this list is sorted by the following algorithms:\n",
    "# bubble sort, selection sort, insertion sort, shell sort (you decide on increments),\n",
    "# merge sort, quick sort (you decide on pivot value)\n",
    "\n",
    "# 6. Consider the following list of integers: [1, 2, 3, 4, 5, 6, 7, 8, 9, 10]\n",
    "\n",
    "# 7. Consider the following list of integers: [10, 9, 8, 7, 6, 5, 4, 3, 2, 1]\n",
    "\n",
    "# 8. Consider the list of characters: [\"P\", \"Y\", \"T\", \"H\", \"O\", \"N\"]\n",
    "\n",
    "#just going to test the algorithms using the different test cases provided \n",
    "\n",
    "import random\n",
    "\n",
    "methods = [bubble_sort, selection_sort, shell_sort, merge_sort, quick_sort]\n",
    "\n",
    "for method in methods:\n",
    "    test_cases = [ [1, 2, 3, 4, 5, 6, 7, 8, 9, 10] ,\n",
    "                [10, 9, 8, 7, 6, 5, 4, 3, 2, 1],\n",
    "                [\"P\", \"Y\", \"T\", \"H\", \"O\", \"N\"],\n",
    "                [random.randint(0, 100) for _ in range(10)]]\n",
    "\n",
    "    for test in test_cases:\n",
    "        if method(test) != sorted(test):\n",
    "            print(f'{method.__name__} failed {test}')\n"
   ]
  },
  {
   "cell_type": "markdown",
   "metadata": {},
   "source": [
    "Devise alternative strategies for choosing the pivot value in quick sort. \n",
    "For example, pick the middle item. Re-implement the algorithm and then execute it on random data sets. \n",
    "Under what criteria does your new strategy perform better or worse than the strategy from this chapter?\n",
    "\n",
    "\n",
    "alternative strategies: \n",
    "    - choosing final element: performance should be similar to choosing first element, unless median elements are clustered at the \n",
    "    tail of the list \n",
    "    - choosing middle element: performance will be better when list is sorted, as it will preserve the log(n) partitions in\n",
    "    those cases \n",
    "    - random pivot: low probability of the worst case of O(n^2) when bad pivots are chosen!"
   ]
  },
  {
   "cell_type": "markdown",
   "metadata": {},
   "source": [
    "# Programming exercises"
   ]
  },
  {
   "cell_type": "code",
   "execution_count": 8,
   "metadata": {},
   "outputs": [
    {
     "data": {
      "text/plain": [
       "<matplotlib.legend.Legend at 0x111641d90>"
      ]
     },
     "execution_count": 8,
     "metadata": {},
     "output_type": "execute_result"
    },
    {
     "data": {
      "image/png": "[encoded data removed]",
      "text/plain": [
       "<Figure size 432x288 with 1 Axes>"
      ]
     },
     "metadata": {
      "needs_background": "light"
     },
     "output_type": "display_data"
    }
   ],
   "source": [
    "# 1. Set up a random experiment to test the difference between a sequential search and a binary search on a list of integers\n",
    "from timeit import Timer\n",
    "import matplotlib.pyplot as plt\n",
    "import numpy as np \n",
    "\n",
    "def sequential_search(lst, item):\n",
    "    for i in range(len(lst)):\n",
    "        if lst[i] == item:\n",
    "            return True\n",
    "    return None \n",
    "\n",
    "def binary_search(lst, item):\n",
    "    left = 0\n",
    "    right = len(lst)-1\n",
    "    while left <= right:\n",
    "        middle = (left + right)//2 \n",
    "        if lst[middle] == item:\n",
    "            return True \n",
    "        elif lst[middle] < item:\n",
    "            left = middle + 1\n",
    "        elif lst[middle] > item:\n",
    "            right = middle - 1\n",
    "    return None \n",
    "\n",
    "X = []\n",
    "Y1 = [] #sequential\n",
    "Y2 = [] #binary\n",
    "number = 1_00\n",
    "for size in np.linspace(10, 100_00):\n",
    "    size = int(size)\n",
    "    x = [random.randint(0, size) for _ in range(size)]\n",
    "    y = random.randint(0, size//2)\n",
    "    t1 = Timer(f\"sequential_search(x, y)\", \"from __main__ import x, y, sequential_search\")\n",
    "    t2 = Timer(f\"binary_search(x, y)\", \"from __main__ import x, y, binary_search\")\n",
    "    X.append(size)\n",
    "    Y1.append(t1.timeit(number=number))\n",
    "    Y2.append(t2.timeit(number=number))\n",
    "\n",
    "\n",
    "plt.plot(X, Y1, color='blue', marker='.', label='Sequential')\n",
    "plt.plot(X, Y2, color='red', marker='.', label='Binary')\n",
    "\n",
    "\n",
    "plt.xlabel('n')\n",
    "plt.ylabel('time(s)')\n",
    "plt.legend()\n"
   ]
  },
  {
   "cell_type": "markdown",
   "metadata": {},
   "source": [
    "Generally speaking, sequential search's run time increased linearly with the increase of n, whilst binary search's search time increase is much slower (log(n) complexity worse case). The run time is not perfectly linear for sequential because there could be cases where the target element is located near the head of the list, and so the function can be terminated early once the element is found."
   ]
  },
  {
   "cell_type": "code",
   "execution_count": 9,
   "metadata": {},
   "outputs": [
    {
     "data": {
      "text/plain": [
       "<matplotlib.legend.Legend at 0x1115a6970>"
      ]
     },
     "execution_count": 9,
     "metadata": {},
     "output_type": "execute_result"
    },
    {
     "data": {
      "image/png": "[encoded data removed]",
      "text/plain": [
       "<Figure size 432x288 with 1 Axes>"
      ]
     },
     "metadata": {
      "needs_background": "light"
     },
     "output_type": "display_data"
    }
   ],
   "source": [
    "# 2. Use the binary search functions given in the text (recursive and iterative). Generate a random, \n",
    "# ordered list of integers and do a benchmark analysis for each one. What are your results? Can you explain them?\n",
    "def recursive_slicing_main(lst, item):\n",
    "    left = 0 \n",
    "    right = len(lst) - 1\n",
    "    if left <= right:\n",
    "        middle = (left + right) // 2 \n",
    "        if lst[middle] == item:\n",
    "            return True \n",
    "        elif lst[middle] < item:\n",
    "            return recursive_slicing_main(lst[middle+1:], item)\n",
    "        elif lst[middle] > item:\n",
    "            return recursive_slicing_main(lst[:middle], item)\n",
    "    return None \n",
    "\n",
    "def binary_search_recursive_slicing(lst, item):\n",
    "    return recursive_slicing_main(lst, item)\n",
    "\n",
    "X = []\n",
    "Y1 = [] #iterative\n",
    "Y2 = [] #recursive\n",
    "number = 1_00\n",
    "for size in np.linspace(10, 100_000):\n",
    "    size = int(size)\n",
    "    x = [random.randint(0, size) for _ in range(size)]\n",
    "    y = random.randint(0, size//2)\n",
    "    t1 = Timer(f\"binary_search(x, y)\", \"from __main__ import x, y, binary_search\")\n",
    "    t2 = Timer(f\"binary_search_recursive_slicing(x, y)\", \"from __main__ import x, y, binary_search_recursive_slicing\")\n",
    "    X.append(size)\n",
    "    Y1.append(t1.timeit(number=number))\n",
    "    Y2.append(t2.timeit(number=number))\n",
    "\n",
    "\n",
    "plt.plot(X, Y1, color='blue', marker='.', label='Iterative')\n",
    "plt.plot(X, Y2, color='red', marker='.', label='Recursive')\n",
    "\n",
    "\n",
    "plt.xlabel('n')\n",
    "plt.ylabel('time(s)')\n",
    "plt.legend()\n",
    "    "
   ]
  },
  {
   "cell_type": "markdown",
   "metadata": {},
   "source": [
    "Across the different input sizes, generally speaking iterative binary search is quicker than that of recursive binary search. This may be because calling functions within python involves creating creating new stack frames, which is likely to be more costly than simply running a while loop. Also, in the above implementation of recursive binary search slicing is involved which is an O(K) operation where K is the size of the slice. The could also add to the run time of the algorithm."
   ]
  },
  {
   "cell_type": "code",
   "execution_count": 10,
   "metadata": {},
   "outputs": [
    {
     "data": {
      "text/plain": [
       "<matplotlib.legend.Legend at 0x1118a0370>"
      ]
     },
     "execution_count": 10,
     "metadata": {},
     "output_type": "execute_result"
    },
    {
     "data": {
      "image/png": "[encoded data removed]",
      "text/plain": [
       "<Figure size 432x288 with 1 Axes>"
      ]
     },
     "metadata": {
      "needs_background": "light"
     },
     "output_type": "display_data"
    }
   ],
   "source": [
    "# 3. Implement the binary search using recursion without the slice operator. \n",
    "# Recall that you will need to pass the list along with the starting and ending index values for the sublist. \n",
    "# Generate a random, ordered list of integers and do a benchmark analysis.\n",
    "\n",
    "def recursive_indices_main(lst, item, left, right):\n",
    "    if left <= right:\n",
    "        middle = (left + right) // 2 \n",
    "        if lst[middle] == item:\n",
    "            return middle \n",
    "        elif lst[middle] < item:\n",
    "            return recursive_indices_main(lst, item, middle+1, right)\n",
    "        elif lst[middle] > item:\n",
    "            return recursive_indices_main(lst, item, left, middle-1)\n",
    "    return None \n",
    "\n",
    "def binary_search_recursive_indices(lst, item):\n",
    "    return recursive_indices_main(lst, item, 0, len(lst)-1)\n",
    "\n",
    "X = []\n",
    "Y1 = [] #slicing\n",
    "Y2 = [] #indices\n",
    "number = 1_00\n",
    "for size in np.linspace(10, 100_000):\n",
    "    size = int(size)\n",
    "    x = [random.randint(0, size) for _ in range(size)]\n",
    "    y = random.randint(0, size//2)\n",
    "    t1 = Timer(f\"binary_search_recursive_slicing(x, y)\", \"from __main__ import x, y, binary_search_recursive_slicing\")\n",
    "    t2 = Timer(f\"binary_search_recursive_indices(x, y)\", \"from __main__ import x, y, binary_search_recursive_indices\")\n",
    "    X.append(size)\n",
    "    Y1.append(t1.timeit(number=number))\n",
    "    Y2.append(t2.timeit(number=number))\n",
    "\n",
    "\n",
    "plt.plot(X, Y1, color='blue', marker='.', label='w/ slicing')\n",
    "plt.plot(X, Y2, color='red', marker='.', label='w/ indices')\n",
    "\n",
    "\n",
    "plt.xlabel('n')\n",
    "plt.ylabel('time(s)')\n",
    "plt.legend()\n"
   ]
  },
  {
   "cell_type": "markdown",
   "metadata": {},
   "source": [
    "Comparing run times across different ns, binary search with slicing in general is more costly and so takes additional runtime comapred to binary search without slicing. This experiment demonstrates the additional cost involved with O(K) slicing especially as n increases, as K would also increase proportionally."
   ]
  },
  {
   "cell_type": "code",
   "execution_count": 11,
   "metadata": {},
   "outputs": [],
   "source": [
    "# 4. Implement the len method (__len__) for the hash table Map ADT implementation.\n",
    "\n",
    "# 5. Implement the in method (__contains__) for the hash table Map ADT implementation.\n",
    "\n",
    "# 6. Implement the method (__del__) for the hash table Map ADT implementation.\n",
    "\n",
    "# 7. In the hash table map implementation, the hash table size was chosen to be 101. \n",
    "# If the table gets full, this needs to be increased. Re-implement the put method so that the table will automatically \n",
    "# resize itself when the loading factor reaches a predetermined value \n",
    "# (you can decide the value based on your assessment of load versus performance).\n",
    "\n",
    "# 8. Implement quadratic probing as a rehash technique.\n",
    "\n",
    "\n",
    "\n",
    "from pythonds3 import HashTable\n",
    "from typing import Any\n",
    "\n",
    "class ModHashTable(HashTable):\n",
    "    def __init__(self, *args, max_lambda=0.75, factor=2, quadratic_probing=False, compression=False, **kwargs):\n",
    "        super().__init__(*args, **kwargs)\n",
    "        self.del_marker = 'DELETE'\n",
    "        self.max_lambda = max_lambda\n",
    "        self.factor = factor\n",
    "        self.quadratic_probing = quadratic_probing\n",
    "        if quadratic_probing:\n",
    "            self._rehash = self.quadratic_probing\n",
    "            assert compression == False \n",
    "\n",
    "        #self._probes stores the number of probes needed to store an item i.e. the number of hashes required to place item\n",
    "        self._probes = [0] * self._size\n",
    "        self.compression = compression\n",
    "        if self.compression:\n",
    "            self.del_marker = None \n",
    "\n",
    "    def __len__(self):\n",
    "        #HashTable uses open addressing so simply need to check how many slots are occupied \n",
    "        return len([i for i in self._slots if type(i) == int])\n",
    "\n",
    "    def __contains__(self, key):\n",
    "        #in the github repo of the package the __contains__ method is simply \n",
    "        #return key in self._slots\n",
    "        #which is fine, but below is more specific to hashtables that use open addressing, which is used in the \n",
    "        #parent class\n",
    "        hash_value = self._hash_function(key, len(self._slots))\n",
    "        if self._slots[hash_value] is None:\n",
    "            return False \n",
    "        else:\n",
    "            if self._slots[hash_value] == key:\n",
    "                return True \n",
    "            else:\n",
    "                #if slot is occupied and != key, then search rest of slots b/c open addressing\n",
    "                j = 0\n",
    "                next_slot = self._rehash(hash_value, len(self._slots), j)\n",
    "                while (\n",
    "                self._slots[next_slot] is not None \n",
    "                and self._slots[next_slot] != key\n",
    "                and j < self._size):\n",
    "                    j += 1\n",
    "                    next_slot = self._rehash(hash_value, len(self._slots), j)\n",
    "                \n",
    "                if j == self._size:\n",
    "                    return False \n",
    "                else:\n",
    "                    return self._slots[next_slot] == key\n",
    "\n",
    "    def put(self, key: int, data: Any, resize=True) -> None:\n",
    "        \"\"\"Add an item to the table - modified to recognize deletion key as free slot as well, and automatically\n",
    "        readjust table size when max_lambda reached\"\"\"\n",
    "        hash_value = self._hash_function(key, len(self._slots))\n",
    "\n",
    "        if self._slots[hash_value] in [None, self.del_marker]:\n",
    "            self._slots[hash_value] = key\n",
    "            self._data[hash_value] = data\n",
    "            self._probes[hash_value] = 1\n",
    "        else:\n",
    "            if self._slots[hash_value] == key:\n",
    "                self._data[hash_value] = data  # replace\n",
    "            else:\n",
    "                j = 0\n",
    "                next_slot = self._rehash(hash_value, len(self._slots), j)\n",
    "                while (\n",
    "                    self._slots[next_slot] not in [None, self.del_marker]\n",
    "                    and self._slots[next_slot] != key\n",
    "                    and j < self._size\n",
    "                ):\n",
    "                    j = j + 1\n",
    "                    next_slot = self._rehash(hash_value, len(self._slots), j)\n",
    "\n",
    "                if self._slots[next_slot] in [None, self.del_marker]:\n",
    "                    self._slots[next_slot] = key\n",
    "                    self._data[next_slot] = data\n",
    "                    #store number of probes \n",
    "                    self._probes[next_slot] = j + 1\n",
    "                elif j == self._size:\n",
    "                    raise MemoryError(\"Hash Table is full\")\n",
    "                else:\n",
    "                    self._data[next_slot] = data  # replace\n",
    "\n",
    "        #assess load factor here, and see if need to expand/reduce slots \n",
    "        if resize:\n",
    "            curr_lambda = len(self)/self._size\n",
    "            if curr_lambda > self.max_lambda:\n",
    "                self.resize(self.factor)\n",
    "        \n",
    "    def resize(self, factor):\n",
    "        print(f'resizing by factor of {factor}')\n",
    "        #automatic resize of the table according to a predetermined factor \n",
    "        new_size = int(self._size * factor) #b/c we're using +1 linear probing, don't need to use a prime number \n",
    "        old_slots = self._slots  \n",
    "        old_data = self._data \n",
    "        #initialise new slots, data and probes\n",
    "        self._slots = [None] * new_size \n",
    "        self._data = [None] * new_size\n",
    "        self._probes = [None] * new_size\n",
    "        for i, key in enumerate(old_slots):\n",
    "            if key is not None:\n",
    "                self.put(key, old_data[i], resize=False)\n",
    "\n",
    "        self._size = new_size\n",
    "\n",
    "\n",
    "    def __delitem__(self, key):\n",
    "        #this is called lazy deletion\n",
    "        hash_value = self._hash_function(key, len(self._slots))\n",
    "        if self._slots[hash_value] is None:\n",
    "            #key does not exist in here!\n",
    "            return False \n",
    "        else:\n",
    "            if self._slots[hash_value] == key:\n",
    "                #remove key and data - mark slot with deletion key\n",
    "                self._slots[hash_value] = self.del_marker\n",
    "                self._data[hash_value] = None \n",
    "                if self.compression:\n",
    "                    self.linear_compress(hash_value)\n",
    "            else:\n",
    "                #go into probing sequence to find key\n",
    "                j = 0\n",
    "                next_slot = self._rehash(hash_value, len(self._slots), j)\n",
    "                while (\n",
    "                    self._slots[next_slot] is not None\n",
    "                    and self._slots[next_slot] != key \n",
    "                    and j < self._size\n",
    "                ):\n",
    "                    j += 1\n",
    "                    next_slot = self._rehash(hash_value, len(self._slots), j)\n",
    "                \n",
    "                if self._slots[next_slot] is None:\n",
    "                    #key does not exist\n",
    "                    return False\n",
    "                elif j == self._size:\n",
    "                    #searched all slots and key not found\n",
    "                    return False \n",
    "                else:\n",
    "                    #key found\n",
    "                    self._slots[next_slot] = self.del_marker\n",
    "                    self._data[next_slot] = None\n",
    "                    if self.compression:\n",
    "                        self.linear_compress(next_slot)\n",
    "\n",
    "\n",
    "    def linear_compress(self, i):\n",
    "        \"\"\"\n",
    "        https://upcommons.upc.edu/bitstream/handle/2117/122770/Jimenez.pdf;jsessionid=B5010B56042F189470605C580E7CF454?sequence=1\n",
    "        __delitem__ itself causes problems (also called lazy deletion), where if there are lots of deletions, the \n",
    "        remaining tombstones will cause search for certain items to be slow, even if the list is largely empty, as the \n",
    "        probe sequence from when the list is still full is kept in tact. To combat this, at every removal we can \n",
    "        compress the implicit linked lists within the table, thereby maintaining efficiency. This particular compress method\n",
    "        is only suitable for linear probing, but another implementation of is illustrated in the link above for other types of\n",
    "        open addressing.\n",
    "        \"\"\"\n",
    "        free = i\n",
    "        next_slot = self._rehash(i, len(self._slots), 1)\n",
    "        p = 1\n",
    "        while self._probes[next_slot] != 0:\n",
    "            if self._probes[next_slot] > p:\n",
    "                self._slots[free], self._slots[next_slot] = self._slots[next_slot], self._slots[free]\n",
    "                self._data[free], self._data[next_slot] = self._data[next_slot], self._data[free]\n",
    "                self._probes[free] = self._probes[next_slot] - p\n",
    "                self._probes[next_slot] = 0\n",
    "                free = next_slot \n",
    "                p = 0\n",
    "            next_slot = self._rehash(next_slot, len(self._slots), 1)\n",
    "            p += 1\n",
    "\n",
    "    def quadratic_probing(self, old_hash: int, size: int, step: int):\n",
    "        return (old_hash + step**2) % size\n",
    "\n",
    "\n",
    "\n"
   ]
  },
  {
   "cell_type": "markdown",
   "metadata": {},
   "source": [
    "##### 6. How can you delete items from a hash table that uses chaining for collision resolution? How about if open addressing is used? What are the special circumstances that must be handled? Implement the del method for the HashTable class.\n",
    "\n",
    "\n",
    "If hash table uses chaining for collision resolution, in a deletion we can first navigate to the query key's hash_value,\n",
    "we then traverse the linked list stored at that slot, and remove an element as we would in a normal linked list.\n",
    "If open addressing is used, then we would again navigate to query key's hash_value. If the key exists in the initial location,\n",
    "we will remove the element. However, if a different key is found, we will rehash the hash_value to find the next possible location.\n",
    "This step is repeated until the key is found, which in the worse case requires traversal of the whole list. \n",
    "\n",
    "\n",
    "A special circumstance that must be handled in open addressing is illustrated in the following example:\n",
    "(https://stackoverflow.com/questions/9127207/hash-table-why-deletion-is-difficult-in-open-addressing-scheme):\n",
    "<br>\n",
    "<br>\n",
    "`\n",
    "hash(x) = hash(y) = hash(z)\n",
    "`\n",
    "<br>\n",
    "<br>\n",
    "In an open addressing scheme, we would get:\n",
    "<br>\n",
    "<br>\n",
    "`\n",
    "    table[i] = x, table[i+1] = y, table[i+2] = z\n",
    "`\n",
    "<br>\n",
    "<br>\n",
    "In this scenario, if we deleted x from the table, if we later want to search for y or z, we will find that:\n",
    "<br>\n",
    "<br>\n",
    "`\n",
    "    hash(z) = i, and table[i] = None\n",
    "`\n",
    "<br>\n",
    "<br>\n",
    "And we would not be able to find y and z, as it would seem as if they do not exist in the table. \n",
    "To overcome this, we need to set table[i] with a special marker (e.g. 'DELETED') to indicate to the search function \n",
    "to keep searching, because y and z may still be in the table.\n",
    "<br>\n",
    "^ this is almost like keeping an implicit linked list within the table, where elements with the same probe sequence\n",
    "are searched/added/deleted from this implicit list. Deleting an earlier element therefore is equal to destroying a linked list! \n",
    "<br>\n",
    "^ in a poor scenario, where many elements have the same probe sequence, but there have been a lot of subsequent deletions \n",
    "within this list, we will be left with a very empty list (but filled with 'DELETED'), but search will remain costly, because \n",
    "of all the deletion marks\n",
    "\n"
   ]
  },
  {
   "cell_type": "code",
   "execution_count": 12,
   "metadata": {},
   "outputs": [
    {
     "name": "stdout",
     "output_type": "stream",
     "text": [
      "size 16\n",
      "[None, None, None, None, None, None, None, None, None, None, None, 75, 91, 107, None, None]\n",
      "[None, None, None, None, None, None, None, None, None, None, None, 'DELETE', 91, 107, None, None]\n",
      "True\n",
      "True\n",
      "resizing by factor of 2\n",
      "[251, None, None, None, None, None, None, None, None, None, None, 171, 203, 107, 139, 235, 267, None, None, None, None, None, None, None, None, None, None, 155, 187, 91, 123, 219]\n",
      "32\n"
     ]
    }
   ],
   "source": [
    "#Test hash table \n",
    "a = ModHashTable(quadratic_probing=False, max_lambda=0.5)\n",
    "print(f'size {a._size}')\n",
    "a.put(75, '75')\n",
    "a.put(91, '91')\n",
    "a.put(107, '107')\n",
    "print(a._slots)\n",
    "del a[75]\n",
    "print(a._slots)\n",
    "#check that probe sequence is not broken\n",
    "print(91 in a)\n",
    "print(107 in a)\n",
    "\n",
    "#try resizing \n",
    "for i in range(107, 107 + (11 * 16), 16):\n",
    "    a.put(i, str(i))\n",
    "\n",
    "print(a._slots)\n",
    "print(a._size)\n"
   ]
  },
  {
   "cell_type": "code",
   "execution_count": 13,
   "metadata": {},
   "outputs": [
    {
     "name": "stdout",
     "output_type": "stream",
     "text": [
      "[0, 16, 32, 48, 19, None, None, None, None, None, None, None, None, None, None, None]\n",
      "[1, 2, 3, 4, 2, 0, 0, 0, 0, 0, 0, 0, 0, 0, 0, 0]\n",
      "[0, 32, None, 19, None, None, None, None, None, None, None, None, None, None, None, None]\n",
      "[1, 2, 3, 1, 0, 0, 0, 0, 0, 0, 0, 0, 0, 0, 0, 0]\n",
      "False\n",
      "True\n",
      "[0, 32, 18, 19, None, None, None, None, None, None, None, None, None, None, None, None]\n",
      "[1, 2, 1, 1, 0, 0, 0, 0, 0, 0, 0, 0, 0, 0, 0, 0]\n",
      "[32, None, None, 19, None, None, None, None, None, None, None, None, None, None, None, None]\n",
      "[1, 0, 1, 1, 0, 0, 0, 0, 0, 0, 0, 0, 0, 0, 0, 0]\n"
     ]
    }
   ],
   "source": [
    "#Test compression deletion \n",
    "b = ModHashTable(quadratic_probing=False, compression=True, max_lambda=0.5)\n",
    "b.put(0, '0')\n",
    "b.put(16, '16')\n",
    "b.put(32, '32')\n",
    "b.put(48, '48')\n",
    "b.put(19, '19')\n",
    "print(b._slots)\n",
    "print(b._probes)\n",
    "del b[16]\n",
    "del b[48]\n",
    "print(b._slots)\n",
    "print(b._probes)\n",
    "print(48 in b)\n",
    "print(19 in b)\n",
    "b.put(18, '18')\n",
    "print(b._slots)\n",
    "print(b._probes)\n",
    "del b[0]\n",
    "del b[18]\n",
    "print(b._slots)\n",
    "print(b._probes)\n",
    "\n"
   ]
  },
  {
   "cell_type": "code",
   "execution_count": 205,
   "metadata": {},
   "outputs": [
    {
     "name": "stderr",
     "output_type": "stream",
     "text": [
      "WARNING:matplotlib.legend:No artists with labels found to put in legend.  Note that artists whose label start with an underscore are ignored when legend() is called with no argument.\n"
     ]
    },
    {
     "data": {
      "text/plain": [
       "<matplotlib.legend.Legend at 0x1146124f0>"
      ]
     },
     "execution_count": 205,
     "metadata": {},
     "output_type": "execute_result"
    },
    {
     "data": {
      "image/png": "[encoded data removed]",
      "text/plain": [
       "<Figure size 432x288 with 1 Axes>"
      ]
     },
     "metadata": {
      "needs_background": "light"
     },
     "output_type": "display_data"
    }
   ],
   "source": [
    "# 9. Using a random number generator, create a list of 500 integers. \n",
    "# Perform a benchmark analysis using some of the sorting algorithms from this chapter. \n",
    "# What is the difference in execution speed?\n",
    "import copy\n",
    "\n",
    "X = []\n",
    "sorts = ['bubble_sort', 'selection_sort', 'insertion_sort', 'shell_sort', 'merge_sort', 'quick_sort']\n",
    "Y = []\n",
    "for _ in range(len(sorts)):\n",
    "    Y.append([])\n",
    "number = 1_00\n",
    "size = int(500)\n",
    "x = [random.randint(0, size) for _ in range(size)]\n",
    "for i,sort in enumerate(sorts):\n",
    "    t = Timer(f\"{sort}(copy.deepcopy(x))\", f\"from __main__ import copy, x, {sort}, size\")\n",
    "    Y[i].append(t.timeit(number=number))\n",
    "X.append(size)\n",
    "\n",
    "\n",
    "colours = generate_n_colours(len(sorts))\n",
    "\n",
    "for i, (sort, colour) in enumerate(zip(sorts, colours)):\n",
    "    plt.bar(sort.split('_')[0], Y[i], color=colour)\n",
    "\n",
    "\n",
    "plt.xlabel('methods')\n",
    "plt.ylabel('time(s)')\n",
    "plt.legend()\n"
   ]
  },
  {
   "cell_type": "markdown",
   "metadata": {},
   "source": [
    "Bubble sort exhibits the worse performance, as there are the a lot of redundant comparisons and substitutions in each pass. Selection sort being an improved version of bubble sort showed much better performance, where in each pass only one substitution is done. Insertion sort was slightly worse than selection sort, perhaps because the the random list had many small elements towards the tail of the list, so there were more comparisons and shifts needed to place them in the correct location. Shell, merge and quick sort all showed similar performance, where the execution time is a fraction of the former three. Shell sort in particular was surprising, given it's a modified version of insertion sort. But during the sublist sort it gives smaller elements the opportunity to travel down the list quicker, reducing the number of comparisons and shifts required greatly. Merge sort is expected to demonstrate great performance, given the worse case O(n) is always nlogn, and because the list isn't that big, memory wasn't a factor in hindering performance. Quick sort also showed great performance, as this implementation randomly chooses a pivot such that the average case performance will be nlogn, meaning good pivots were chosen generally, and the worse case O(n^2) was not encountered."
   ]
  },
  {
   "cell_type": "code",
   "execution_count": 15,
   "metadata": {},
   "outputs": [],
   "source": [
    "\"\"\"\n",
    "10. A bubble sort can be modified to “bubble” in both directions. The first pass moves “up” the list, \n",
    "and the second pass moves “down.” This alternating pattern continues until no more passes are necessary. \n",
    "Implement this variation and describe under what circumstances it might be appropriate.\n",
    "\"\"\"\n",
    "\n",
    "def bubble_sort_bidirectional(lst):\n",
    "    i = len(lst)-1\n",
    "    j = 0\n",
    "    while j < i:\n",
    "        exchanges = False\n",
    "        for k in range(1, i+1):\n",
    "            if lst[k-1] > lst[k]:\n",
    "                exchanges = True \n",
    "                lst[k], lst[k-1] = lst[k-1], lst[k]\n",
    "        i -= 1\n",
    "\n",
    "        for k in range(i, j, -1):\n",
    "            if lst[k] < lst[k-1]:\n",
    "                exchanges = True \n",
    "                lst[k], lst[k-1] = lst[k-1], lst[k]\n",
    "        j += 1\n",
    "        if not exchanges:\n",
    "            break\n",
    "\n",
    "    return lst\n",
    "\n"
   ]
  },
  {
   "cell_type": "code",
   "execution_count": 139,
   "metadata": {},
   "outputs": [],
   "source": [
    "test_cases = [ [1, 2, 3, 4, 5, 6, 7, 8, 9, 10] ,\n",
    "            [10, 9, 8, 7, 6, 5, 4, 3, 2, 1],\n",
    "            [\"P\", \"Y\", \"T\", \"H\", \"O\", \"N\"],\n",
    "            [random.randint(0, 100) for _ in range(100)]]\n",
    "\n",
    "for test in test_cases:\n",
    "    if bubble_sort_bidirectional(test) != sorted(test):\n",
    "        print(f'failed {test}')"
   ]
  },
  {
   "cell_type": "markdown",
   "metadata": {},
   "source": [
    "Bidirectional bubble sort (aka. cocktail sort/shaker sort), is more appropriate when elements are close to their sorted locations, and is generally faster than plain bubble sort. A scenario that illustrates this is when the list is partially sorted (e.g. [2,3,4,5,1]), if plain bubble sort is used it would take four passes for the list to be sorted, whereas it would only take one pass for bidirectional sort to sort the list. (another way of thinking about it is that an element at the end of the list can only move back by one each pass in plain bubble sort, whereas bidirectional sort offers a path to the head of the list quickly.)"
   ]
  },
  {
   "cell_type": "code",
   "execution_count": 17,
   "metadata": {},
   "outputs": [
    {
     "name": "stderr",
     "output_type": "stream",
     "text": [
      "No artists with labels found to put in legend.  Note that artists whose label start with an underscore are ignored when legend() is called with no argument.\n"
     ]
    },
    {
     "data": {
      "text/plain": [
       "<matplotlib.legend.Legend at 0x11185c160>"
      ]
     },
     "execution_count": 17,
     "metadata": {},
     "output_type": "execute_result"
    },
    {
     "data": {
      "image/png": "[encoded data removed]",
      "text/plain": [
       "<Figure size 432x288 with 1 Axes>"
      ]
     },
     "metadata": {
      "needs_background": "light"
     },
     "output_type": "display_data"
    }
   ],
   "source": [
    "\"\"\"\n",
    "11. Perform a benchmark analysis for a shell sort, using different increment sets on the same list.\n",
    "\"\"\"\n",
    "\n",
    "def shell_sort_static(lst, gap_size):\n",
    "    while gap_size > 0:\n",
    "        for start in range(gap_size):\n",
    "            lst = sublist_sort(lst, start, gap_size)\n",
    "        gap_size = gap_size//2\n",
    "    return lst \n",
    "\n",
    "X = []\n",
    "gaps = range(1, 32+1)\n",
    "Y = []\n",
    "for _ in range(len(gaps)):\n",
    "    Y.append([])\n",
    "number = 1_00\n",
    "size = int(1000)\n",
    "x = [random.randint(0, size) for _ in range(size)]\n",
    "for i,gap in enumerate(gaps):\n",
    "    t = Timer(f\"shell_sort_static(copy.deepcopy(x), gap)\", f\"from __main__ import copy, x, shell_sort_static, gap\")\n",
    "    Y[i].append(t.timeit(number=number))\n",
    "X.append(size)\n",
    "\n",
    "colours = generate_n_colours(len(gaps))\n",
    "\n",
    "for i, (gap, colour) in enumerate(zip(gaps, colours)):\n",
    "    plt.bar(gap, Y[i], color=colour)\n",
    "\n",
    "\n",
    "plt.xlabel('gap sizes')\n",
    "plt.ylabel('time(s)')\n",
    "plt.legend()\n"
   ]
  },
  {
   "cell_type": "markdown",
   "metadata": {},
   "source": [
    "From the results, as the gap size increased, there was also performance increase. Even a gap size of 2 compared to gap size of 1 (which is ordinary insertion sort) yielded great performance boost. This is because a greater gap size allows elements to traverse further down the list with fewer comparisons and shifts. However, as the gap size increased to around 15, the performance of the sorting flattened. This may be because at higher gap sizes although elements can travel further, there is also a tradeoff where more sublist sorts have to be performed in the process as there are greater gap sizes that are visited, leading to performance plateau. There are other ways to select the decrementing gap sizes (e.g. 2<sup>k</sup> - 1 sequence, or Successive numbers of the form 2<sup>p</sup>3<sup>q</sup> - current implementation only doing simple n/2 sequence from an initial defined gap size, which is modified from len(lst)/2 original implementation) which can avoid the worse case time complexity of O(n<sup>2</sup>) of the current implementation."
   ]
  },
  {
   "cell_type": "code",
   "execution_count": 135,
   "metadata": {},
   "outputs": [],
   "source": [
    "\"\"\"\n",
    "12. Implement the merge_sort function without using the slice operator.\n",
    "\"\"\"\n",
    "\n",
    "def merge_sort_indexing(lst):\n",
    "    return merge_indexing_main(lst, 0, len(lst))\n",
    "\n",
    "def merge_indexing_main(lst, left, right):\n",
    "    #right-left is better than left < right -- infinite recursion occurs when left and right are adjacent,\n",
    "    #b/c middle will always be left!\n",
    "    if right - left > 1:\n",
    "        #call mergesort on left and right half \n",
    "        middle = (left+right)//2\n",
    "        \n",
    "        #inplace operations so\n",
    "        merge_indexing_main(lst, left, middle)\n",
    "        merge_indexing_main(lst, middle, right)\n",
    "        \n",
    "        #merge step \n",
    "        i = left #left half pointer \n",
    "        j = middle #right half pointer \n",
    "        k = left #lst pointer \n",
    "\n",
    "        temp = []\n",
    "        # while loop < than means they will never reach middle and right\n",
    "        while i < middle and j < right:\n",
    "            if lst[i] >= lst[j]:\n",
    "                temp.append(lst[j])\n",
    "                j += 1\n",
    "            else:\n",
    "                temp.append(lst[i])\n",
    "                i += 1\n",
    "            k += 1\n",
    "\n",
    "        #fill rest of list with left half or right half \n",
    "        if i == middle:\n",
    "            temp += lst[j:right]\n",
    "        elif j == right:\n",
    "            temp += lst[i:middle]\n",
    "        \n",
    "        #replace slice\n",
    "        lst[left:right] = temp\n",
    "        return lst\n"
   ]
  },
  {
   "cell_type": "code",
   "execution_count": 138,
   "metadata": {},
   "outputs": [],
   "source": [
    "test_cases = [ [1, 2, 3, 4, 5, 6, 7, 8, 9, 10] ,\n",
    "            [10, 9, 8, 7, 6, 5, 4, 3, 2, 1],\n",
    "            [\"P\", \"Y\", \"T\", \"H\", \"O\", \"N\"],\n",
    "            [random.randint(0, 100) for _ in range(100)]]\n",
    "\n",
    "for test in test_cases:\n",
    "    if merge_sort_indexing(test) != sorted(test):\n",
    "        print(f'failed {test}')"
   ]
  },
  {
   "cell_type": "code",
   "execution_count": 206,
   "metadata": {},
   "outputs": [],
   "source": [
    "\"\"\"\n",
    "13. One way to improve the quick sort is to use an insertion sort on lists that have a small length (call it the “partition limit”). \n",
    "Why does this make sense? Re-implement the quick sort and use it to sort a random list of integers. \n",
    "Perform an analysis using different list sizes for the partition limit.\n",
    "\"\"\"\n",
    "\n",
    "def quicksorter_limit(lst, first, last, partition_limit):\n",
    "    if first < last:\n",
    "        if last - first <= partition_limit:\n",
    "            sorted_sublist = insertion_sort(lst[first:last+1])\n",
    "            lst[first:last+1] = sorted_sublist\n",
    "            return lst\n",
    "        \n",
    "        else:\n",
    "            pivot = partition(lst, first, last, method='random')\n",
    "            quicksorter_limit(lst, first, pivot-1, partition_limit)\n",
    "            quicksorter_limit(lst, pivot+1, last, partition_limit)\n",
    "            return lst\n",
    "\n",
    "def quick_sort_limit(lst, partition_limit=10):\n",
    "    return quicksorter_limit(lst, 0, len(lst)-1, partition_limit)\n"
   ]
  },
  {
   "cell_type": "code",
   "execution_count": 207,
   "metadata": {},
   "outputs": [],
   "source": [
    "test_cases = [ [1, 2, 3, 4, 5, 6, 7, 8, 9, 10] ,\n",
    "            [10, 9, 8, 7, 6, 5, 4, 3, 2, 1],\n",
    "            [\"P\", \"Y\", \"T\", \"H\", \"O\", \"N\"],\n",
    "            [random.randint(0, 100) for _ in range(100)]]\n",
    "\n",
    "for test in test_cases:\n",
    "    if quick_sort_limit(test) != sorted(test):\n",
    "        print(f'failed {test}')"
   ]
  },
  {
   "cell_type": "markdown",
   "metadata": {},
   "source": [
    "In shorter lists sorting algorithms such as insertion sort uses fewer comparisons and swaps compared to quicksort. Quicksort is only a lot more efficient with large lists. Another sorting algorithm such as selection sort can also be used in hybrid with quick sort to achieve better efficiency."
   ]
  },
  {
   "cell_type": "code",
   "execution_count": 209,
   "metadata": {},
   "outputs": [
    {
     "name": "stderr",
     "output_type": "stream",
     "text": [
      "16it [00:04,  3.63it/s]\n",
      "WARNING:matplotlib.legend:No artists with labels found to put in legend.  Note that artists whose label start with an underscore are ignored when legend() is called with no argument.\n"
     ]
    },
    {
     "data": {
      "text/plain": [
       "<matplotlib.legend.Legend at 0x1149dc220>"
      ]
     },
     "execution_count": 209,
     "metadata": {},
     "output_type": "execute_result"
    },
    {
     "data": {
      "image/png": "[encoded data removed]",
      "text/plain": [
       "<Figure size 432x288 with 1 Axes>"
      ]
     },
     "metadata": {
      "needs_background": "light"
     },
     "output_type": "display_data"
    }
   ],
   "source": [
    "X = []\n",
    "size = int(100)\n",
    "limits = range(15+1)\n",
    "Y = []\n",
    "for _ in range(len(limits)):\n",
    "    Y.append([])\n",
    "number = 1_000\n",
    "x = [random.randint(0, size) for _ in range(size)]\n",
    "for i,limit in tqdm(enumerate(limits)):\n",
    "    t = Timer(f\"quick_sort_limit(copy.deepcopy(x), limit)\", f\"from __main__ import copy, x, quick_sort_limit, limit\")\n",
    "    Y[i].append(t.timeit(number=number))\n",
    "X.append(size)\n",
    "\n",
    "colours = generate_n_colours(len(limits))\n",
    "\n",
    "for i, (limit, colour) in enumerate(zip(limits, colours)):\n",
    "    plt.bar(limit, Y[i], color=colour)\n",
    "\n",
    "\n",
    "plt.xlabel('limit')\n",
    "plt.ylabel('time(s)')\n",
    "plt.legend()\n"
   ]
  },
  {
   "cell_type": "markdown",
   "metadata": {},
   "source": [
    "Here, we experiment with quick_sort_limit on a list of 100 numbers. The list is deliberately kept small, so that the effects of the partition limit can be more easily seen (in large lists the dominant operations will be the usual quicksort, so later small insertion sorts will have negligible effect). Here, 0 limit is plain quick sort. In comparison, we can see that even when limit=1, the use of quicksort can lead to much more efficient performance. There is an outlier at 12 and 13 where execution time is suddenly comparable to pure quick_sort, but that may be due to other factors as at 14 and 15 the performance returns. Up to limit=15, we have still yet to see the inflection point at which the increased use of insertion sort leads to worse performance, indicating that the choice of the partition limit can be quite robust and not too sensitive within this range."
   ]
  },
  {
   "cell_type": "code",
   "execution_count": 220,
   "metadata": {},
   "outputs": [
    {
     "name": "stderr",
     "output_type": "stream",
     "text": [
      "4it [00:26,  6.52s/it]\n",
      "WARNING:matplotlib.legend:No artists with labels found to put in legend.  Note that artists whose label start with an underscore are ignored when legend() is called with no argument.\n"
     ]
    },
    {
     "data": {
      "text/plain": [
       "<matplotlib.legend.Legend at 0x1149cb820>"
      ]
     },
     "execution_count": 220,
     "metadata": {},
     "output_type": "execute_result"
    },
    {
     "data": {
      "image/png": "[encoded data removed]",
      "text/plain": [
       "<Figure size 432x288 with 1 Axes>"
      ]
     },
     "metadata": {
      "needs_background": "light"
     },
     "output_type": "display_data"
    }
   ],
   "source": [
    "\"\"\"\n",
    "14. Implement the median-of-three method for selecting a pivot value as a modification to quick_sort. \n",
    "Run an experiment to compare the two techniques.\n",
    "\"\"\"\n",
    "\n",
    "X = []\n",
    "size = int(1000)\n",
    "modes = ['first', 'last', 'median', 'random']\n",
    "Y = []\n",
    "for _ in range(len(modes)):\n",
    "    Y.append([])\n",
    "number = 1_000\n",
    "for i,mode in tqdm(enumerate(modes)):\n",
    "    for n in range(number):\n",
    "        x = [random.randint(0, size) for _ in range(size)]\n",
    "        t = Timer(f\"quick_sort(x, mode)\", f\"from __main__ import copy, x, quick_sort, mode\")\n",
    "        if len(Y[i]) == 0:\n",
    "            Y[i].append(t.timeit(number=1))\n",
    "        else:\n",
    "            Y[i][0] += t.timeit(number=1)\n",
    "X.append(size)\n",
    "\n",
    "colours = generate_n_colours(len(modes))\n",
    "\n",
    "for i, (mode, colour) in enumerate(zip(modes, colours)):\n",
    "    plt.bar(mode, Y[i], color=colour)\n",
    "\n",
    "plt.title('unsorted random integers as input')\n",
    "plt.xlabel('mode')\n",
    "plt.ylabel('time(s)')\n",
    "plt.legend()\n",
    "\n",
    "\n"
   ]
  },
  {
   "cell_type": "code",
   "execution_count": 221,
   "metadata": {},
   "outputs": [
    {
     "name": "stderr",
     "output_type": "stream",
     "text": [
      "4it [02:22, 35.52s/it]\n",
      "WARNING:matplotlib.legend:No artists with labels found to put in legend.  Note that artists whose label start with an underscore are ignored when legend() is called with no argument.\n"
     ]
    },
    {
     "data": {
      "text/plain": [
       "<matplotlib.legend.Legend at 0x114cb6490>"
      ]
     },
     "execution_count": 221,
     "metadata": {},
     "output_type": "execute_result"
    },
    {
     "data": {
      "image/png": "[encoded data removed]",
      "text/plain": [
       "<Figure size 432x288 with 1 Axes>"
      ]
     },
     "metadata": {
      "needs_background": "light"
     },
     "output_type": "display_data"
    }
   ],
   "source": [
    "X = []\n",
    "modes = ['first', 'last', 'median', 'random']\n",
    "Y = []\n",
    "for _ in range(len(modes)):\n",
    "    Y.append([])\n",
    "for i,mode in tqdm(enumerate(modes)):\n",
    "    for n in range(number):\n",
    "        x = sorted([random.randint(0, size) for _ in range(size)])\n",
    "        t = Timer(f\"quick_sort(x, mode)\", f\"from __main__ import copy, x, quick_sort, mode\")\n",
    "        if len(Y[i]) == 0:\n",
    "            Y[i].append(t.timeit(number=1))\n",
    "        else:\n",
    "            Y[i][0] += t.timeit(number=1)\n",
    "X.append(size)\n",
    "\n",
    "colours = generate_n_colours(len(modes))\n",
    "\n",
    "for i, (mode, colour) in enumerate(zip(modes, colours)):\n",
    "    plt.bar(mode, Y[i], color=colour)\n",
    "\n",
    "plt.title('sorted random integers as input')\n",
    "plt.xlabel('mode')\n",
    "plt.ylabel('time(s)')\n",
    "plt.legend()"
   ]
  },
  {
   "cell_type": "markdown",
   "metadata": {},
   "source": [
    "The first experiments compares the respective pivot selection methods on unsorted random integers. In this scenario, all methods show comparative performance, where median and random show slowly poorer performance, possibly due to the extra computations involved in selecting median and random values. In the second experiment comparing performance on a sorted list, we see that median-of-three and random pivot selections are able to avoid the worse case O(n<sup>2</sup>), but still being able to select optimal pivot values. In comparison, selecting first or final value as pivot in this experiment leads to very poor run time."
   ]
  },
  {
   "cell_type": "markdown",
   "metadata": {},
   "source": []
  }
 ],
 "metadata": {
  "interpreter": {
   "hash": "aee8b7b246df8f9039afb4144a1f6fd8d2ca17a180786b69acc140d282b71a49"
  },
  "kernelspec": {
   "display_name": "Python 3.9.9 64-bit",
   "language": "python",
   "name": "python3"
  },
  "language_info": {
   "codemirror_mode": {
    "name": "ipython",
    "version": 3
   },
   "file_extension": ".py",
   "mimetype": "text/x-python",
   "name": "python",
   "nbconvert_exporter": "python",
   "pygments_lexer": "ipython3",
   "version": "3.9.9"
  },
  "orig_nbformat": 4
 },
 "nbformat": 4,
 "nbformat_minor": 2
}
