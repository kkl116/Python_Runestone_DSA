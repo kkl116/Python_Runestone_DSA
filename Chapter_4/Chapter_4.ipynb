{
 "cells": [
  {
   "cell_type": "code",
   "execution_count": 1,
   "metadata": {},
   "outputs": [],
   "source": [
    "#Chapter 4 - linear data structures \n",
    "#Discussion questions\n",
    "from pythonds3.basic import Stack, Queue\n"
   ]
  },
  {
   "cell_type": "code",
   "execution_count": 2,
   "metadata": {},
   "outputs": [
    {
     "name": "stdout",
     "output_type": "stream",
     "text": [
      "[1, 0, 0, 0, 1]\n",
      "[1, 0, 1, 1, 0, 1]\n",
      "[0, 0, 0, 0, 0, 1, 1]\n"
     ]
    }
   ],
   "source": [
    "#covert following values to binary using \"divide by 2\". Show the stack of remainders\n",
    "def divide_by_base(num, base=2):\n",
    "    rem_stack = Stack()\n",
    "    while num > 0:\n",
    "        rem = num % 2\n",
    "        rem_stack.push(rem)\n",
    "        num = num // 2\n",
    "    \n",
    "    # bin_str = ''\n",
    "    # while not rem_stack.is_empty():\n",
    "    #     bin_str += str(rem_stack.pop())\n",
    "    return rem_stack._items\n",
    "\n",
    "print(divide_by_base(17))\n",
    "print(divide_by_base(45))\n",
    "print(divide_by_base(96))"
   ]
  },
  {
   "cell_type": "markdown",
   "metadata": {},
   "source": [
    "#### 2. convert the following infix expressions to prefix (using full parenthesis)\n",
    "1. (A+B)*(C+D)*(E+F)\n",
    "2. A+((B+C)*(D+E))\n",
    "3. A*B*C*D+E+F\n",
    "\n",
    "***\n",
    "\n",
    "1. *+AB*+CD+EF \n",
    "2. +A*+BC+DE\n",
    "3. *A*B*CD+E+F\n",
    "\n",
    "#### 3. convert the above infix operations to postfix (using full parenthesis)\n",
    "1. AB+CD+*EF+*\n",
    "2. ABC+DE+*+\n",
    "3. AB*C*D*E+F+\n"
   ]
  },
  {
   "cell_type": "code",
   "execution_count": 3,
   "metadata": {},
   "outputs": [
    {
     "name": "stdout",
     "output_type": "stream",
     "text": [
      "AB+CD+*EF+*\n",
      "ABC+DE+*+\n",
      "AB*C*D*E+F+\n"
     ]
    }
   ],
   "source": [
    "#4. convert above infix operations to postfix using direct conversion algorithm\n",
    "def infix_to_postfix(exp):\n",
    "    prec = {\n",
    "    \"(\" : 1, \n",
    "    \"+\" : 2, \n",
    "    \"-\" : 2,\n",
    "    \"*\" : 3, \n",
    "    '/' : 3,\n",
    "    }\n",
    "    stack = Stack()\n",
    "    postfix = []\n",
    "    brackets = '()'\n",
    "    for char in exp:\n",
    "        if char not in prec and char != ')':\n",
    "            postfix.append(char)\n",
    "        \n",
    "        elif char == '(':\n",
    "            stack.push(char)\n",
    "        \n",
    "        elif char == ')':\n",
    "            top = stack.pop()\n",
    "            while top != '(':\n",
    "                postfix.append(top)\n",
    "                top = stack.pop()\n",
    "        \n",
    "        else:\n",
    "            # >= for comp here \n",
    "            while not stack.is_empty() and prec[stack.peek()] >= prec[char]:\n",
    "                postfix.append(stack.pop())\n",
    "            stack.push(char)\n",
    "\n",
    "    #add remaining operators\n",
    "    while not stack.is_empty():\n",
    "        postfix.append(stack.pop())\n",
    "    return ''.join(postfix)\n",
    "            \n",
    "print(infix_to_postfix('(A+B)*(C+D)*(E+F)'))\n",
    "print(infix_to_postfix('A+((B+C)*(D+E))'))\n",
    "print(infix_to_postfix('A*B*C*D+E+F'))\n",
    "\n",
    "\n",
    "        "
   ]
  },
  {
   "cell_type": "code",
   "execution_count": 4,
   "metadata": {},
   "outputs": [
    {
     "name": "stdout",
     "output_type": "stream",
     "text": [
      "10\n",
      "15\n",
      "47\n"
     ]
    }
   ],
   "source": [
    "#Evaluate the following postfix expressions, show the stack as each operator and operand is processed\n",
    "def do_operation(operator, operand_1, operand_2):\n",
    "    assert operator in '+/-*'\n",
    "    return eval(f'{operand_1} {operator} {operand_2}')\n",
    "\n",
    "def evaluate_postfix(postfix_exp):\n",
    "    operand_stack = Stack()\n",
    "    operators = '+-*/'\n",
    "    for token in postfix_exp:\n",
    "        if token not in operators:\n",
    "            operand_stack.push(token)\n",
    "        else:\n",
    "            operand_2 = operand_stack.pop()\n",
    "            operand_1 = operand_stack.pop()\n",
    "            res = do_operation(token, operand_1, operand_2)\n",
    "            operand_stack.push(res)\n",
    "    \n",
    "    assert operand_stack.size() == 1\n",
    "    return operand_stack.pop()\n",
    "\n",
    "print(evaluate_postfix('23*4+'))\n",
    "print(evaluate_postfix('12+3+4+5+'))\n",
    "print(evaluate_postfix('12345*+*+'))\n"
   ]
  },
  {
   "cell_type": "markdown",
   "metadata": {},
   "source": [
    "#### 6. The alternative implementation of the Queue ADT is to use a list such that rear of the queue is the end of the list. What would this mean for big-O performance\n",
    "\n",
    " enqueue - if rear of queue is at the end of list then enqueue would be a O(1) operation, as it equates to append, versus\n",
    " current O(n) complexity given the current insert(0, item) implementation.\n",
    " ***\n",
    " dequeue - if rear of queue is at the end of list then dequeue would be a O(n) operation, as it equates to .pop(0), versus\n",
    " current O(1) complexity given current .pop() implementation. \n",
    " ***\n",
    " .size() and .is_empty() operations are not affected\n",
    "\n"
   ]
  },
  {
   "cell_type": "markdown",
   "metadata": {},
   "source": [
    "#### What is the result of carrying out both steps of the linked list add method in reverse order? What kind of reference results? What types of problems may result?\n",
    "\n",
    "def add(self, item): <br>\n",
    "> temp = Node(item) <br>\n",
    "> temp.set_next(self.head) **step 1** <br>\n",
    "> self.head = temp **step 2** <br>\n",
    "\n",
    "if both steps are carried out in reverse order, step 1 means *self.head* will be set to *temp*, but as *temp*'s next == None, the original references to the linked list will be gone. Then step 2 setting *temp*'s next as *self.head* (which is temp), will lead to a circular reference to temp object itself. If other methods such as search, append, or index which require list traversal are called, it could lead to an infinite loop."
   ]
  },
  {
   "cell_type": "markdown",
   "metadata": {},
   "source": [
    "#### 8.Explain how the linked list remove method works when the item to be removed is in the last node.\n",
    "\n",
    "When the item to be removed is the last node, the remove method will through the whole list, arriving at the final node setting the reference current to be itself and reference previous to second to last node. The previous.next will then be set to current.next which is None, making previous the new final node, thus removing the final node."
   ]
  },
  {
   "cell_type": "markdown",
   "metadata": {},
   "source": [
    "#### 9. Explain how the remove method works when the item is in the only node in the linked list.\n",
    "\n",
    "When the item is the only node in the linked list, current.data == item will be immediate and thus the while loop for list traversal will not occur. At this stage, because previous **is None**, self.head will be set to current.next, which **== None**, thus resulting in an empty list."
   ]
  },
  {
   "cell_type": "code",
   "execution_count": 5,
   "metadata": {},
   "outputs": [
    {
     "name": "stdout",
     "output_type": "stream",
     "text": [
      "B C +\n"
     ]
    }
   ],
   "source": [
    "#Programming Exercises Chapter 4.27.\n",
    "#1. modify the infix-to-postfix algorithm so that it can handle errors \n",
    "\"\"\" possible errors:\n",
    "1. invalid tokens \n",
    "2. consecutive operands/operators\n",
    "3. unclosed brackets\n",
    "4. Invalid number of operands/operators\n",
    "\"\"\"\n",
    "def num_test(s):\n",
    "    try:\n",
    "        float(s)\n",
    "        return True \n",
    "    except ValueError:\n",
    "        return False \n",
    "\n",
    "\n",
    "def infix_to_postfix(infix_expr):\n",
    "    prec = {}\n",
    "    prec['**'] = 4\n",
    "    prec[\"*\"] = 3\n",
    "    prec[\"/\"] = 3\n",
    "    prec[\"+\"] = 2\n",
    "    prec[\"-\"] = 2\n",
    "    prec[\"(\"] = 1\n",
    "\n",
    "    def token_type(token):\n",
    "        #1\n",
    "        if token in \"ABCDEFGHIJKLMNOPQRSTUVWXYZ\" + 'ANS' or num_test(token):\n",
    "            return 'operand'\n",
    "        elif token in '()':\n",
    "            return 'bracket'\n",
    "        elif token in prec:\n",
    "            return 'operator'\n",
    "        else:\n",
    "            raise Exception(f'Invalid Token: \"{token}\"')\n",
    "\n",
    "    def check_expression(exp):\n",
    "        #4\n",
    "        operators = 0\n",
    "        operands = 0\n",
    "        for token in exp:\n",
    "            if token in \"ABCDEFGHIJKLMNOPQRSTUVWXYZ\" + 'ANS' or num_test(token):\n",
    "                operands += 1\n",
    "            if token in prec:\n",
    "                operators += 1\n",
    "        if operators != operands - 1:\n",
    "            raise Exception('Missing operators/operands')\n",
    "    \n",
    "\n",
    "    op_stack = Stack()\n",
    "    postfix_list = []\n",
    "    token_list = infix_expr.split()\n",
    "    token_list = list(map(lambda t: t.upper(), token_list))\n",
    "\n",
    "    for i,token in enumerate(token_list):\n",
    "        #2. consecutive operands/operators\n",
    "        if i > 0:\n",
    "            if token_type(token) == token_type(token_list[i-1]) and token_type(token) != 'bracket':\n",
    "                raise Exception(f'Consecutive {token_type(token)}s')\n",
    "\n",
    "        if token in \"ABCDEFGHIJKLMNOPQRSTUVWXYZ\" + 'ANS' or num_test(token):\n",
    "            postfix_list.append(token)\n",
    "        elif token == \"(\":\n",
    "            op_stack.push(token)\n",
    "        elif token == \")\":\n",
    "            #3\n",
    "            if op_stack.is_empty():\n",
    "                raise Exception('Unclosed Bracket')\n",
    "\n",
    "            top_token = op_stack.pop()\n",
    "            while top_token != \"(\" and not op_stack.is_empty():\n",
    "                postfix_list.append(top_token)\n",
    "                top_token = op_stack.pop()\n",
    "\n",
    "            if top_token != '(':\n",
    "                raise Exception('Unclosed Bracket')\n",
    "        else:\n",
    "\n",
    "            while (not op_stack.is_empty()) and (prec[op_stack.peek()] >= prec[token]):\n",
    "                postfix_list.append(op_stack.pop())\n",
    "            op_stack.push(token)\n",
    "\n",
    "    while not op_stack.is_empty():\n",
    "        postfix_list.append(op_stack.pop())\n",
    "\n",
    "    check_expression(postfix_list)\n",
    "\n",
    "    return \" \".join(postfix_list)\n",
    "\n",
    "print(infix_to_postfix('( ( b + c ) )'))"
   ]
  },
  {
   "cell_type": "code",
   "execution_count": 6,
   "metadata": {},
   "outputs": [],
   "source": [
    "#2. Modify the postfix evaluation algorithm so that it can handle errors.\n",
    "\"\"\" \n",
    "possible errors:\n",
    "1. check that final size of operand stack is 1, or else there is an error in the expression\n",
    "\"\"\"\n",
    "def postfix_eval(postfix_expr, prev_ans=None):\n",
    "    operand_stack = Stack()\n",
    "    token_list = postfix_expr.split()\n",
    "\n",
    "    if 'ANS' in token_list and prev_ans is None:\n",
    "        raise RuntimeError('ANS used but no previous answer stored.')\n",
    "\n",
    "    if prev_ans is not None:\n",
    "        token_list = map(lambda x: x if x != 'ANS' else prev_ans, token_list)\n",
    "\n",
    "    for token in token_list:\n",
    "        if num_test(token):\n",
    "            operand_stack.push(int(token))\n",
    "        else:\n",
    "            operand2 = operand_stack.pop()\n",
    "            operand1 = operand_stack.pop()\n",
    "            try:\n",
    "                result = eval(f\"{operand1} {token} {operand2}\")\n",
    "            except ZeroDivisionError:\n",
    "                print('Division by zero!')\n",
    "                return None\n",
    "                \n",
    "            operand_stack.push(result)\n",
    "    \n",
    "    if operand_stack.size() != 1:\n",
    "        raise Exception('Invalid expression')\n",
    "    return operand_stack.pop()\n"
   ]
  },
  {
   "cell_type": "code",
   "execution_count": 7,
   "metadata": {},
   "outputs": [
    {
     "data": {
      "text/plain": [
       "9"
      ]
     },
     "execution_count": 7,
     "metadata": {},
     "output_type": "execute_result"
    }
   ],
   "source": [
    "#Implement a direct infix evaluator that combines the functionality of infix-to-postfix conversion \n",
    "# and the postfix evaluation algorithm. \n",
    "# Your evaluator should process infix tokens from left to right and use two stacks, \n",
    "# one for operators and one for operands, to perform the evaluation.\n",
    "def direct_infix_evaluator(expression, prev_ans=None):\n",
    "    postfix = infix_to_postfix(expression)\n",
    "    result = postfix_eval(postfix, prev_ans)\n",
    "    return result\n",
    "\n",
    "direct_infix_evaluator('3 ** 2')"
   ]
  },
  {
   "cell_type": "code",
   "execution_count": 8,
   "metadata": {},
   "outputs": [
    {
     "name": "stdout",
     "output_type": "stream",
     "text": [
      "(Submit EXIT to exit)\n",
      "(If you would like to use the previous result please use ANS as a variable)\n",
      "Please enter an expression: \n",
      "99 + 2 = 101\n",
      "Please enter an expression: \n",
      "ANS ** 2 = 10201\n",
      "Please enter an expression: \n",
      "**** Calculator Closing! ****\n"
     ]
    }
   ],
   "source": [
    "#Turn your direct infix evaluator from the previous problem into a calculator.\n",
    "\n",
    "def calculator():\n",
    "    #take input and run direct_infix_evaluator\n",
    "    run = True\n",
    "    i = 0\n",
    "    while run:\n",
    "        if i == 0:\n",
    "            prev_ans = None \n",
    "            print('(Submit EXIT to exit)')\n",
    "            print('(If you would like to use the previous result please use ANS as a variable)')\n",
    "\n",
    "        print('Please enter an expression: ')\n",
    "        exp = input()\n",
    "        if exp == 'EXIT':\n",
    "            break \n",
    "        try:\n",
    "            ans = direct_infix_evaluator(exp, prev_ans) \n",
    "            print(f'{exp} = {ans}')\n",
    "            prev_ans = ans\n",
    "        except Exception as e:\n",
    "            print('ERROR: ' + str(e))\n",
    "        \n",
    "        i += 1\n",
    "    print('**** Calculator Closing! ****')\n",
    "calculator()\n",
    "\n"
   ]
  },
  {
   "cell_type": "code",
   "execution_count": 9,
   "metadata": {},
   "outputs": [],
   "source": [
    "#5. Implement the Queue ADT, using a list such that the rear of the queue is at the end of the list.\n",
    "\n",
    "class Queue_2:\n",
    "    def __init__(self):\n",
    "        self._items = []\n",
    "    def enqueue(self, item):\n",
    "        self._items.append(item)\n",
    "    def dequeue(self):\n",
    "        return self._items.pop(0)\n",
    "    def is_empty(self):\n",
    "        return not bool(len(self._items))\n",
    "    def size(self):\n",
    "        return len(self._items)"
   ]
  },
  {
   "cell_type": "code",
   "execution_count": 10,
   "metadata": {},
   "outputs": [
    {
     "data": {
      "text/plain": [
       "<matplotlib.legend.Legend at 0x111f89790>"
      ]
     },
     "execution_count": 10,
     "metadata": {},
     "output_type": "execute_result"
    },
    {
     "data": {
      "image/png": "[encoded data removed]",
      "text/plain": [
       "<Figure size 432x288 with 1 Axes>"
      ]
     },
     "metadata": {
      "needs_background": "light"
     },
     "output_type": "display_data"
    }
   ],
   "source": [
    "# Design and implement an experiment to \n",
    "# do benchmark comparisons of the two queue implementations. What can you learn from such an experiment?\n",
    "#First compare \n",
    "from timeit import Timer\n",
    "import matplotlib.pyplot as plt\n",
    "X = []\n",
    "Y1 = []#Queue enqueue\n",
    "Y2 = [] #Queue2 enqueue\n",
    "Y3 = []\n",
    "Y4 = []\n",
    "number = 1000\n",
    "for size in range(1000, 100_000, 1_000):\n",
    "    x1 = Queue()\n",
    "    x2 = Queue_2()\n",
    "    x1._items = list(range(size))\n",
    "    x2._items = list(range(size))\n",
    "    t1 = Timer(f\"x1.enqueue(1)\", \"from __main__ import x1\")\n",
    "    t2 = Timer(f\"x2.enqueue(1)\", \"from __main__ import x2\")\n",
    "    Y1.append(t1.timeit(number=number))\n",
    "    Y2.append(t2.timeit(number=number))\n",
    "    x1._items = list(range(size))\n",
    "    x2._items = list(range(size))\n",
    "    t3 = Timer(f\"x1.dequeue()\", \"from __main__ import x1\")\n",
    "    t4 = Timer(f\"x2.dequeue()\", \"from __main__ import x2\")\n",
    "    Y3.append(t3.timeit(number=number))\n",
    "    Y4.append(t4.timeit(number=number))\n",
    "    X.append(size)\n",
    "\n",
    "plt.plot(X, Y1, color='blue', marker='.', label='Q1 enqueue')\n",
    "plt.plot(X, Y2, color='red', marker='.', label='Q2 enqueue')\n",
    "plt.plot(X, Y3, color='green', marker='.', label='Q1 dequeue')\n",
    "plt.plot(X, Y4, color='orange', marker='.', label='Q2 dequeue')\n",
    "\n",
    "plt.xlabel('n')\n",
    "plt.ylabel('time(s)')\n",
    "plt.legend()\n"
   ]
  },
  {
   "cell_type": "markdown",
   "metadata": {},
   "source": [
    "## Comparison of Queue and Queue_2\n",
    "The difference in implementation of Queue and Queue_2 (rear of queue either at start or end of list) results in the complexity of enqueue and dequeue to be swapped for the respective ADTs. In Queue, where the rear of the list was the front, enqueue would be equivalent to insert(0, item), which is a O(n) operation. This would be equivalent to dequeue in Queue_2 which is pop(0), which is also O(n). This is seen in the plot in the blue and orange lines. In Queue, dequeue is equivalent to pop(), an O(1) operation, of which it's time complexity is equivalent to Queue_2's enqueue, append(item), which is also O(1). Other operations in size and is_empty are the same."
   ]
  },
  {
   "cell_type": "code",
   "execution_count": 11,
   "metadata": {},
   "outputs": [],
   "source": [
    "#7.It is possible to implement a queue such that both enqueue and dequeue have 𝑂(1) performance on average. \n",
    "# In this case it means that most of the time enqueue and dequeue will be 𝑂(1) except in one particular circumstance \n",
    "# where dequeue will be 𝑂(𝑛). Create an implementation of a queue that would have an average performance of 𝑂(1) for \n",
    "# enqueue and dequeue operations.\n",
    "\n",
    "#Linked list seems to fit here - using the head of the list to dequeue and adding nodes to tail of list ?\n",
    "class Node:\n",
    "    def __init__(self, val=None, _next=None):\n",
    "        self.val = val\n",
    "        self._next = _next\n",
    "\n",
    "class Queue_3:\n",
    "    def __init__(self):\n",
    "        #This linked list implementation is a bit of a hybrid between singly and doubly linked list b/c of additional\n",
    "        #tail reference. Another way to get O(1) enqueue and dequeue is using deque class in python!\n",
    "        self.head = None \n",
    "        self.tail = None \n",
    "        self.size = 0\n",
    "        #rear of queue is head of linked list\n",
    "    def enqueue(self, item):\n",
    "        node = Node(item)\n",
    "        if self.size == 0:\n",
    "            self.head = node \n",
    "            self.tail = node \n",
    "        elif self.size >= 1:\n",
    "            self.tail._next = node \n",
    "            self.tail = node\n",
    "        self.size += 1\n",
    "\n",
    "    def dequeue(self):\n",
    "        if self.size == 0:\n",
    "            print('Queue is Empty')\n",
    "            return None\n",
    "        \n",
    "        if self.size > 1:\n",
    "            new_head = self.head._next\n",
    "            removed = self.head \n",
    "            self.head = new_head\n",
    "            self.size -= 1\n",
    "        else:\n",
    "            removed = self.head \n",
    "            self.head = None\n",
    "            self.tail = None \n",
    "        return removed.val\n",
    "\n",
    "\n",
    "queue = Queue_3()\n",
    "vals = [3, 2, 1]\n",
    "for val in vals:\n",
    "    queue.enqueue(val)\n",
    "for i in range(len(vals)):\n",
    "    assert queue.dequeue() == vals[i]\n",
    "\n",
    "assert queue.head == None and queue.tail == None"
   ]
  },
  {
   "cell_type": "code",
   "execution_count": 12,
   "metadata": {},
   "outputs": [
    {
     "data": {
      "text/plain": [
       "<matplotlib.legend.Legend at 0x113cdab50>"
      ]
     },
     "execution_count": 12,
     "metadata": {},
     "output_type": "execute_result"
    },
    {
     "data": {
      "image/png": "[encoded data removed]",
      "text/plain": [
       "<Figure size 432x288 with 1 Axes>"
      ]
     },
     "metadata": {
      "needs_background": "light"
     },
     "output_type": "display_data"
    }
   ],
   "source": [
    "from timeit import Timer\n",
    "import matplotlib.pyplot as plt\n",
    "import random\n",
    "X = []\n",
    "Y1 = []#Queue3 enqueue\n",
    "Y2 = [] #Queue3 dequeue\n",
    "number = 1_000\n",
    "for size in range(1_000, 100_000, 1_000):\n",
    "    x1 = Queue_3()\n",
    "    for _ in range(size):\n",
    "        x1.enqueue(random.random())\n",
    "\n",
    "    t1 = Timer(f\"x1.enqueue(random.random())\", \"from __main__ import x1, random\")\n",
    "    Y1.append(t1.timeit(number=number))\n",
    "    t2 = Timer(f\"x1.dequeue()\", \"from __main__ import x1\")\n",
    "    Y2.append(t2.timeit(number=number))\n",
    "    X.append(size)\n",
    "\n",
    "plt.plot(X, Y1, color='blue', marker='.', label='Q3 enqueue')\n",
    "plt.plot(X, Y2, color='red', marker='.', label='Q3 dequeue')\n",
    "\n",
    "plt.xlabel('n')\n",
    "plt.ylabel('time(s)')\n",
    "plt.legend()"
   ]
  },
  {
   "cell_type": "code",
   "execution_count": 13,
   "metadata": {},
   "outputs": [],
   "source": [
    "class Customer:\n",
    "    def __init__(self, time, avg_basket_size=20, avg_item_duration=3, cash_duration=3, card_duration=1,\n",
    "    payment=None):\n",
    "        self.timestamp = time \n",
    "        #basket size\n",
    "        self.basket_size = (1 - random.gauss(0, 1)) * avg_basket_size\n",
    "        self.payment_method = payment\n",
    "        self.payment_duration = cash_duration if self.payment_method == 'cash' else card_duration\n",
    "        self.basket_duration = self.basket_size * (1-random.gauss(0,1)) * avg_item_duration + self.payment_duration\n",
    "\n",
    "    def get_stamp(self):\n",
    "        return self.timestamp\n",
    "    \n",
    "    def get_basket(self):\n",
    "        return self.basket_duration\n",
    "\n",
    "    def get_payment_method(self):\n",
    "        return self.payment_method\n",
    "\n",
    "    def wait_time(self, current_time):\n",
    "        return current_time - self.timestamp\n"
   ]
  },
  {
   "cell_type": "code",
   "execution_count": 14,
   "metadata": {},
   "outputs": [],
   "source": [
    "class PaymentTill:\n",
    "    def __init__(self, max_dps=3, payment_method=None):\n",
    "        self.payment_method = payment_method\n",
    "        self.max_dps = max_dps\n",
    "        self.dps = self.get_dps()\n",
    "        self.current_customer = None \n",
    "        self.time_remaining = None \n",
    "    \n",
    "    def get_dps(self):\n",
    "        if self.payment_method == 'card':\n",
    "            return self.max_dps \n",
    "        else:\n",
    "            return random.uniform(0.5, 1) * self.max_dps \n",
    "\n",
    "    def tick(self):\n",
    "        if self.current_customer is not None:\n",
    "            self.time_remaining = self.time_remaining - self.dps\n",
    "            if self.time_remaining <= 0:\n",
    "                self.current_customer = None \n",
    "    \n",
    "    def busy(self):\n",
    "        return self.current_customer is not None \n",
    "    \n",
    "    def start_next(self, new_customer):\n",
    "        self.current_customer = new_customer\n",
    "        self.time_remaining = new_customer.get_basket()"
   ]
  },
  {
   "cell_type": "code",
   "execution_count": 15,
   "metadata": {},
   "outputs": [],
   "source": [
    "class PaymentArea:\n",
    "    def __init__(self, n_cash, n_card, max_dps):\n",
    "        self.cash_payments = [PaymentTill(max_dps=max_dps)] * n_cash \n",
    "        self.card_payments = [PaymentTill(max_dps=max_dps)] * n_card \n",
    "\n",
    "    def tick(self):\n",
    "        for cash in self.cash_payments:\n",
    "            cash.tick()\n",
    "        for card in self.card_payments:\n",
    "            card.tick()\n",
    "\n",
    "    def start_free_till(self, customer):\n",
    "        if customer.get_payment_method() == 'cash':\n",
    "            for cash in self.cash_payments:\n",
    "                if not cash.busy():\n",
    "                    cash.start_next(customer)\n",
    "                    return True \n",
    "        elif customer.get_payment_method() == 'card':\n",
    "            for card in self.card_payments:\n",
    "                if not card.busy():\n",
    "                    card.start_next(customer)\n",
    "                    return True\n",
    "        \n",
    "        return False \n"
   ]
  },
  {
   "cell_type": "code",
   "execution_count": 16,
   "metadata": {},
   "outputs": [],
   "source": [
    "class SimQueue(Queue_2):\n",
    "    #queue for simulation that has additional peek method for convenience\n",
    "    def __init__(self):\n",
    "        super().__init__()\n",
    "    \n",
    "    def peek(self):\n",
    "        return self._items[0]"
   ]
  },
  {
   "cell_type": "code",
   "execution_count": 17,
   "metadata": {},
   "outputs": [],
   "source": [
    "def spawn_customer(spawn_rate):\n",
    "    #spawn_rate per minute \n",
    "    num = random.randint(1, 60//spawn_rate)\n",
    "    return num == 60//spawn_rate\n",
    "\n",
    "def customer_payment(customer_cash_prob):\n",
    "    if random.uniform(0, 1) < customer_cash_prob:\n",
    "        return 'cash'\n",
    "    return 'card'\n",
    "\n",
    "def simulation(run_time=3600, \n",
    "avg_basket_size=20, avg_item_duration=4, cash_duration=3, card_duration=1, \n",
    "max_dps=3, n_cash=3, n_card=3, customer_spawn_rate=5, customer_cash_prob=0.25):\n",
    "    #run time in seconds \n",
    "    queue = SimQueue()\n",
    "    payment_area = PaymentArea(n_cash, n_card, max_dps)\n",
    "    waiting_times = []\n",
    "\n",
    "    for current in range(run_time):\n",
    "        if spawn_customer(customer_spawn_rate):\n",
    "            customer = Customer(current, avg_basket_size=avg_basket_size, avg_item_duration=avg_item_duration,\n",
    "            cash_duration=cash_duration, card_duration=card_duration, payment=customer_payment(customer_cash_prob))\n",
    "            \n",
    "            queue.enqueue(customer)\n",
    "        \n",
    "        if not queue.is_empty():\n",
    "            #check current customer's payment method \n",
    "            next_customer = queue.peek()\n",
    "            started = payment_area.start_free_till(next_customer)\n",
    "            if started:\n",
    "                queue.dequeue()\n",
    "                waiting_times.append(next_customer.wait_time(current))\n",
    "        \n",
    "        payment_area.tick()\n",
    "        \n",
    "    average_wait = sum(waiting_times)/len(waiting_times)\n",
    "    return average_wait, queue.size()\n",
    "                "
   ]
  },
  {
   "cell_type": "code",
   "execution_count": 18,
   "metadata": {},
   "outputs": [
    {
     "data": {
      "text/plain": [
       "Text(0.5, 1.0, 'customers remaining (n)')"
      ]
     },
     "execution_count": 18,
     "metadata": {},
     "output_type": "execute_result"
    },
    {
     "data": {
      "image/png": "[encoded data removed]",
      "text/plain": [
       "<Figure size 432x288 with 2 Axes>"
      ]
     },
     "metadata": {
      "needs_background": "light"
     },
     "output_type": "display_data"
    }
   ],
   "source": [
    "avg_wait_times = []\n",
    "customers_remaining = []\n",
    "for _  in range(100):\n",
    "    wait_times, remaining = simulation(3600)\n",
    "    avg_wait_times.append(wait_times)\n",
    "    customers_remaining.append(remaining)\n",
    "\n",
    "fig, (ax1, ax2) = plt.subplots(1,2)\n",
    "ax1.hist(avg_wait_times)\n",
    "ax2.hist(customers_remaining)\n",
    "ax1.set_title('average wait times (s)')\n",
    "ax2.set_title('customers remaining (n)')\n"
   ]
  },
  {
   "cell_type": "markdown",
   "metadata": {},
   "source": [
    "8. Consider a real life situation. Formulate a question and then design a simulation that can help to answer it.\n",
    "Be sure to state any assumptions that you make and provide any probabilistic data that must be considered as part of the scenario.\n",
    "\n",
    "The above simulation is of a grocery store payment till, to see how different configurations affect customer wait times. The configurations include:\n",
    "\n",
    "    - avg_basket_size: determines average basket size in a gaussian distribution \n",
    "    - avg_item_duration: how long it takes on average to process an item - to introduce variability to customer processing time - also a gaussian distribution \n",
    "    - cash_duration: duration in secs/ticks it takes to process the payment of the basket if cash payment \n",
    "    - card_duration: duration in secs/ticks it takes to process the payment of the basket if card payment - typically less than card_duration \n",
    "    - max_dps: max basket duration that can be consumed by each tick at the till. For card tills the max_dps is always used (assumed self checkout is more efficient), where as cash tills because of human processing there is a level of variability introduced, where till can be up to 50% slower than card till \n",
    "    - n_cash: number of cash tills at payment area \n",
    "    - n_card: number of card tills at payment area \n",
    "    - customer_spawn_rate: customer spawned per minute on average \n",
    "    - customer_cash_prob: proportion of customers that use cash payment \n",
    "\n",
    "Different experimental conditions can also be modelled such as creating a second cash cue that cash customers can move to to prevent blockage. How does increasing the speed of cash vs card tills affect speed? Including simulation of incidents such as misscanned items at card tills which introduces delays, etc! "
   ]
  },
  {
   "cell_type": "code",
   "execution_count": 19,
   "metadata": {},
   "outputs": [],
   "source": [
    "# 9. Modify the Hot Potato simulation to allow for a randomly chosen counting value so \n",
    "# that each pass is not predictable from the previous one.\n",
    "def modified_hot_potato(name_list, max_num=10):\n",
    "    sim_queue = Queue()\n",
    "    for name in name_list:\n",
    "        sim_queue.enqueue(name)\n",
    "\n",
    "    while sim_queue.size() > 1:\n",
    "        #randomly generate num\n",
    "        num = random.randint(1, max_num)\n",
    "        for _ in range(num):\n",
    "            sim_queue.enqueue(sim_queue.dequeue())\n",
    "\n",
    "        sim_queue.dequeue()\n",
    "\n",
    "    return sim_queue.dequeue()"
   ]
  },
  {
   "cell_type": "code",
   "execution_count": 20,
   "metadata": {},
   "outputs": [
    {
     "data": {
      "text/plain": [
       "'joe'"
      ]
     },
     "execution_count": 20,
     "metadata": {},
     "output_type": "execute_result"
    }
   ],
   "source": [
    "modified_hot_potato(['bill', 'bob', 'jack', 'jill', 'joe', 'edan', 'holly'])"
   ]
  },
  {
   "cell_type": "code",
   "execution_count": 21,
   "metadata": {},
   "outputs": [
    {
     "data": {
      "text/plain": [
       "[0, 1, 2, 8, 12, 24, 75, 200, 1000]"
      ]
     },
     "execution_count": 21,
     "metadata": {},
     "output_type": "execute_result"
    }
   ],
   "source": [
    "# 10. Implement a radix sorting machine \n",
    "def radix_sort(nums, descending=True):\n",
    "    def get_digit(num, place):\n",
    "        for _ in range(place):\n",
    "            num = num // 10\n",
    "        return num % 10 \n",
    "    #set up all the bins \n",
    "    main_bin = Queue()\n",
    "    digit_bins = [Queue() for _ in range(10)]\n",
    "    max_len = 0\n",
    "    if descending:\n",
    "        bin_order = range(10)\n",
    "    else:\n",
    "        bin_order = range(9, -1, -1)\n",
    "\n",
    "    #load main bin and get max num's n digits\n",
    "    for n in nums:\n",
    "        n_digits = len(str(n))\n",
    "        max_len = max(max_len, n_digits)\n",
    "        main_bin.enqueue(n)\n",
    "    #start sorting\n",
    "    for place in range(max_len):\n",
    "        while not main_bin.is_empty():\n",
    "            next_num = main_bin.dequeue()\n",
    "            digit_bins[get_digit(next_num, place)].enqueue(next_num) \n",
    "        \n",
    "        for bin in bin_order:\n",
    "            curr_bin = digit_bins[bin]\n",
    "            while not curr_bin.is_empty():\n",
    "                main_bin.enqueue(curr_bin.dequeue())\n",
    "    \n",
    "    return main_bin._items \n",
    "\n",
    "radix_sort([75, 12, 200, 1000, 2, 1, 24, 8, 0], descending=False)\n"
   ]
  },
  {
   "cell_type": "code",
   "execution_count": 22,
   "metadata": {},
   "outputs": [],
   "source": [
    "#11. write a program that can check an HTML document for proper opening and closing tags\n",
    "#can handle tags opened across multiple lines and tags with attributes\n",
    "def check_html_tags(html):\n",
    "    def get_tags(string):\n",
    "        tags = []\n",
    "        in_tag = False\n",
    "        in_tag_name = False \n",
    "        curr = ''\n",
    "        for char in string:\n",
    "            if char == '<':\n",
    "                in_tag = True \n",
    "                in_tag_name = True \n",
    "            elif char == '>':\n",
    "                if in_tag:\n",
    "                    tags.append(curr)\n",
    "                    curr = ''\n",
    "                    in_tag = False \n",
    "            else:\n",
    "                if in_tag:\n",
    "                    if char == ' ':\n",
    "                        in_tag_name = False \n",
    "                    if in_tag_name:\n",
    "                        curr += char \n",
    "        return tags\n",
    "\n",
    "\n",
    "    tag_stack = Stack()\n",
    "    #don't split html into lines - or else cant handle tags that are open across multiple lines\n",
    "    tags = get_tags(html)\n",
    "    #for i, line in enumerate(tags):\n",
    "    #    print(line)\n",
    "    for tag in tags:\n",
    "        if tag[0] != '/' and tag not in ['head', 'link'] and tag[0] != '!':\n",
    "            tag_stack.push(tag)\n",
    "        elif tag[0] == '/':\n",
    "            top_tag = tag_stack.pop()\n",
    "            if tag[1:] != top_tag:\n",
    "                print(f'<{tag}> before <{top_tag}> closed')\n",
    "                return False\n",
    "                    \n",
    "    if tag_stack.size() != 0:\n",
    "        while not tag_stack.is_empty():\n",
    "            rem = tag_stack.pop()\n",
    "            print(f'<\\{rem}> missing')\n",
    "        return False \n",
    "        \n",
    "    return True\n",
    "    "
   ]
  },
  {
   "cell_type": "code",
   "execution_count": 23,
   "metadata": {},
   "outputs": [
    {
     "name": "stdout",
     "output_type": "stream",
     "text": [
      "<\\div> missing\n"
     ]
    },
    {
     "data": {
      "text/plain": [
       "False"
      ]
     },
     "execution_count": 23,
     "metadata": {},
     "output_type": "execute_result"
    }
   ],
   "source": [
    "check_html_tags(\n",
    "\"\"\"\n",
    "<div id=\"main-content\" style=\"display: none;\">\n",
    "    <h1 class=\"search-title\">Watchlist</h1>\n",
    "\n",
    "    <div id=\"table-div\">\n",
    "        <p id=\"empty-message\" style=\"text-align: center; display: none;\">\n",
    "            Your watchlist is currently empty!\n",
    "        </p>\n",
    "\n",
    "    <!--put form here so that + button displays it?-->\n",
    "</div>\n",
    "\n",
    "\"\"\")"
   ]
  },
  {
   "cell_type": "code",
   "execution_count": 24,
   "metadata": {},
   "outputs": [],
   "source": [
    "# 12. Extend the program from listing 2.15 to handle palindromes with spaces.\n",
    "from pythonds3.basic import Deque\n",
    "\n",
    "def modified_palindrome_checker(a_string):\n",
    "    char_deque = Deque()\n",
    "\n",
    "    for ch in a_string:\n",
    "        #ignore space\n",
    "        if ch != ' ':\n",
    "            char_deque.add_rear(ch)\n",
    "\n",
    "    while char_deque.size() > 1:\n",
    "        first = char_deque.remove_front()\n",
    "        last = char_deque.remove_rear()\n",
    "        if first != last:\n",
    "            return False\n",
    "\n",
    "    return True"
   ]
  },
  {
   "cell_type": "code",
   "execution_count": 25,
   "metadata": {},
   "outputs": [
    {
     "data": {
      "text/plain": [
       "True"
      ]
     },
     "execution_count": 25,
     "metadata": {},
     "output_type": "execute_result"
    }
   ],
   "source": [
    "modified_palindrome_checker('I PREFER PI')"
   ]
  },
  {
   "cell_type": "code",
   "execution_count": 26,
   "metadata": {},
   "outputs": [],
   "source": [
    "class LinkedList:\n",
    "    def __init__(self):\n",
    "        self.head = None \n",
    "        self.tail = None \n",
    "        self._size = 0 \n",
    "    \n",
    "    def is_empty(self):\n",
    "        return self.head == None\n",
    "    \n",
    "    def size(self):\n",
    "        return self._size\n",
    "\n",
    "    def pop(self, pos=None):\n",
    "        #O(n)\n",
    "        if pos is None:\n",
    "            pos = self._size-1\n",
    "        \n",
    "        if pos < 0:\n",
    "            pos = self._size + pos \n",
    "            \n",
    "        assert 0 <= pos < self._size\n",
    "\n",
    "        current = self.head\n",
    "        for _ in range(pos):\n",
    "            prev = current \n",
    "            current = current._next\n",
    "\n",
    "        if pos == 0:\n",
    "            self.head = current._next \n",
    "        elif 0 < pos < self._size:\n",
    "            prev._next = current._next \n",
    "        else:\n",
    "            prev._next = None \n",
    "        \n",
    "        self._size -= 1\n",
    "        return current.val\n",
    "\n",
    "    def slice(self, start, stop):\n",
    "        if start < 0:\n",
    "            start = self._size + start \n",
    "        if stop < 0:\n",
    "            stop = self._size + stop \n",
    "        assert stop > start \n",
    "        slc = []\n",
    "        current = self.head \n",
    "        for i in range(self._size):\n",
    "            if i == stop:\n",
    "                break\n",
    "            if i >= start:\n",
    "                slc.append(current.val)\n",
    "            current = current._next \n",
    "        return slc \n",
    "\n",
    "    def __str__(self):\n",
    "        #show all the elements within the list\n",
    "        lst = []\n",
    "        current = self.head\n",
    "        for _ in range(self._size):\n",
    "            lst.append(current.val)\n",
    "            current = current._next\n",
    "        #just convert lst to str to print with square brackets\n",
    "        return str(lst)\n",
    "\n",
    "    def __iter__(self):\n",
    "        #make object iterable - \n",
    "        lst = []\n",
    "        current = self.head\n",
    "        for _ in range(self._size):\n",
    "            lst.append(current.val)\n",
    "            current = current._next \n",
    "        return iter(lst)"
   ]
  },
  {
   "cell_type": "code",
   "execution_count": 27,
   "metadata": {},
   "outputs": [],
   "source": [
    "# 13.  To implement the size method, we counted the number of nodes in the list. \n",
    "# An alternative strategy would be to store the number of nodes in the list as an additional \n",
    "# piece of data in the head of the list. \n",
    "# Modify the UnorderedList class to include this information and rewrite the size method.\n",
    "\n",
    "# 14. Implement the remove method so that it works correctly in the case where the item is not in the list.\n",
    "# 16. Implement the __str__ method in the UnorderedList class. What would be a good string representation for a list?\n",
    "# 17. Implement __str__ method so that lists are displayed the Python way (with square brackets)\n",
    "# 18. Implement the remaining operations defined in the UnorderedList ADT (append, index, pop, insert).\n",
    "# 19. Implement a slice method for the UnorderedList class. It should take two parameters, start and stop, \n",
    "# and return a copy of the list starting at the start position and going up to but not including the \n",
    "# stop position.\n",
    "class UnorderedList(LinkedList):\n",
    "    def __init__(self):\n",
    "        super().__init__()\n",
    "\n",
    "    def add(self, item):\n",
    "        temp = Node(item)\n",
    "        temp._next = self.head\n",
    "        self.head = temp\n",
    "        if self.head._next is None:\n",
    "            self.tail = self.head\n",
    "        #update size\n",
    "        self._size += 1\n",
    "\n",
    "    def search(self, item):\n",
    "        current = self.head\n",
    "        for _ in range(self._size):\n",
    "            if current.val == item:\n",
    "                return True \n",
    "            current = current._next \n",
    "        return False \n",
    "        \n",
    "    def append(self, item):\n",
    "        temp = Node(item)\n",
    "        if self.head is None:\n",
    "            self.head = temp\n",
    "            self.tail = temp\n",
    "        else:\n",
    "            self.tail._next = temp\n",
    "            self.tail = self.tail._next\n",
    "        \n",
    "        self._size += 1\n",
    "        \n",
    "\n",
    "    def insert(self, pos, item):\n",
    "        if pos < 0:\n",
    "            pos = self._size + pos + 1\n",
    "        assert 0 <= pos <= self._size \n",
    "        node = Node(item)\n",
    "        current = self.head \n",
    "        for _ in range(pos):\n",
    "            prev = current\n",
    "            current = current._next \n",
    "    \n",
    "        if pos == 0:\n",
    "            node._next = self.head \n",
    "            self.head = node \n",
    "        elif 0 < pos < self._size:\n",
    "            prev._next = node \n",
    "            node._next = current\n",
    "        else:\n",
    "            prev._next = node \n",
    "            \n",
    "        self._size += 1\n",
    "\n",
    "    def index(self, item):\n",
    "        #return the index of first occurrence of the item - O(n)\n",
    "        current = self.head\n",
    "        for i in range(self._size):\n",
    "            if current.val == item:\n",
    "                return i \n",
    "            current = current._next\n",
    "        raise ValueError('Item not in list')\n",
    "\n",
    "    def remove(self, item):\n",
    "        current = self.head\n",
    "        previous = None\n",
    "\n",
    "        for _ in range(self._size):\n",
    "            if current.val == item:\n",
    "                break \n",
    "            previous = current \n",
    "            current = current._next\n",
    "        \n",
    "        if current is None:\n",
    "            raise ValueError('Item not in list')\n",
    "\n",
    "        if previous is None:\n",
    "            #first item is val\n",
    "            self.head = current._next\n",
    "        else:\n",
    "            previous._next = current._next\n",
    "\n",
    "        self._size -= 1\n",
    "\n",
    "\n",
    "        \n"
   ]
  },
  {
   "cell_type": "code",
   "execution_count": 28,
   "metadata": {},
   "outputs": [
    {
     "name": "stdout",
     "output_type": "stream",
     "text": [
      "append\n",
      "add\n",
      "[0, 9, 2, 2, 5]\n",
      "remove 2\n",
      "remove 99:  Item not in list\n",
      "search\n",
      "99:  False\n",
      "5:  True\n",
      "is_empty\n",
      "False\n",
      "size\n",
      "[0, 9, 2, 5]\n",
      "4\n",
      "index\n",
      "2:  2\n",
      "999:  Item not in list\n",
      "insert\n",
      "[35, 66, 0, 9, 2, 5, 99]\n",
      "pop\n",
      "99\n",
      "35\n"
     ]
    }
   ],
   "source": [
    "lst = UnorderedList()\n",
    "print('append')\n",
    "lst.append(2)\n",
    "lst.append(2)\n",
    "lst.append(5)\n",
    "\n",
    "print('add')\n",
    "lst.add(9)\n",
    "lst.add(0)\n",
    "print(lst)\n",
    "\n",
    "print('remove 2')\n",
    "lst.remove(2)\n",
    "try:\n",
    "    lst.remove(99)\n",
    "except Exception as e:\n",
    "    print('remove 99: ', e)\n",
    "print('search')\n",
    "print('99: ', lst.search(99))\n",
    "print('5: ', lst.search(5))\n",
    "print('is_empty')\n",
    "print(lst.is_empty())\n",
    "print('size')\n",
    "print(lst)\n",
    "print(lst.size())\n",
    "print('index')\n",
    "print('2: ', lst.index(2))\n",
    "try:\n",
    "    lst.index(999)\n",
    "except Exception as e:\n",
    "    print('999: ', e)\n",
    "print('insert')\n",
    "lst.insert(-1, 99)\n",
    "lst.insert(0, 35)\n",
    "lst.insert(1, 66)\n",
    "print(lst) \n",
    "print('pop')\n",
    "print(lst.pop(-1))\n",
    "print(lst.pop(0))\n"
   ]
  },
  {
   "cell_type": "code",
   "execution_count": 29,
   "metadata": {},
   "outputs": [],
   "source": [
    "# 15. Modify the list classes to allow duplicates. Which methods will be impacted by this change?\n",
    "# if by duplicates meaning duplicate numbers/values, then:\n",
    "# no methods in UnorderedList are affected \n",
    "# no methods in OrderedList are affected\n",
    "# issue can however arise if a user tries to add a repeated node object into the list,\n",
    "# which can cause recursion within the list\n",
    "# 20. Implement the remaining operations defined in the OrderedList ADT (index, )\n",
    "class OrderedList(LinkedList):\n",
    "    def __init__(self):\n",
    "        super().__init__()\n",
    "    \n",
    "    def search(self,item):\n",
    "        current = self.head\n",
    "        while current is not None:\n",
    "            if current.val == item:\n",
    "                return True\n",
    "            if current.val > item:\n",
    "                return False\n",
    "            current = current._next\n",
    "        return False\n",
    "\n",
    "    def add(self, item):\n",
    "        \"\"\"Add a new node\"\"\"\n",
    "        current = self.head\n",
    "        previous = None\n",
    "        temp = Node(item)\n",
    "\n",
    "        while current is not None and current.val < item:\n",
    "            previous = current\n",
    "            current = current._next\n",
    "\n",
    "        if previous is None:\n",
    "            temp._next = self.head\n",
    "            self.head = temp\n",
    "        else:\n",
    "            temp._next = current\n",
    "            previous._next = temp\n",
    "        \n",
    "        self._size += 1\n",
    "\n",
    "    def index(self, item):\n",
    "        current = self.head\n",
    "        for i in range(self._size):\n",
    "            if current.val == item:\n",
    "                return i \n",
    "            \n",
    "            if current.val > item:\n",
    "                break\n",
    "            current = current._next\n",
    "        raise ValueError('Item not in list')\n",
    "\n",
    "    def remove(self, item):\n",
    "        current = self.head\n",
    "        previous = None\n",
    "\n",
    "        for _ in range(self._size):\n",
    "            if current.val == item:\n",
    "                break \n",
    "            if current.val > item:\n",
    "                raise ValueError('Item not in list')\n",
    "                \n",
    "            previous = current \n",
    "            current = current._next\n",
    "        \n",
    "        if current is None:\n",
    "            raise ValueError('Item not in list')\n",
    "\n",
    "        if previous is None:\n",
    "            #first item is val\n",
    "            self.head = current._next\n",
    "        else:\n",
    "            previous._next = current._next\n",
    "\n",
    "        self._size -= 1\n",
    "        \n",
    "        "
   ]
  },
  {
   "cell_type": "code",
   "execution_count": 30,
   "metadata": {},
   "outputs": [
    {
     "name": "stdout",
     "output_type": "stream",
     "text": [
      "add\n",
      "[0, 9, 24, 25, 100]\n",
      "remove 25\n",
      "remove 99:  Item not in list\n",
      "search\n",
      "99:  False\n",
      "24:  True\n",
      "is_empty\n",
      "False\n",
      "size\n",
      "[0, 9, 24, 100]\n",
      "4\n",
      "index\n",
      "0:  0\n",
      "999:  Item not in list\n",
      "[0, 9, 24, 100]\n",
      "pop\n",
      "pop -1:  100\n",
      "pop 0:  0\n"
     ]
    }
   ],
   "source": [
    "olst = OrderedList()\n",
    "print('add')\n",
    "olst.add(9)\n",
    "olst.add(0)\n",
    "olst.add(25)\n",
    "olst.add(24)\n",
    "olst.add(100)\n",
    "print(olst)\n",
    "\n",
    "print('remove 25')\n",
    "olst.remove(25)\n",
    "try:\n",
    "    olst.remove(99)\n",
    "except Exception as e:\n",
    "    print('remove 99: ', e)\n",
    "print('search')\n",
    "print('99: ', olst.search(99))\n",
    "print('24: ', olst.search(24))\n",
    "print('is_empty')\n",
    "print(olst.is_empty())\n",
    "print('size')\n",
    "print(olst)\n",
    "print(olst.size())\n",
    "print('index')\n",
    "print('0: ', olst.index(0))\n",
    "try:\n",
    "    olst.index(999)\n",
    "except Exception as e:\n",
    "    print('999: ', e)\n",
    "\n",
    "print(olst) \n",
    "print('pop')\n",
    "print('pop -1: ', olst.pop(-1))\n",
    "print('pop 0: ', olst.pop(0))\n"
   ]
  },
  {
   "cell_type": "markdown",
   "metadata": {},
   "source": [
    "21. Consider the relationship between Unordered and Ordered lists. \n",
    "Is it possible that inheritance could be used to build a more efficient implementation? \n",
    "Implement this inheritance hierarchy.\n",
    "\n",
    "Hierarchy is implemented using BaseList class, to store common operations such as pop, size, __str__, slice, is_empty. More class specific implementations such as search and add are then for the respective list types implemented after inheriting BaseList class."
   ]
  },
  {
   "cell_type": "code",
   "execution_count": 31,
   "metadata": {},
   "outputs": [],
   "source": [
    "class BasicBase:\n",
    "    def __init__(self):\n",
    "        #base class for queue and stacks\n",
    "        self.items = UnorderedList()\n",
    "        \n",
    "    def is_empty(self):\n",
    "        return self.items.is_empty()\n",
    "    \n",
    "    def size(self):\n",
    "        return self.items.size()\n",
    "\n",
    "    def __iter__(self):\n",
    "        return iter(self.items)\n",
    "\n",
    "    def __str__(self):\n",
    "        return str(self.items)"
   ]
  },
  {
   "cell_type": "code",
   "execution_count": 32,
   "metadata": {},
   "outputs": [],
   "source": [
    "#22. Implement a stack using linked lists.\n",
    "\n",
    "class LinkedListStack(BasicBase):\n",
    "    def __init__(self):\n",
    "        #head of list is top of the stack, and tail of list is rear of stack\n",
    "        super().__init__()\n",
    "    \n",
    "    def push(self, item):\n",
    "        self.items.add(item)\n",
    "\n",
    "    def pop(self):\n",
    "        return self.items.pop(0)\n",
    "    \n",
    "    def peek(self):\n",
    "        return self.items.head.val \n",
    "\n"
   ]
  },
  {
   "cell_type": "code",
   "execution_count": 33,
   "metadata": {},
   "outputs": [
    {
     "name": "stdout",
     "output_type": "stream",
     "text": [
      "push: 2, bob, 99\n",
      "[99, 'bob', 2]\n",
      "pop x 2\n",
      "99\n",
      "bob\n",
      "peek:  2\n",
      "is_empty:  False\n",
      "size:  1\n"
     ]
    }
   ],
   "source": [
    "stack_2 = LinkedListStack()\n",
    "print('push: 2, bob, 99')\n",
    "stack_2.push(2)\n",
    "stack_2.push('bob')\n",
    "stack_2.push(99)\n",
    "print(stack_2)\n",
    "print('pop x 2')\n",
    "print(stack_2.pop())\n",
    "print(stack_2.pop())\n",
    "print('peek: ', stack_2.peek())\n",
    "print('is_empty: ', stack_2.is_empty())\n",
    "print('size: ', stack_2.size())"
   ]
  },
  {
   "cell_type": "code",
   "execution_count": 34,
   "metadata": {},
   "outputs": [],
   "source": [
    "# 23. Implement a queue using linked lists\n",
    "\n",
    "class LinkedListQueue(BasicBase):\n",
    "    def __init__(self):\n",
    "        #head of the queue = head of the list, rear of the queue = tail of list \n",
    "        super().__init__()\n",
    "    \n",
    "    def enqueue(self, item):\n",
    "        self.items.append(item)\n",
    "    \n",
    "    def dequeue(self):\n",
    "        return self.items.pop(0)\n",
    "    \n",
    "    "
   ]
  },
  {
   "cell_type": "code",
   "execution_count": 35,
   "metadata": {},
   "outputs": [
    {
     "name": "stdout",
     "output_type": "stream",
     "text": [
      "enqueue 99, 25, 24, bob\n",
      "[99, 25, 24, 'bob']\n",
      "dequeue x 2\n",
      "99\n",
      "25\n",
      "[24, 'bob']\n",
      "size:  2\n",
      "is_empty:  False\n"
     ]
    }
   ],
   "source": [
    "llq = LinkedListQueue()\n",
    "print('enqueue 99, 25, 24, bob')\n",
    "llq.enqueue(99)\n",
    "llq.enqueue(25)\n",
    "llq.enqueue(24)\n",
    "llq.enqueue('bob')\n",
    "print(llq)\n",
    "print('dequeue x 2')\n",
    "print(llq.dequeue())\n",
    "print(llq.dequeue())\n",
    "print(llq)\n",
    "print('size: ', llq.size())\n",
    "print('is_empty: ', llq.is_empty())\n"
   ]
  },
  {
   "cell_type": "code",
   "execution_count": 36,
   "metadata": {},
   "outputs": [],
   "source": [
    "# 24. Implement a deque using linked list \n",
    "class LinkedListDeque(BasicBase):\n",
    "    def __init__(self):\n",
    "        #add_front, add_rear, remove_front, remove_rear\n",
    "        #head of list is head of deque, tail of list is rear of deque\n",
    "        super().__init__()\n",
    "    \n",
    "    def add_front(self, item):\n",
    "        self.items.add(item)\n",
    "    \n",
    "    def add_rear(self, item):\n",
    "        self.items.append(item)\n",
    "    \n",
    "    def remove_front(self):\n",
    "        return self.items.pop(0)\n",
    "    \n",
    "    def remove_rear(self):\n",
    "        return self.items.pop()"
   ]
  },
  {
   "cell_type": "code",
   "execution_count": 37,
   "metadata": {},
   "outputs": [
    {
     "name": "stdout",
     "output_type": "stream",
     "text": [
      "add front: bob, 99, 24\n",
      "[24, 99, 'bob']\n",
      "add rear: 3, 8, 81\n",
      "[24, 99, 'bob', 3, 8, 81]\n",
      "remove front x 2\n",
      "24\n",
      "99\n",
      "remove rear x 1\n",
      "81\n",
      "is_empty:  False\n",
      "size:  3\n",
      "['bob', 3, 8]\n"
     ]
    }
   ],
   "source": [
    "dq = LinkedListDeque()\n",
    "print('add front: bob, 99, 24')\n",
    "dq.add_front('bob')\n",
    "dq.add_front(99)\n",
    "dq.add_front(24)\n",
    "print(dq)\n",
    "print('add rear: 3, 8, 81')\n",
    "dq.add_rear(3)\n",
    "dq.add_rear(8)\n",
    "dq.add_rear(81)\n",
    "print(dq)\n",
    "print('remove front x 2')\n",
    "print(dq.remove_front())\n",
    "print(dq.remove_front())\n",
    "print('remove rear x 1')\n",
    "print(dq.remove_rear())\n",
    "print('is_empty: ', dq.is_empty())\n",
    "print('size: ', dq.size())\n",
    "print(dq)"
   ]
  },
  {
   "cell_type": "code",
   "execution_count": 38,
   "metadata": {},
   "outputs": [
    {
     "data": {
      "text/plain": [
       "<matplotlib.legend.Legend at 0x113a19e80>"
      ]
     },
     "execution_count": 38,
     "metadata": {},
     "output_type": "execute_result"
    },
    {
     "data": {
      "image/png": "[encoded data removed]",
      "text/plain": [
       "<Figure size 432x288 with 1 Axes>"
      ]
     },
     "metadata": {
      "needs_background": "light"
     },
     "output_type": "display_data"
    }
   ],
   "source": [
    "# 26.Design and implement an experiment that will compare the performance of the Python list \n",
    "# based stack and queue with the linked list implementation.\n",
    "#Compare stacks - compare push and pop\n",
    "X = []\n",
    "Y1 = []# pystack push\n",
    "Y2 = [] # llstack push\n",
    "Y3 = [] # pystack pop \n",
    "Y4 = [] # llstack pop\n",
    "number = 1_000\n",
    "for size in range(1_000, 100_001, 1_000):\n",
    "    #test push \n",
    "    x1 = Stack()\n",
    "    x2 = LinkedListStack()\n",
    "\n",
    "    t1 = Timer(f\"x1.push(random.random())\", \"from __main__ import x1, random\")\n",
    "    Y1.append(t1.timeit(number=number))\n",
    "    t2 = Timer(f\"x2.push(random.random())\", \"from __main__ import x2, random\")\n",
    "    Y2.append(t2.timeit(number=number))\n",
    "    X.append(size)\n",
    "\n",
    "for size in range(1_000, 100_001, 1_000):\n",
    "    x1 = Stack()\n",
    "    x2 = LinkedListStack()\n",
    "    #test pop\n",
    "    for _ in range(size):\n",
    "        x1.push(random.random())\n",
    "        x2.push(random.random())\n",
    "    \n",
    "    t3 = Timer(f\"x1.pop()\", \"from __main__ import x1\")\n",
    "    Y3.append(t3.timeit(number=number))\n",
    "    t4 = Timer(f\"x2.pop()\", \"from __main__ import x2\")\n",
    "    Y4.append(t4.timeit(number=number))\n",
    "\n",
    "plt.plot(X, Y1, color='blue', marker='.', label='python list push')\n",
    "plt.plot(X, Y2, color='red', marker='.', label='linked list push')\n",
    "plt.plot(X, Y3, color='green', marker='.', label='python list pop')\n",
    "plt.plot(X, Y4, color='orange', marker='.', label='linked list pop')\n",
    "\n",
    "plt.xlabel('n')\n",
    "plt.ylabel('time(s)')\n",
    "plt.legend()"
   ]
  },
  {
   "cell_type": "markdown",
   "metadata": {},
   "source": [
    "Comparing python list and linked list implementations of Stack, we can see that the time complexity of both push and pop methods of both implementations are O(1). This is due to the because in both stack implementations these operations push and pop involve O(1) operations: \n",
    "\n",
    "python list: \\\n",
    "push = list.append() - O(1)  \\\n",
    "pop = list.pop() = O(1) \\\n",
    "linked list: \\\n",
    "push = linked_list.add() (adding item to head of list which only involves set operations in switching head nodes and appending prev list to new head) - O(1) \\\n",
    "pop = linked_list.pop(0) (linked list pop 0 only involves set operations inmaking second node new head and returning original head node) = O(1) \n"
   ]
  },
  {
   "cell_type": "code",
   "execution_count": 39,
   "metadata": {},
   "outputs": [
    {
     "data": {
      "text/plain": [
       "<matplotlib.legend.Legend at 0x105f94970>"
      ]
     },
     "execution_count": 39,
     "metadata": {},
     "output_type": "execute_result"
    },
    {
     "data": {
      "image/png": "[encoded data removed]",
      "text/plain": [
       "<Figure size 432x288 with 1 Axes>"
      ]
     },
     "metadata": {
      "needs_background": "light"
     },
     "output_type": "display_data"
    }
   ],
   "source": [
    "#Compare queues - compare enqueue, dequeue\n",
    "X = []\n",
    "Y1 = []# pyqueue enqueue\n",
    "Y2 = [] # llqueue enqueue\n",
    "Y3 = [] # pyqueue dequeue \n",
    "Y4 = [] # llqueue dequeue\n",
    "number = 1_00\n",
    "for size in range(1_00, 100_01, 1_00):\n",
    "    #test enqueue \n",
    "    x1 = Queue()\n",
    "    x2 = LinkedListQueue()\n",
    "\n",
    "    t1 = Timer(f\"x1.enqueue(random.random())\", \"from __main__ import x1, random\")\n",
    "    Y1.append(t1.timeit(number=number))\n",
    "    t2 = Timer(f\"x2.enqueue(random.random())\", \"from __main__ import x2, random\")\n",
    "    Y2.append(t2.timeit(number=number))\n",
    "    X.append(size)\n",
    "\n",
    "for size in range(1_00, 10_001, 1_00):\n",
    "    #test dequeue\n",
    "    x1 = Queue()\n",
    "    x2 = LinkedListQueue()\n",
    "    for _ in range(size):\n",
    "        x1.enqueue(random.random())\n",
    "        x2.enqueue(random.random())\n",
    "    \n",
    "    t3 = Timer(f\"x1.dequeue()\", \"from __main__ import x1\")\n",
    "    Y3.append(t3.timeit(number=number))\n",
    "    t4 = Timer(f\"x2.dequeue()\", \"from __main__ import x2\")\n",
    "    Y4.append(t4.timeit(number=number))\n",
    "\n",
    "plt.plot(X, Y1, color='blue', marker='.', label='python list enqueue')\n",
    "plt.plot(X, Y2, color='red', marker='.', label='linked list enqueue')\n",
    "plt.plot(X, Y3, color='green', marker='.', label='python list dequeue')\n",
    "plt.plot(X, Y4, color='orange', marker='.', label='linked list dequeue')\n",
    "\n",
    "plt.xlabel('n')\n",
    "plt.ylabel('time(s)')\n",
    "plt.legend()\n"
   ]
  },
  {
   "cell_type": "markdown",
   "metadata": {},
   "source": [
    "Comparing python list and linked list implemtnation of queues, at first glance it seems that the time complexity for enqueue operations are both O(1) for both implementations. However, in python list operation the enqueue method uses list.insert(0, item), which is an O(n) operation, so we would've expected to see linear growth in run time. This is in contrast with linked list operation where enqueue is linked_list.append(item), which is a O(1) operation. This may be due to the small n sizes sampled, where typically native python operations are more optimized and so the difference may not be reflected in this experiment. This is hinted by the fact that larger sampled n sizes causes much longer experiment run times. \n",
    "\n",
    "Comparing dequeue operations, again it seems that for both implementations the time complexitie are O(1). Given python list operation for dequeue uses list.pop(), and linked list operation for dequeue uses linked_list.pop(0), which is also O(1), this aligns with our expectations."
   ]
  },
  {
   "cell_type": "code",
   "execution_count": 41,
   "metadata": {},
   "outputs": [],
   "source": [
    "# 27. The linked list implementation given above is called a singly linked list because each node \n",
    "# has a single reference to the next node in sequence. An alternative implementation is known as a doubly linked list. \n",
    "# In this implementation, each node has a reference to the next node (commonly called next) as well as a reference to the \n",
    "# preceding node (commonly called back). The head reference also contains two references, \n",
    "# one to the first node in the linked list and one to the last. Code this implementation in Python.\n",
    "class DoublyLinkedNode:\n",
    "    def __init__(self, value):\n",
    "        self._val = value \n",
    "        self._next = None \n",
    "        self._prev = None \n",
    "\n",
    "    #I guess this can reduce confusion between methods and actual attribute with similar name?\n",
    "    def get_val(self):\n",
    "        return self._val \n",
    "    def set_val(self, node_val):\n",
    "        self._val = node_val \n",
    "    val = property(get_val, set_val)\n",
    "\n",
    "    def get_next(self):\n",
    "        return self._next \n",
    "    def set_next(self, next_node):\n",
    "        self._next = next_node \n",
    "    next = property(get_next, set_next)\n",
    "\n",
    "    def get_prev(self):\n",
    "        return self._prev \n",
    "    def set_prev(self, prev_node):\n",
    "        self._prev = prev_node \n",
    "    prev = property(get_prev, set_prev)\n"
   ]
  },
  {
   "cell_type": "markdown",
   "metadata": {},
   "source": [
    "Doubly Linked List Base is same as current linked list implementation (b/c accidentally included tail reference\n",
    "in singly linked list to make it more efficient in previous problem)\n",
    "- DoublyLinkedLists would have advantage of simplifying  methods that requires \n",
    "previous node pointer for bookkeeping. Also improves time complexity for methods that originally requires traversal\n",
    "of the list, such as append in unorderedlist. Other methods such as pop, or index, can also see improvement by \n",
    "opting to traverse backwards from end of list for indices closer to end of list (although in terms of big-O it would be considered the same, as originally worse case it would be O(n), and new worse case would be O(n/2), but big-O ignores coefficients)"
   ]
  },
  {
   "cell_type": "markdown",
   "metadata": {},
   "source": []
  }
 ],
 "metadata": {
  "interpreter": {
   "hash": "398dc28c06ad810e77de546bbdfa897a6ee0b83e59a5207339dda01a7843e01d"
  },
  "kernelspec": {
   "display_name": "Python 3.7.3 64-bit ('base': conda)",
   "name": "python3"
  },
  "language_info": {
   "codemirror_mode": {
    "name": "ipython",
    "version": 3
   },
   "file_extension": ".py",
   "mimetype": "text/x-python",
   "name": "python",
   "nbconvert_exporter": "python",
   "pygments_lexer": "ipython3",
   "version": "3.9.9"
  },
  "orig_nbformat": 4
 },
 "nbformat": 4,
 "nbformat_minor": 2
}
