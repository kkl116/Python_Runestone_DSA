{
 "cells": [
  {
   "cell_type": "code",
   "execution_count": 241,
   "metadata": {},
   "outputs": [],
   "source": [
    "#Chapter 4 - linear data structures \n",
    "#Discussion questions\n",
    "from pythonds3.basic import Stack, Queue\n"
   ]
  },
  {
   "cell_type": "code",
   "execution_count": 36,
   "metadata": {},
   "outputs": [
    {
     "name": "stdout",
     "output_type": "stream",
     "text": [
      "[1, 0, 0, 0, 1]\n",
      "[1, 0, 1, 1, 0, 1]\n",
      "[0, 0, 0, 0, 0, 1, 1]\n"
     ]
    }
   ],
   "source": [
    "#covert following values to binary using \"divide by 2\". Show the stack of remainders\n",
    "def divide_by_base(num, base=2):\n",
    "    rem_stack = Stack()\n",
    "    while num > 0:\n",
    "        rem = num % 2\n",
    "        rem_stack.push(rem)\n",
    "        num = num // 2\n",
    "    \n",
    "    # bin_str = ''\n",
    "    # while not rem_stack.is_empty():\n",
    "    #     bin_str += str(rem_stack.pop())\n",
    "    return rem_stack._items\n",
    "\n",
    "print(divide_by_base(17))\n",
    "print(divide_by_base(45))\n",
    "print(divide_by_base(96))"
   ]
  },
  {
   "cell_type": "markdown",
   "metadata": {},
   "source": [
    "#### 2. convert the following infix expressions to prefix (using full parenthesis)\n",
    "1. (A+B)*(C+D)*(E+F)\n",
    "2. A+((B+C)*(D+E))\n",
    "3. A*B*C*D+E+F\n",
    "\n",
    "***\n",
    "\n",
    "1. *+AB*+CD+EF \n",
    "2. +A*+BC+DE\n",
    "3. *A*B*CD+E+F\n",
    "\n",
    "#### 3. convert the above infix operations to postfix (using full parenthesis)\n",
    "1. AB+CD+*EF+*\n",
    "2. ABC+DE+*+\n",
    "3. AB*C*D*E+F+\n"
   ]
  },
  {
   "cell_type": "code",
   "execution_count": 43,
   "metadata": {},
   "outputs": [
    {
     "name": "stdout",
     "output_type": "stream",
     "text": [
      "AB+CD+*EF+*\n",
      "ABC+DE+*+\n",
      "AB*C*D*E+F+\n"
     ]
    }
   ],
   "source": [
    "#4. convert above infix operations to postfix using direct conversion algorithm\n",
    "def infix_to_postfix(exp):\n",
    "    prec = {\n",
    "    \"(\" : 1, \n",
    "    \"+\" : 2, \n",
    "    \"-\" : 2,\n",
    "    \"*\" : 3, \n",
    "    '/' : 3,\n",
    "    }\n",
    "    stack = Stack()\n",
    "    postfix = []\n",
    "    brackets = '()'\n",
    "    for char in exp:\n",
    "        if char not in prec and char != ')':\n",
    "            postfix.append(char)\n",
    "        \n",
    "        elif char == '(':\n",
    "            stack.push(char)\n",
    "        \n",
    "        elif char == ')':\n",
    "            top = stack.pop()\n",
    "            while top != '(':\n",
    "                postfix.append(top)\n",
    "                top = stack.pop()\n",
    "        \n",
    "        else:\n",
    "            # >= for comp here \n",
    "            while not stack.is_empty() and prec[stack.peek()] >= prec[char]:\n",
    "                postfix.append(stack.pop())\n",
    "            stack.push(char)\n",
    "\n",
    "    #add remaining operators\n",
    "    while not stack.is_empty():\n",
    "        postfix.append(stack.pop())\n",
    "    return ''.join(postfix)\n",
    "            \n",
    "print(infix_to_postfix('(A+B)*(C+D)*(E+F)'))\n",
    "print(infix_to_postfix('A+((B+C)*(D+E))'))\n",
    "print(infix_to_postfix('A*B*C*D+E+F'))\n",
    "\n",
    "\n",
    "        "
   ]
  },
  {
   "cell_type": "code",
   "execution_count": 49,
   "metadata": {},
   "outputs": [
    {
     "name": "stdout",
     "output_type": "stream",
     "text": [
      "10\n",
      "15\n",
      "47\n"
     ]
    }
   ],
   "source": [
    "#Evaluate the following postfix expressions, show the stack as each operator and operand is processed\n",
    "def do_operation(operator, operand_1, operand_2):\n",
    "    assert operator in '+/-*'\n",
    "    return eval(f'{operand_1} {operator} {operand_2}')\n",
    "\n",
    "def evaluate_postfix(postfix_exp):\n",
    "    operand_stack = Stack()\n",
    "    operators = '+-*/'\n",
    "    for token in postfix_exp:\n",
    "        if token not in operators:\n",
    "            operand_stack.push(token)\n",
    "        else:\n",
    "            operand_2 = operand_stack.pop()\n",
    "            operand_1 = operand_stack.pop()\n",
    "            res = do_operation(token, operand_1, operand_2)\n",
    "            operand_stack.push(res)\n",
    "    \n",
    "    assert operand_stack.size() == 1\n",
    "    return operand_stack.pop()\n",
    "\n",
    "print(evaluate_postfix('23*4+'))\n",
    "print(evaluate_postfix('12+3+4+5+'))\n",
    "print(evaluate_postfix('12345*+*+'))\n"
   ]
  },
  {
   "cell_type": "markdown",
   "metadata": {},
   "source": [
    "#### 6. The alternative implementation of the Queue ADT is to use a list such that rear of the queue is the end of the list. What would this mean for big-O performance\n",
    "\n",
    " enqueue - if rear of queue is at the end of list then enqueue would be a O(1) operation, as it equates to append, versus\n",
    " current O(n) complexity given the current insert(0, item) implementation.\n",
    " ***\n",
    " dequeue - if rear of queue is at the end of list then dequeue would be a O(n) operation, as it equates to .pop(0), versus\n",
    " current O(1) complexity given current .pop() implementation. \n",
    " ***\n",
    " .size() and .is_empty() operations are not affected\n",
    "\n"
   ]
  },
  {
   "cell_type": "markdown",
   "metadata": {},
   "source": [
    "#### What is the result of carrying out both steps of the linked list add method in reverse order? What kind of reference results? What types of problems may result?\n",
    "\n",
    "def add(self, item): <br>\n",
    "> temp = Node(item) <br>\n",
    "> temp.set_next(self.head) **step 1** <br>\n",
    "> self.head = temp **step 2** <br>\n",
    "\n",
    "if both steps are carried out in reverse order, step 1 means *self.head* will be set to *temp*, but as *temp*'s next == None, the original references to the linked list will be gone. Then step 2 setting *temp*'s next as *self.head* (which is temp), will lead to a circular reference to temp object itself. If other methods such as search, append, or index which require list traversal are called, it could lead to an infinite loop."
   ]
  },
  {
   "cell_type": "markdown",
   "metadata": {},
   "source": [
    "#### 8.Explain how the linked list remove method works when the item to be removed is in the last node.\n",
    "\n",
    "When the item to be removed is the last node, the remove method will through the whole list, arriving at the final node setting the reference current to be itself and reference previous to second to last node. The previous.next will then be set to current.next which is None, making previous the new final node, thus removing the final node."
   ]
  },
  {
   "cell_type": "markdown",
   "metadata": {},
   "source": [
    "#### 9. Explain how the remove method works when the item is in the only node in the linked list.\n",
    "\n",
    "When the item is the only node in the linked list, current.data == item will be immediate and thus the while loop for list traversal will not occur. At this stage, because previous **is None**, self.head will be set to current.next, which **== None**, thus resulting in an empty list."
   ]
  },
  {
   "cell_type": "code",
   "execution_count": 222,
   "metadata": {},
   "outputs": [
    {
     "name": "stdout",
     "output_type": "stream",
     "text": [
      "B C +\n"
     ]
    }
   ],
   "source": [
    "#Programming Exercises Chapter 4.27.\n",
    "#1. modify the infix-to-postfix algorithm so that it can handle errors \n",
    "\"\"\" possible errors:\n",
    "1. invalid tokens \n",
    "2. consecutive operands/operators\n",
    "3. unclosed brackets\n",
    "4. Invalid number of operands/operators\n",
    "\"\"\"\n",
    "\n",
    "def infix_to_postfix(infix_expr):\n",
    "    prec = {}\n",
    "    prec['**'] = 4\n",
    "    prec[\"*\"] = 3\n",
    "    prec[\"/\"] = 3\n",
    "    prec[\"+\"] = 2\n",
    "    prec[\"-\"] = 2\n",
    "    prec[\"(\"] = 1\n",
    "\n",
    "    def token_type(token):\n",
    "        #1\n",
    "        if token in \"ABCDEFGHIJKLMNOPQRSTUVWXYZ\" + \"0123456789\" + 'ANS':\n",
    "            return 'operand'\n",
    "        elif token in '()':\n",
    "            return 'bracket'\n",
    "        elif token in prec:\n",
    "            return 'operator'\n",
    "        else:\n",
    "            raise Exception(f'Invalid Token: \"{token}\"')\n",
    "\n",
    "    def check_expression(exp):\n",
    "        #4\n",
    "        operators = 0\n",
    "        operands = 0\n",
    "        for token in exp:\n",
    "            if token in \"ABCDEFGHIJKLMNOPQRSTUVWXYZ\" + \"0123456789\" + 'ANS':\n",
    "                operands += 1\n",
    "            if token in prec:\n",
    "                operators += 1\n",
    "        if operators != operands - 1:\n",
    "            raise Exception('Missing operators/operands')\n",
    "    \n",
    "\n",
    "    op_stack = Stack()\n",
    "    postfix_list = []\n",
    "    token_list = infix_expr.split()\n",
    "    token_list = list(map(lambda t: t.upper(), token_list))\n",
    "\n",
    "    for i,token in enumerate(token_list):\n",
    "        #2. consecutive operands/operators\n",
    "        if i > 0:\n",
    "            if token_type(token) == token_type(token_list[i-1]) and token_type(token) != 'bracket':\n",
    "                raise Exception(f'Consecutive {token_type(token)}s')\n",
    "\n",
    "        if token in \"ABCDEFGHIJKLMNOPQRSTUVWXYZ\" + \"0123456789\" + 'ANS':\n",
    "            postfix_list.append(token)\n",
    "        elif token == \"(\":\n",
    "            op_stack.push(token)\n",
    "        elif token == \")\":\n",
    "            #3\n",
    "            if op_stack.is_empty():\n",
    "                raise Exception('Unclosed Bracket')\n",
    "\n",
    "            top_token = op_stack.pop()\n",
    "            while top_token != \"(\" and not op_stack.is_empty():\n",
    "                postfix_list.append(top_token)\n",
    "                top_token = op_stack.pop()\n",
    "\n",
    "            if top_token != '(':\n",
    "                raise Exception('Unclosed Bracket')\n",
    "        else:\n",
    "\n",
    "            while (not op_stack.is_empty()) and (prec[op_stack.peek()] >= prec[token]):\n",
    "                postfix_list.append(op_stack.pop())\n",
    "            op_stack.push(token)\n",
    "\n",
    "    while not op_stack.is_empty():\n",
    "        postfix_list.append(op_stack.pop())\n",
    "\n",
    "    check_expression(postfix_list)\n",
    "\n",
    "    return \" \".join(postfix_list)\n",
    "\n",
    "print(infix_to_postfix('( ( b + c ) )'))"
   ]
  },
  {
   "cell_type": "code",
   "execution_count": 232,
   "metadata": {},
   "outputs": [],
   "source": [
    "#2. Modify the postfix evaluation algorithm so that it can handle errors.\n",
    "\"\"\" \n",
    "possible errors:\n",
    "1. check that final size of operand stack is 1, or else there is an error in the expression\n",
    "\"\"\"\n",
    "def int_test(s):\n",
    "    try:\n",
    "        int(s)\n",
    "        return True \n",
    "    except ValueError:\n",
    "        return False \n",
    "\n",
    "def postfix_eval(postfix_expr, prev_ans=None):\n",
    "    operand_stack = Stack()\n",
    "    token_list = postfix_expr.split()\n",
    "\n",
    "    if 'ANS' in token_list and prev_ans is None:\n",
    "        raise RuntimeError('ANS used but no previous answer stored.')\n",
    "\n",
    "    if prev_ans is not None:\n",
    "        token_list = map(lambda x: x if x != 'ANS' else prev_ans, token_list)\n",
    "\n",
    "    for token in token_list:\n",
    "        if int_test(token):\n",
    "            operand_stack.push(int(token))\n",
    "        else:\n",
    "            operand2 = operand_stack.pop()\n",
    "            operand1 = operand_stack.pop()\n",
    "            try:\n",
    "                result = eval(f\"{operand1} {token} {operand2}\")\n",
    "            except ZeroDivisionError:\n",
    "                print('Division by zero!')\n",
    "                return None\n",
    "                \n",
    "            operand_stack.push(result)\n",
    "    \n",
    "    if operand_stack.size() != 1:\n",
    "        raise Exception('Invalid expression')\n",
    "    return operand_stack.pop()\n"
   ]
  },
  {
   "cell_type": "code",
   "execution_count": 233,
   "metadata": {},
   "outputs": [
    {
     "data": {
      "text/plain": [
       "9"
      ]
     },
     "execution_count": 233,
     "metadata": {},
     "output_type": "execute_result"
    }
   ],
   "source": [
    "#Implement a direct infix evaluator that combines the functionality of infix-to-postfix conversion \n",
    "# and the postfix evaluation algorithm. \n",
    "# Your evaluator should process infix tokens from left to right and use two stacks, \n",
    "# one for operators and one for operands, to perform the evaluation.\n",
    "def direct_infix_evaluator(expression, prev_ans=None):\n",
    "    postfix = infix_to_postfix(expression)\n",
    "    result = postfix_eval(postfix, prev_ans)\n",
    "    return result\n",
    "\n",
    "direct_infix_evaluator('3 ** 2')"
   ]
  },
  {
   "cell_type": "code",
   "execution_count": 235,
   "metadata": {},
   "outputs": [
    {
     "name": "stdout",
     "output_type": "stream",
     "text": [
      "(Submit EXIT to exit)\n",
      "(If you would like to use the previous result please use ANS as a variable)\n",
      "Please enter an expression: \n",
      "1 + 2 = 3\n",
      "Please enter an expression: \n",
      "ANS * 9 = 27\n",
      "Please enter an expression: \n",
      "ANS * 3 = 81\n",
      "Please enter an expression: \n",
      "**** Calculator Closing! ****\n"
     ]
    }
   ],
   "source": [
    "#Turn your direct infix evaluator from the previous problem into a calculator.\n",
    "\n",
    "def calculator():\n",
    "    #take input and run direct_infix_evaluator\n",
    "    run = True\n",
    "    i = 0\n",
    "    while run:\n",
    "        if i == 0:\n",
    "            prev_ans = None \n",
    "            print('(Submit EXIT to exit)')\n",
    "            print('(If you would like to use the previous result please use ANS as a variable)')\n",
    "\n",
    "        print('Please enter an expression: ')\n",
    "        exp = input()\n",
    "        if exp == 'EXIT':\n",
    "            break \n",
    "        try:\n",
    "            ans = direct_infix_evaluator(exp, prev_ans) \n",
    "            print(f'{exp} = {ans}')\n",
    "            prev_ans = ans\n",
    "        except Exception as e:\n",
    "            print('ERROR: ' + str(e))\n",
    "        \n",
    "        i += 1\n",
    "    print('**** Calculator Closing! ****')\n",
    "calculator()\n",
    "\n"
   ]
  },
  {
   "cell_type": "code",
   "execution_count": 249,
   "metadata": {},
   "outputs": [],
   "source": [
    "#5. Implement the Queue ADT, using a list such that the rear of the queue is at the end of the list.\n",
    "\n",
    "class Queue_2:\n",
    "    def __init__(self):\n",
    "        self._items = []\n",
    "    def enqueue(self, item):\n",
    "        self._items.append(item)\n",
    "    def dequeue(self):\n",
    "        return self._items.pop(0)\n",
    "    def is_empty(self):\n",
    "        return not bool(len(self._items))\n",
    "    def size(self):\n",
    "        return len(self._items)"
   ]
  },
  {
   "cell_type": "code",
   "execution_count": 248,
   "metadata": {},
   "outputs": [
    {
     "data": {
      "text/plain": [
       "<matplotlib.legend.Legend at 0x1207faac8>"
      ]
     },
     "execution_count": 248,
     "metadata": {},
     "output_type": "execute_result"
    },
    {
     "data": {
      "image/png": "[encoded data removed]",
      "text/plain": [
       "<Figure size 432x288 with 1 Axes>"
      ]
     },
     "metadata": {
      "needs_background": "light"
     },
     "output_type": "display_data"
    }
   ],
   "source": [
    "# Design and implement an experiment to \n",
    "# do benchmark comparisons of the two queue implementations. What can you learn from such an experiment?\n",
    "#First compare \n",
    "from timeit import Timer\n",
    "import matplotlib.pyplot as plt\n",
    "X = []\n",
    "Y1 = []#Queue enqueue\n",
    "Y2 = [] #Queue2 enqueue\n",
    "Y3 = []\n",
    "Y4 = []\n",
    "number = 1000\n",
    "for size in range(1000, 100_000, 1_000):\n",
    "    x1 = Queue()\n",
    "    x2 = Queue_2()\n",
    "    x1._items = list(range(size))\n",
    "    x2._items = list(range(size))\n",
    "    t1 = Timer(f\"x1.enqueue(1)\", \"from __main__ import x1\")\n",
    "    t2 = Timer(f\"x2.enqueue(1)\", \"from __main__ import x2\")\n",
    "    Y1.append(t1.timeit(number=number))\n",
    "    Y2.append(t2.timeit(number=number))\n",
    "    x1._items = list(range(size))\n",
    "    x2._items = list(range(size))\n",
    "    t3 = Timer(f\"x1.dequeue()\", \"from __main__ import x1\")\n",
    "    t4 = Timer(f\"x2.dequeue()\", \"from __main__ import x2\")\n",
    "    Y3.append(t3.timeit(number=number))\n",
    "    Y4.append(t4.timeit(number=number))\n",
    "    X.append(size)\n",
    "\n",
    "plt.plot(X, Y1, color='blue', marker='.', label='Q1 enqueue')\n",
    "plt.plot(X, Y2, color='red', marker='.', label='Q2 enqueue')\n",
    "plt.plot(X, Y3, color='green', marker='.', label='Q1 dequeue')\n",
    "plt.plot(X, Y4, color='orange', marker='.', label='Q2 dequeue')\n",
    "\n",
    "plt.xlabel('n')\n",
    "plt.ylabel('time(s)')\n",
    "plt.legend()\n"
   ]
  },
  {
   "cell_type": "markdown",
   "metadata": {},
   "source": [
    "## Comparison of Queue and Queue_2\n",
    "The difference in implementation of Queue and Queue_2 (rear of queue either at start or end of list) results in the complexity of enqueue and dequeue to be swapped for the respective ADTs. In Queue, where the rear of the list was the front, enqueue would be equivalent to insert(0, item), which is a O(n) operation. This would be equivalent to dequeue in Queue_2 which is pop(0), which is also O(n). This is seen in the plot in the blue and orange lines. In Queue, dequeue is equivalent to pop(), an O(1) operation, of which it's time complexity is equivalent to Queue_2's enqueue, append(item), which is also O(1). Other operations in size and is_empty are the same."
   ]
  },
  {
   "cell_type": "code",
   "execution_count": 251,
   "metadata": {},
   "outputs": [
    {
     "ename": "ImportError",
     "evalue": "cannot import name 'Node' from 'pythonds3.basic' (/anaconda3/lib/python3.7/site-packages/pythonds3/basic/__init__.py)",
     "output_type": "error",
     "traceback": [
      "\u001b[0;31m---------------------------------------------------------------------------\u001b[0m",
      "\u001b[0;31mImportError\u001b[0m                               Traceback (most recent call last)",
      "\u001b[0;32m<ipython-input-251-feeafa9c4e9b>\u001b[0m in \u001b[0;36m<module>\u001b[0;34m\u001b[0m\n\u001b[1;32m      5\u001b[0m \u001b[0;34m\u001b[0m\u001b[0m\n\u001b[1;32m      6\u001b[0m \u001b[0;31m#Linked list seems to fit here\u001b[0m\u001b[0;34m\u001b[0m\u001b[0;34m\u001b[0m\u001b[0;34m\u001b[0m\u001b[0m\n\u001b[0;32m----> 7\u001b[0;31m \u001b[0;32mfrom\u001b[0m \u001b[0mpythonds3\u001b[0m\u001b[0;34m.\u001b[0m\u001b[0mbasic\u001b[0m \u001b[0;32mimport\u001b[0m \u001b[0mNode\u001b[0m\u001b[0;34m\u001b[0m\u001b[0;34m\u001b[0m\u001b[0m\n\u001b[0m\u001b[1;32m      8\u001b[0m \u001b[0;34m\u001b[0m\u001b[0m\n\u001b[1;32m      9\u001b[0m \u001b[0;32mclass\u001b[0m \u001b[0mQueue_3\u001b[0m\u001b[0;34m:\u001b[0m\u001b[0;34m\u001b[0m\u001b[0;34m\u001b[0m\u001b[0m\n",
      "\u001b[0;31mImportError\u001b[0m: cannot import name 'Node' from 'pythonds3.basic' (/anaconda3/lib/python3.7/site-packages/pythonds3/basic/__init__.py)"
     ]
    }
   ],
   "source": [
    "#7.It is possible to implement a queue such that both enqueue and dequeue have 𝑂(1) performance on average. \n",
    "# In this case it means that most of the time enqueue and dequeue will be 𝑂(1) except in one particular circumstance \n",
    "# where dequeue will be 𝑂(𝑛). Create an implementation of a queue that would have an average performance of 𝑂(1) for \n",
    "# enqueue and dequeue operations.\n",
    "\n",
    "#Linked list seems to fit here \n",
    "class Node:\n",
    "    def __init__(self, val=None, _next=None):\n",
    "        self.val = val\n",
    "        self._next = _next\n",
    "\n",
    "class Queue_3:\n",
    "    def __init__(self):\n",
    "        self.head = None \n",
    "        "
   ]
  },
  {
   "cell_type": "code",
   "execution_count": null,
   "metadata": {},
   "outputs": [],
   "source": []
  }
 ],
 "metadata": {
  "interpreter": {
   "hash": "398dc28c06ad810e77de546bbdfa897a6ee0b83e59a5207339dda01a7843e01d"
  },
  "kernelspec": {
   "display_name": "Python 3.7.3 64-bit ('base': conda)",
   "name": "python3"
  },
  "language_info": {
   "codemirror_mode": {
    "name": "ipython",
    "version": 3
   },
   "file_extension": ".py",
   "mimetype": "text/x-python",
   "name": "python",
   "nbconvert_exporter": "python",
   "pygments_lexer": "ipython3",
   "version": "3.7.3"
  },
  "orig_nbformat": 4
 },
 "nbformat": 4,
 "nbformat_minor": 2
}
