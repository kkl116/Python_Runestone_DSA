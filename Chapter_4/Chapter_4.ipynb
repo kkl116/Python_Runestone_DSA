{
 "cells": [
  {
   "cell_type": "code",
   "execution_count": 241,
   "metadata": {},
   "outputs": [],
   "source": [
    "#Chapter 4 - linear data structures \n",
    "#Discussion questions\n",
    "from pythonds3.basic import Stack, Queue\n"
   ]
  },
  {
   "cell_type": "code",
   "execution_count": 36,
   "metadata": {},
   "outputs": [
    {
     "name": "stdout",
     "output_type": "stream",
     "text": [
      "[1, 0, 0, 0, 1]\n",
      "[1, 0, 1, 1, 0, 1]\n",
      "[0, 0, 0, 0, 0, 1, 1]\n"
     ]
    }
   ],
   "source": [
    "#covert following values to binary using \"divide by 2\". Show the stack of remainders\n",
    "def divide_by_base(num, base=2):\n",
    "    rem_stack = Stack()\n",
    "    while num > 0:\n",
    "        rem = num % 2\n",
    "        rem_stack.push(rem)\n",
    "        num = num // 2\n",
    "    \n",
    "    # bin_str = ''\n",
    "    # while not rem_stack.is_empty():\n",
    "    #     bin_str += str(rem_stack.pop())\n",
    "    return rem_stack._items\n",
    "\n",
    "print(divide_by_base(17))\n",
    "print(divide_by_base(45))\n",
    "print(divide_by_base(96))"
   ]
  },
  {
   "cell_type": "markdown",
   "metadata": {},
   "source": [
    "#### 2. convert the following infix expressions to prefix (using full parenthesis)\n",
    "1. (A+B)*(C+D)*(E+F)\n",
    "2. A+((B+C)*(D+E))\n",
    "3. A*B*C*D+E+F\n",
    "\n",
    "***\n",
    "\n",
    "1. *+AB*+CD+EF \n",
    "2. +A*+BC+DE\n",
    "3. *A*B*CD+E+F\n",
    "\n",
    "#### 3. convert the above infix operations to postfix (using full parenthesis)\n",
    "1. AB+CD+*EF+*\n",
    "2. ABC+DE+*+\n",
    "3. AB*C*D*E+F+\n"
   ]
  },
  {
   "cell_type": "code",
   "execution_count": 43,
   "metadata": {},
   "outputs": [
    {
     "name": "stdout",
     "output_type": "stream",
     "text": [
      "AB+CD+*EF+*\n",
      "ABC+DE+*+\n",
      "AB*C*D*E+F+\n"
     ]
    }
   ],
   "source": [
    "#4. convert above infix operations to postfix using direct conversion algorithm\n",
    "def infix_to_postfix(exp):\n",
    "    prec = {\n",
    "    \"(\" : 1, \n",
    "    \"+\" : 2, \n",
    "    \"-\" : 2,\n",
    "    \"*\" : 3, \n",
    "    '/' : 3,\n",
    "    }\n",
    "    stack = Stack()\n",
    "    postfix = []\n",
    "    brackets = '()'\n",
    "    for char in exp:\n",
    "        if char not in prec and char != ')':\n",
    "            postfix.append(char)\n",
    "        \n",
    "        elif char == '(':\n",
    "            stack.push(char)\n",
    "        \n",
    "        elif char == ')':\n",
    "            top = stack.pop()\n",
    "            while top != '(':\n",
    "                postfix.append(top)\n",
    "                top = stack.pop()\n",
    "        \n",
    "        else:\n",
    "            # >= for comp here \n",
    "            while not stack.is_empty() and prec[stack.peek()] >= prec[char]:\n",
    "                postfix.append(stack.pop())\n",
    "            stack.push(char)\n",
    "\n",
    "    #add remaining operators\n",
    "    while not stack.is_empty():\n",
    "        postfix.append(stack.pop())\n",
    "    return ''.join(postfix)\n",
    "            \n",
    "print(infix_to_postfix('(A+B)*(C+D)*(E+F)'))\n",
    "print(infix_to_postfix('A+((B+C)*(D+E))'))\n",
    "print(infix_to_postfix('A*B*C*D+E+F'))\n",
    "\n",
    "\n",
    "        "
   ]
  },
  {
   "cell_type": "code",
   "execution_count": 49,
   "metadata": {},
   "outputs": [
    {
     "name": "stdout",
     "output_type": "stream",
     "text": [
      "10\n",
      "15\n",
      "47\n"
     ]
    }
   ],
   "source": [
    "#Evaluate the following postfix expressions, show the stack as each operator and operand is processed\n",
    "def do_operation(operator, operand_1, operand_2):\n",
    "    assert operator in '+/-*'\n",
    "    return eval(f'{operand_1} {operator} {operand_2}')\n",
    "\n",
    "def evaluate_postfix(postfix_exp):\n",
    "    operand_stack = Stack()\n",
    "    operators = '+-*/'\n",
    "    for token in postfix_exp:\n",
    "        if token not in operators:\n",
    "            operand_stack.push(token)\n",
    "        else:\n",
    "            operand_2 = operand_stack.pop()\n",
    "            operand_1 = operand_stack.pop()\n",
    "            res = do_operation(token, operand_1, operand_2)\n",
    "            operand_stack.push(res)\n",
    "    \n",
    "    assert operand_stack.size() == 1\n",
    "    return operand_stack.pop()\n",
    "\n",
    "print(evaluate_postfix('23*4+'))\n",
    "print(evaluate_postfix('12+3+4+5+'))\n",
    "print(evaluate_postfix('12345*+*+'))\n"
   ]
  },
  {
   "cell_type": "markdown",
   "metadata": {},
   "source": [
    "#### 6. The alternative implementation of the Queue ADT is to use a list such that rear of the queue is the end of the list. What would this mean for big-O performance\n",
    "\n",
    " enqueue - if rear of queue is at the end of list then enqueue would be a O(1) operation, as it equates to append, versus\n",
    " current O(n) complexity given the current insert(0, item) implementation.\n",
    " ***\n",
    " dequeue - if rear of queue is at the end of list then dequeue would be a O(n) operation, as it equates to .pop(0), versus\n",
    " current O(1) complexity given current .pop() implementation. \n",
    " ***\n",
    " .size() and .is_empty() operations are not affected\n",
    "\n"
   ]
  },
  {
   "cell_type": "markdown",
   "metadata": {},
   "source": [
    "#### What is the result of carrying out both steps of the linked list add method in reverse order? What kind of reference results? What types of problems may result?\n",
    "\n",
    "def add(self, item): <br>\n",
    "> temp = Node(item) <br>\n",
    "> temp.set_next(self.head) **step 1** <br>\n",
    "> self.head = temp **step 2** <br>\n",
    "\n",
    "if both steps are carried out in reverse order, step 1 means *self.head* will be set to *temp*, but as *temp*'s next == None, the original references to the linked list will be gone. Then step 2 setting *temp*'s next as *self.head* (which is temp), will lead to a circular reference to temp object itself. If other methods such as search, append, or index which require list traversal are called, it could lead to an infinite loop."
   ]
  },
  {
   "cell_type": "markdown",
   "metadata": {},
   "source": [
    "#### 8.Explain how the linked list remove method works when the item to be removed is in the last node.\n",
    "\n",
    "When the item to be removed is the last node, the remove method will through the whole list, arriving at the final node setting the reference current to be itself and reference previous to second to last node. The previous.next will then be set to current.next which is None, making previous the new final node, thus removing the final node."
   ]
  },
  {
   "cell_type": "markdown",
   "metadata": {},
   "source": [
    "#### 9. Explain how the remove method works when the item is in the only node in the linked list.\n",
    "\n",
    "When the item is the only node in the linked list, current.data == item will be immediate and thus the while loop for list traversal will not occur. At this stage, because previous **is None**, self.head will be set to current.next, which **== None**, thus resulting in an empty list."
   ]
  },
  {
   "cell_type": "code",
   "execution_count": 222,
   "metadata": {},
   "outputs": [
    {
     "name": "stdout",
     "output_type": "stream",
     "text": [
      "B C +\n"
     ]
    }
   ],
   "source": [
    "#Programming Exercises Chapter 4.27.\n",
    "#1. modify the infix-to-postfix algorithm so that it can handle errors \n",
    "\"\"\" possible errors:\n",
    "1. invalid tokens \n",
    "2. consecutive operands/operators\n",
    "3. unclosed brackets\n",
    "4. Invalid number of operands/operators\n",
    "\"\"\"\n",
    "\n",
    "def infix_to_postfix(infix_expr):\n",
    "    prec = {}\n",
    "    prec['**'] = 4\n",
    "    prec[\"*\"] = 3\n",
    "    prec[\"/\"] = 3\n",
    "    prec[\"+\"] = 2\n",
    "    prec[\"-\"] = 2\n",
    "    prec[\"(\"] = 1\n",
    "\n",
    "    def token_type(token):\n",
    "        #1\n",
    "        if token in \"ABCDEFGHIJKLMNOPQRSTUVWXYZ\" + \"0123456789\" + 'ANS':\n",
    "            return 'operand'\n",
    "        elif token in '()':\n",
    "            return 'bracket'\n",
    "        elif token in prec:\n",
    "            return 'operator'\n",
    "        else:\n",
    "            raise Exception(f'Invalid Token: \"{token}\"')\n",
    "\n",
    "    def check_expression(exp):\n",
    "        #4\n",
    "        operators = 0\n",
    "        operands = 0\n",
    "        for token in exp:\n",
    "            if token in \"ABCDEFGHIJKLMNOPQRSTUVWXYZ\" + \"0123456789\" + 'ANS':\n",
    "                operands += 1\n",
    "            if token in prec:\n",
    "                operators += 1\n",
    "        if operators != operands - 1:\n",
    "            raise Exception('Missing operators/operands')\n",
    "    \n",
    "\n",
    "    op_stack = Stack()\n",
    "    postfix_list = []\n",
    "    token_list = infix_expr.split()\n",
    "    token_list = list(map(lambda t: t.upper(), token_list))\n",
    "\n",
    "    for i,token in enumerate(token_list):\n",
    "        #2. consecutive operands/operators\n",
    "        if i > 0:\n",
    "            if token_type(token) == token_type(token_list[i-1]) and token_type(token) != 'bracket':\n",
    "                raise Exception(f'Consecutive {token_type(token)}s')\n",
    "\n",
    "        if token in \"ABCDEFGHIJKLMNOPQRSTUVWXYZ\" + \"0123456789\" + 'ANS':\n",
    "            postfix_list.append(token)\n",
    "        elif token == \"(\":\n",
    "            op_stack.push(token)\n",
    "        elif token == \")\":\n",
    "            #3\n",
    "            if op_stack.is_empty():\n",
    "                raise Exception('Unclosed Bracket')\n",
    "\n",
    "            top_token = op_stack.pop()\n",
    "            while top_token != \"(\" and not op_stack.is_empty():\n",
    "                postfix_list.append(top_token)\n",
    "                top_token = op_stack.pop()\n",
    "\n",
    "            if top_token != '(':\n",
    "                raise Exception('Unclosed Bracket')\n",
    "        else:\n",
    "\n",
    "            while (not op_stack.is_empty()) and (prec[op_stack.peek()] >= prec[token]):\n",
    "                postfix_list.append(op_stack.pop())\n",
    "            op_stack.push(token)\n",
    "\n",
    "    while not op_stack.is_empty():\n",
    "        postfix_list.append(op_stack.pop())\n",
    "\n",
    "    check_expression(postfix_list)\n",
    "\n",
    "    return \" \".join(postfix_list)\n",
    "\n",
    "print(infix_to_postfix('( ( b + c ) )'))"
   ]
  },
  {
   "cell_type": "code",
   "execution_count": 232,
   "metadata": {},
   "outputs": [],
   "source": [
    "#2. Modify the postfix evaluation algorithm so that it can handle errors.\n",
    "\"\"\" \n",
    "possible errors:\n",
    "1. check that final size of operand stack is 1, or else there is an error in the expression\n",
    "\"\"\"\n",
    "def int_test(s):\n",
    "    try:\n",
    "        int(s)\n",
    "        return True \n",
    "    except ValueError:\n",
    "        return False \n",
    "\n",
    "def postfix_eval(postfix_expr, prev_ans=None):\n",
    "    operand_stack = Stack()\n",
    "    token_list = postfix_expr.split()\n",
    "\n",
    "    if 'ANS' in token_list and prev_ans is None:\n",
    "        raise RuntimeError('ANS used but no previous answer stored.')\n",
    "\n",
    "    if prev_ans is not None:\n",
    "        token_list = map(lambda x: x if x != 'ANS' else prev_ans, token_list)\n",
    "\n",
    "    for token in token_list:\n",
    "        if int_test(token):\n",
    "            operand_stack.push(int(token))\n",
    "        else:\n",
    "            operand2 = operand_stack.pop()\n",
    "            operand1 = operand_stack.pop()\n",
    "            try:\n",
    "                result = eval(f\"{operand1} {token} {operand2}\")\n",
    "            except ZeroDivisionError:\n",
    "                print('Division by zero!')\n",
    "                return None\n",
    "                \n",
    "            operand_stack.push(result)\n",
    "    \n",
    "    if operand_stack.size() != 1:\n",
    "        raise Exception('Invalid expression')\n",
    "    return operand_stack.pop()\n"
   ]
  },
  {
   "cell_type": "code",
   "execution_count": 233,
   "metadata": {},
   "outputs": [
    {
     "data": {
      "text/plain": [
       "9"
      ]
     },
     "execution_count": 233,
     "metadata": {},
     "output_type": "execute_result"
    }
   ],
   "source": [
    "#Implement a direct infix evaluator that combines the functionality of infix-to-postfix conversion \n",
    "# and the postfix evaluation algorithm. \n",
    "# Your evaluator should process infix tokens from left to right and use two stacks, \n",
    "# one for operators and one for operands, to perform the evaluation.\n",
    "def direct_infix_evaluator(expression, prev_ans=None):\n",
    "    postfix = infix_to_postfix(expression)\n",
    "    result = postfix_eval(postfix, prev_ans)\n",
    "    return result\n",
    "\n",
    "direct_infix_evaluator('3 ** 2')"
   ]
  },
  {
   "cell_type": "code",
   "execution_count": 235,
   "metadata": {},
   "outputs": [
    {
     "name": "stdout",
     "output_type": "stream",
     "text": [
      "(Submit EXIT to exit)\n",
      "(If you would like to use the previous result please use ANS as a variable)\n",
      "Please enter an expression: \n",
      "1 + 2 = 3\n",
      "Please enter an expression: \n",
      "ANS * 9 = 27\n",
      "Please enter an expression: \n",
      "ANS * 3 = 81\n",
      "Please enter an expression: \n",
      "**** Calculator Closing! ****\n"
     ]
    }
   ],
   "source": [
    "#Turn your direct infix evaluator from the previous problem into a calculator.\n",
    "\n",
    "def calculator():\n",
    "    #take input and run direct_infix_evaluator\n",
    "    run = True\n",
    "    i = 0\n",
    "    while run:\n",
    "        if i == 0:\n",
    "            prev_ans = None \n",
    "            print('(Submit EXIT to exit)')\n",
    "            print('(If you would like to use the previous result please use ANS as a variable)')\n",
    "\n",
    "        print('Please enter an expression: ')\n",
    "        exp = input()\n",
    "        if exp == 'EXIT':\n",
    "            break \n",
    "        try:\n",
    "            ans = direct_infix_evaluator(exp, prev_ans) \n",
    "            print(f'{exp} = {ans}')\n",
    "            prev_ans = ans\n",
    "        except Exception as e:\n",
    "            print('ERROR: ' + str(e))\n",
    "        \n",
    "        i += 1\n",
    "    print('**** Calculator Closing! ****')\n",
    "calculator()\n",
    "\n"
   ]
  },
  {
   "cell_type": "code",
   "execution_count": 19,
   "metadata": {},
   "outputs": [],
   "source": [
    "#5. Implement the Queue ADT, using a list such that the rear of the queue is at the end of the list.\n",
    "\n",
    "class Queue_2:\n",
    "    def __init__(self):\n",
    "        self._items = []\n",
    "    def enqueue(self, item):\n",
    "        self._items.append(item)\n",
    "    def dequeue(self):\n",
    "        return self._items.pop(0)\n",
    "    def is_empty(self):\n",
    "        return not bool(len(self._items))\n",
    "    def size(self):\n",
    "        return len(self._items)"
   ]
  },
  {
   "cell_type": "code",
   "execution_count": 248,
   "metadata": {},
   "outputs": [
    {
     "data": {
      "text/plain": [
       "<matplotlib.legend.Legend at 0x1207faac8>"
      ]
     },
     "execution_count": 248,
     "metadata": {},
     "output_type": "execute_result"
    },
    {
     "data": {
      "image/png": "[encoded data removed]",
      "text/plain": [
       "<Figure size 432x288 with 1 Axes>"
      ]
     },
     "metadata": {
      "needs_background": "light"
     },
     "output_type": "display_data"
    }
   ],
   "source": [
    "# Design and implement an experiment to \n",
    "# do benchmark comparisons of the two queue implementations. What can you learn from such an experiment?\n",
    "#First compare \n",
    "from timeit import Timer\n",
    "import matplotlib.pyplot as plt\n",
    "X = []\n",
    "Y1 = []#Queue enqueue\n",
    "Y2 = [] #Queue2 enqueue\n",
    "Y3 = []\n",
    "Y4 = []\n",
    "number = 1000\n",
    "for size in range(1000, 100_000, 1_000):\n",
    "    x1 = Queue()\n",
    "    x2 = Queue_2()\n",
    "    x1._items = list(range(size))\n",
    "    x2._items = list(range(size))\n",
    "    t1 = Timer(f\"x1.enqueue(1)\", \"from __main__ import x1\")\n",
    "    t2 = Timer(f\"x2.enqueue(1)\", \"from __main__ import x2\")\n",
    "    Y1.append(t1.timeit(number=number))\n",
    "    Y2.append(t2.timeit(number=number))\n",
    "    x1._items = list(range(size))\n",
    "    x2._items = list(range(size))\n",
    "    t3 = Timer(f\"x1.dequeue()\", \"from __main__ import x1\")\n",
    "    t4 = Timer(f\"x2.dequeue()\", \"from __main__ import x2\")\n",
    "    Y3.append(t3.timeit(number=number))\n",
    "    Y4.append(t4.timeit(number=number))\n",
    "    X.append(size)\n",
    "\n",
    "plt.plot(X, Y1, color='blue', marker='.', label='Q1 enqueue')\n",
    "plt.plot(X, Y2, color='red', marker='.', label='Q2 enqueue')\n",
    "plt.plot(X, Y3, color='green', marker='.', label='Q1 dequeue')\n",
    "plt.plot(X, Y4, color='orange', marker='.', label='Q2 dequeue')\n",
    "\n",
    "plt.xlabel('n')\n",
    "plt.ylabel('time(s)')\n",
    "plt.legend()\n"
   ]
  },
  {
   "cell_type": "markdown",
   "metadata": {},
   "source": [
    "## Comparison of Queue and Queue_2\n",
    "The difference in implementation of Queue and Queue_2 (rear of queue either at start or end of list) results in the complexity of enqueue and dequeue to be swapped for the respective ADTs. In Queue, where the rear of the list was the front, enqueue would be equivalent to insert(0, item), which is a O(n) operation. This would be equivalent to dequeue in Queue_2 which is pop(0), which is also O(n). This is seen in the plot in the blue and orange lines. In Queue, dequeue is equivalent to pop(), an O(1) operation, of which it's time complexity is equivalent to Queue_2's enqueue, append(item), which is also O(1). Other operations in size and is_empty are the same."
   ]
  },
  {
   "cell_type": "code",
   "execution_count": 8,
   "metadata": {},
   "outputs": [],
   "source": [
    "#7.It is possible to implement a queue such that both enqueue and dequeue have 𝑂(1) performance on average. \n",
    "# In this case it means that most of the time enqueue and dequeue will be 𝑂(1) except in one particular circumstance \n",
    "# where dequeue will be 𝑂(𝑛). Create an implementation of a queue that would have an average performance of 𝑂(1) for \n",
    "# enqueue and dequeue operations.\n",
    "\n",
    "#Linked list seems to fit here?\n",
    "class Node:\n",
    "    def __init__(self, val=None, _next=None):\n",
    "        self.val = val\n",
    "        self._next = _next\n",
    "\n",
    "class Queue_3:\n",
    "    def __init__(self):\n",
    "        self.head = None \n",
    "        self.tail = None \n",
    "        self.size = 0\n",
    "        #rear of queue is head of linked list\n",
    "    def enqueue(self, item):\n",
    "        node = Node(item)\n",
    "        if self.size == 0:\n",
    "            self.head = node \n",
    "            self.tail = node \n",
    "        elif self.size >= 1:\n",
    "            self.tail._next = node \n",
    "            self.tail = node\n",
    "        self.size += 1\n",
    "\n",
    "    def dequeue(self):\n",
    "        if self.size == 0:\n",
    "            print('Queue is Empty')\n",
    "            return None\n",
    "        \n",
    "        if self.size > 1:\n",
    "            new_head = self.head._next\n",
    "            removed = self.head \n",
    "            self.head = new_head\n",
    "            self.size -= 1\n",
    "        else:\n",
    "            removed = self.head \n",
    "            self.head = None\n",
    "            self.tail = None \n",
    "        return removed.val\n",
    "\n",
    "\n",
    "queue = Queue_3()\n",
    "queue.enqueue(3)\n",
    "queue.enqueue(2)\n",
    "queue.enqueue(1)\n",
    "assert queue.dequeue() == 3\n",
    "assert queue.dequeue() == 2\n",
    "assert queue.dequeue() == 1\n",
    "assert queue.head == None and queue.tail == None"
   ]
  },
  {
   "cell_type": "code",
   "execution_count": 7,
   "metadata": {},
   "outputs": [
    {
     "data": {
      "text/plain": [
       "<matplotlib.legend.Legend at 0x113012c10>"
      ]
     },
     "execution_count": 7,
     "metadata": {},
     "output_type": "execute_result"
    },
    {
     "data": {
      "image/png": "[encoded data removed]",
      "text/plain": [
       "<Figure size 432x288 with 1 Axes>"
      ]
     },
     "metadata": {
      "needs_background": "light"
     },
     "output_type": "display_data"
    }
   ],
   "source": [
    "from timeit import Timer\n",
    "import matplotlib.pyplot as plt\n",
    "import random\n",
    "X = []\n",
    "Y1 = []#Queue3 enqueue\n",
    "Y2 = [] #Queue3 dequeue\n",
    "number = 1_000\n",
    "for size in range(1_000, 100_000, 1_000):\n",
    "    x1 = Queue_3()\n",
    "    for _ in range(size):\n",
    "        x1.enqueue(random.random())\n",
    "\n",
    "    t1 = Timer(f\"x1.enqueue(random.random())\", \"from __main__ import x1, random\")\n",
    "    Y1.append(t1.timeit(number=number))\n",
    "    t2 = Timer(f\"x1.dequeue()\", \"from __main__ import x1\")\n",
    "    Y2.append(t2.timeit(number=number))\n",
    "    X.append(size)\n",
    "\n",
    "plt.plot(X, Y1, color='blue', marker='.', label='Q3 enqueue')\n",
    "plt.plot(X, Y2, color='red', marker='.', label='Q3 dequeue')\n",
    "\n",
    "plt.xlabel('n')\n",
    "plt.ylabel('time(s)')\n",
    "plt.legend()"
   ]
  },
  {
   "cell_type": "code",
   "execution_count": 55,
   "metadata": {},
   "outputs": [],
   "source": [
    "#Consider a real life situation. Formulate a question and then design a simulation that can help to answer it. \n",
    "#Grocery Store Checkout \n",
    "class Customer:\n",
    "    def __init__(self, time, avg_basket_size=20, avg_item_duration=3, cash_duration=3, card_duration=1,\n",
    "    payment=None):\n",
    "        self.timestamp = time \n",
    "        #basket size\n",
    "        self.basket_size = (1 - random.gauss(0, 1)) * avg_basket_size\n",
    "        self.payment_method = payment\n",
    "        self.payment_duration = cash_duration if self.payment_method == 'cash' else card_duration\n",
    "        self.basket_duration = self.basket_size * (1-random.gauss(0,1)) * avg_item_duration + self.payment_duration\n",
    "\n",
    "    def get_stamp(self):\n",
    "        return self.timestamp\n",
    "    \n",
    "    def get_basket(self):\n",
    "        return self.basket_duration\n",
    "\n",
    "    def get_payment_method(self):\n",
    "        return self.payment_method\n",
    "\n",
    "    def wait_time(self, current_time):\n",
    "        return current_time - self.timestamp\n"
   ]
  },
  {
   "cell_type": "code",
   "execution_count": 82,
   "metadata": {},
   "outputs": [],
   "source": [
    "class PaymentTill:\n",
    "    def __init__(self, max_dps=3, payment_method=None):\n",
    "        self.payment_method = payment_method\n",
    "        self.max_dps = max_dps\n",
    "        self.dps = self.get_dps()\n",
    "        self.current_customer = None \n",
    "        self.time_remaining = None \n",
    "    \n",
    "    def get_dps(self):\n",
    "        if self.payment_method == 'card':\n",
    "            return self.max_dps \n",
    "        else:\n",
    "            return random.uniform(0.5, 1) * self.max_dps \n",
    "\n",
    "    def tick(self):\n",
    "        if self.current_customer is not None:\n",
    "            self.time_remaining = self.time_remaining - self.dps\n",
    "            if self.time_remaining <= 0:\n",
    "                self.current_customer = None \n",
    "    \n",
    "    def busy(self):\n",
    "        return self.current_customer is not None \n",
    "    \n",
    "    def start_next(self, new_customer):\n",
    "        self.current_customer = new_customer\n",
    "        self.time_remaining = new_customer.get_basket()"
   ]
  },
  {
   "cell_type": "code",
   "execution_count": 83,
   "metadata": {},
   "outputs": [],
   "source": [
    "class PaymentArea:\n",
    "    def __init__(self, n_cash, n_card, max_dps):\n",
    "        self.cash_payments = [PaymentTill(max_dps=max_dps)] * n_cash \n",
    "        self.card_payments = [PaymentTill(max_dps=max_dps)] * n_card \n",
    "\n",
    "    def tick(self):\n",
    "        for cash in self.cash_payments:\n",
    "            cash.tick()\n",
    "        for card in self.card_payments:\n",
    "            card.tick()\n",
    "\n",
    "    def start_free_till(self, customer):\n",
    "        if customer.get_payment_method() == 'cash':\n",
    "            for cash in self.cash_payments:\n",
    "                if not cash.busy():\n",
    "                    cash.start_next(customer)\n",
    "                    return True \n",
    "        elif customer.get_payment_method() == 'card':\n",
    "            for card in self.card_payments:\n",
    "                if not card.busy():\n",
    "                    card.start_next(customer)\n",
    "                    return True\n",
    "        \n",
    "        return False \n"
   ]
  },
  {
   "cell_type": "code",
   "execution_count": 84,
   "metadata": {},
   "outputs": [],
   "source": [
    "class SimQueue(Queue_2):\n",
    "    def __init__(self):\n",
    "        super().__init__()\n",
    "    \n",
    "    def peek(self):\n",
    "        return self._items[0]"
   ]
  },
  {
   "cell_type": "code",
   "execution_count": 128,
   "metadata": {},
   "outputs": [],
   "source": [
    "def spawn_customer(spawn_rate):\n",
    "    #spawn_rate per minute \n",
    "    num = random.randint(1, 60//spawn_rate)\n",
    "    return num == 60//spawn_rate\n",
    "\n",
    "def customer_payment(customer_cash_prob):\n",
    "    if random.uniform(0, 1) < customer_cash_prob:\n",
    "        return 'cash'\n",
    "    return 'card'\n",
    "\n",
    "def simulation(run_time=3600, \n",
    "avg_basket_size=20, avg_item_duration=4, cash_duration=3, card_duration=1, \n",
    "max_dps=3, n_cash=3, n_card=3, customer_spawn_rate=5, customer_cash_prob=0.25):\n",
    "    #run time in seconds \n",
    "    queue = SimQueue()\n",
    "    payment_area = PaymentArea(n_cash, n_card, max_dps)\n",
    "    waiting_times = []\n",
    "\n",
    "    for current in range(run_time):\n",
    "        if spawn_customer(customer_spawn_rate):\n",
    "            customer = Customer(current, avg_basket_size=avg_basket_size, avg_item_duration=avg_item_duration,\n",
    "            cash_duration=cash_duration, card_duration=card_duration, payment=customer_payment(customer_cash_prob))\n",
    "            \n",
    "            queue.enqueue(customer)\n",
    "        \n",
    "        if not queue.is_empty():\n",
    "            #check current customer's payment method \n",
    "            next_customer = queue.peek()\n",
    "            started = payment_area.start_free_till(next_customer)\n",
    "            if started:\n",
    "                queue.dequeue()\n",
    "                waiting_times.append(next_customer.wait_time(current))\n",
    "        \n",
    "        payment_area.tick()\n",
    "        \n",
    "    average_wait = sum(waiting_times)/len(waiting_times)\n",
    "    return average_wait, queue.size()\n",
    "                "
   ]
  },
  {
   "cell_type": "code",
   "execution_count": 131,
   "metadata": {},
   "outputs": [
    {
     "data": {
      "text/plain": [
       "Text(0.5, 1.0, 'customers remaining (n)')"
      ]
     },
     "execution_count": 131,
     "metadata": {},
     "output_type": "execute_result"
    },
    {
     "data": {
      "image/png": "[encoded data removed]",
      "text/plain": [
       "<Figure size 432x288 with 2 Axes>"
      ]
     },
     "metadata": {
      "needs_background": "light"
     },
     "output_type": "display_data"
    }
   ],
   "source": [
    "avg_wait_times = []\n",
    "customers_remaining = []\n",
    "for _  in range(100):\n",
    "    wait_times, remaining = simulation(3600)\n",
    "    avg_wait_times.append(wait_times)\n",
    "    customers_remaining.append(remaining)\n",
    "\n",
    "fig, (ax1, ax2) = plt.subplots(1,2)\n",
    "ax1.hist(avg_wait_times)\n",
    "ax2.hist(customers_remaining)\n",
    "ax1.set_title('average wait times (s)')\n",
    "ax2.set_title('customers remaining (n)')\n"
   ]
  },
  {
   "cell_type": "markdown",
   "metadata": {},
   "source": [
    "The above simulation is of a grocery store payment till, to see how different configurations affect customer wait times. The configurations include:\n",
    "\n",
    "    - avg_basket_size: determines average basket size in a gaussian distribution \n",
    "    - avg_item_duration: how long it takes on average to process an item - to introduce variability to customer processing time - also a gaussian distribution \n",
    "    - cash_duration: duration in secs/ticks it takes to process the payment of the basket if cash payment \n",
    "    - card_duration: duration in secs/ticks it takes to process the payment of the basket if card payment - typically less than card_duration \n",
    "    - max_dps: max basket duration that can be consumed by each tick at the till. For card tills the max_dps is always used (assumed self checkout is more efficient), where as cash tills because of human processing there is a level of variability introduced, where till can be up to 50% slower than card till \n",
    "    - n_cash: number of cash tills at payment area \n",
    "    - n_card: number of card tills at payment area \n",
    "    - customer_spawn_rate: customer spawned per minute on average \n",
    "    - customer_cash_prob: proportion of customers that use cash payment \n",
    "\n",
    "Different experimental conditions can also be modelled such as creating a second cash cue that cash customers can move to to prevent blockage. How does increasing the speed of cash vs card tills affect speed? Including simulation of incidents such as misscanned items at card tills which introduces delays, etc! "
   ]
  },
  {
   "cell_type": "code",
   "execution_count": 158,
   "metadata": {},
   "outputs": [],
   "source": [
    "#Modify the Hot Potato simulation to allow for a randomly chosen counting value so that each pass is not predictable from the previous one.\n",
    "def modified_hot_potato(name_list, max_num=10):\n",
    "    sim_queue = Queue()\n",
    "    for name in name_list:\n",
    "        sim_queue.enqueue(name)\n",
    "\n",
    "    while sim_queue.size() > 1:\n",
    "        #randomly generate num\n",
    "        num = random.randint(1, max_num)\n",
    "        for _ in range(num):\n",
    "            sim_queue.enqueue(sim_queue.dequeue())\n",
    "\n",
    "        sim_queue.dequeue()\n",
    "\n",
    "    return sim_queue.dequeue()"
   ]
  },
  {
   "cell_type": "code",
   "execution_count": 159,
   "metadata": {},
   "outputs": [
    {
     "data": {
      "text/plain": [
       "'edan'"
      ]
     },
     "execution_count": 159,
     "metadata": {},
     "output_type": "execute_result"
    }
   ],
   "source": [
    "modified_hot_potato(['bill', 'bob', 'jack', 'jill', 'joe', 'edan', 'holly'])"
   ]
  },
  {
   "cell_type": "code",
   "execution_count": null,
   "metadata": {},
   "outputs": [],
   "source": [
    "#Implement a radix sorting machine \n",
    "def radix_sort(nums):\n",
    "    pass\n"
   ]
  }
 ],
 "metadata": {
  "interpreter": {
   "hash": "398dc28c06ad810e77de546bbdfa897a6ee0b83e59a5207339dda01a7843e01d"
  },
  "kernelspec": {
   "display_name": "Python 3.7.3 64-bit ('base': conda)",
   "name": "python3"
  },
  "language_info": {
   "codemirror_mode": {
    "name": "ipython",
    "version": 3
   },
   "file_extension": ".py",
   "mimetype": "text/x-python",
   "name": "python",
   "nbconvert_exporter": "python",
   "pygments_lexer": "ipython3",
   "version": "3.9.9"
  },
  "orig_nbformat": 4
 },
 "nbformat": 4,
 "nbformat_minor": 2
}
