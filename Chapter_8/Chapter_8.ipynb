{
 "cells": [
  {
   "cell_type": "code",
   "execution_count": 1,
   "metadata": {},
   "outputs": [],
   "source": [
    "import networkx as nx\n",
    "from pyvis.network import Network\n",
    "import pandas as pd \n",
    "from pythonds3.graphs import Graph, Vertex\n",
    "from pythonds3.basic import Queue\n",
    "import string\n",
    "import matplotlib.pyplot as plt\n",
    "import numpy as np\n",
    "import random\n",
    "from tqdm import tqdm"
   ]
  },
  {
   "cell_type": "markdown",
   "metadata": {},
   "source": [
    "## Discussion Questions"
   ]
  },
  {
   "cell_type": "code",
   "execution_count": 2,
   "metadata": {},
   "outputs": [],
   "source": [
    "\"\"\" \n",
    "1. Draw the graph corresponding to the following adjacency matrix.\n",
    "\"\"\"\n",
    "\n",
    "def G_from_adjacency_matrix(matrix, node_names):\n",
    "    #if there is directionality, then we assume the rows are source nodes,\n",
    "    #and cols are target nodes \n",
    "    assert len(matrix) == len(node_names)\n",
    "    G = nx.MultiDiGraph()\n",
    "\n",
    "    for row in range(len(matrix)):\n",
    "        for col in range(len(matrix[row])):\n",
    "            if matrix[row][col] is not None:\n",
    "                G.add_edge(node_names[row], node_names[col], weight=matrix[row][col])\n",
    "    return G\n",
    "\n",
    "def visualise_nx_graph(graph, directed=True, multi_edge=True, graph_name=None,\n",
    "show_edge_weights=True):\n",
    "    assert graph_name is not None and '.html' in graph_name\n",
    "    net = Network(notebook=True, directed=directed)\n",
    "    if multi_edge:\n",
    "        net.set_edge_smooth('dynamic')\n",
    "    net.from_nx(graph, show_edge_weights=show_edge_weights)\n",
    "    net.show(graph_name)\n",
    "\n",
    "adjacencyMatrix = [\n",
    "    [None, 7, 5, None, None, 1],\n",
    "    [2, None, None, 7, 3, None],\n",
    "    [None, 2, None, None, None, 8],\n",
    "    [1, None, None, None, 2, 4],\n",
    "    [6, None, None, 5, None, None],\n",
    "    [None, 1, None, None, 8, None]\n",
    "]\n",
    "\n",
    "#need to set net to directed and set_edge_smooth to dynamic to enable multiple edges between nodes\n",
    "\n",
    "net_d1 = Network(notebook=True, directed=True)\n",
    "G = G_from_adjacency_matrix(adjacencyMatrix, string.ascii_uppercase[:6])\n",
    "\n",
    "visualise_nx_graph(G, graph_name='disc_q1.html')"
   ]
  },
  {
   "cell_type": "code",
   "execution_count": 3,
   "metadata": {},
   "outputs": [],
   "source": [
    "\"\"\"\n",
    "2. Draw the graph corresponding to the following list of edges.\n",
    "\"\"\"\n",
    "\n",
    "G = nx.MultiDiGraph()\n",
    "edges = [(1, 2, 10),\n",
    "        (1, 3, 15),\n",
    "        (1, 6, 5),\n",
    "        (2, 3, 7),\n",
    "        (3, 4, 7),\n",
    "        (3, 6, 10),\n",
    "        (4, 5, 7),\n",
    "        (6, 4, 5),\n",
    "        (5, 6, 13)]\n",
    "\n",
    "for edge in edges:\n",
    "    G.add_edge(edge[0], edge[1], weight=edge[2])\n",
    "\n",
    "visualise_nx_graph(G, graph_name='disc_q2.html', show_edge_weights=False,\n",
    "directed=True)\n"
   ]
  },
  {
   "cell_type": "code",
   "execution_count": 4,
   "metadata": {},
   "outputs": [],
   "source": [
    "\"\"\"\n",
    "3. Ignoring the weights, perform a breadth first search on the graph from the previous question\n",
    "\n",
    "    - implementing bfs from scratch using networkx graph object as an alternative way of answering the question\n",
    "\"\"\"\n",
    "\n",
    "def bfs_nx(g, start_node=None):\n",
    "    assert start_node in list(g)\n",
    "    #set_node_attributes: if nodes not specified, then applies to all nodes\n",
    "    nx.set_node_attributes(g, 0, 'explore_status')\n",
    "    nx.set_node_attributes(g, 0, 'distance')\n",
    "    nx.set_node_attributes(g, None, 'predecessor')\n",
    "    explore_queue = Queue()\n",
    "    explore_queue.enqueue(start_node)\n",
    "    while not explore_queue.is_empty():\n",
    "        current_node = explore_queue.dequeue()\n",
    "        #only keep neighbours that are not dead ends \n",
    "        neighbours = [neigh for neigh in list(g[current_node]) if g.nodes[neigh]['explore_status'] != 2]\n",
    "        for neigh in neighbours:\n",
    "            #we set exploration status to 1 - indicating that we've visited this node before, and predecessor \n",
    "            if g.nodes[neigh]['explore_status'] == 0:\n",
    "                nx.set_node_attributes(g, {neigh: {'explore_status': 1, 'predecessor': current_node,\n",
    "                                                    'distance': g.nodes[current_node]['distance'] + 1}})\n",
    "                explore_queue.enqueue(neigh)\n",
    "        \n",
    "        nx.set_node_attributes(g, {current_node: {'explore_status': 2}})\n",
    "    \n",
    "\n",
    "def bfs_predecessors_nx(g, start_node):\n",
    "    bfs_nx(g, start_node=start_node)\n",
    "    predecessors = []\n",
    "    for node in list(g):\n",
    "        if node != start_node:\n",
    "            predecessors.append((node, g.nodes[node]['predecessor']))\n",
    "    \n",
    "    return predecessors"
   ]
  },
  {
   "cell_type": "code",
   "execution_count": 5,
   "metadata": {},
   "outputs": [
    {
     "name": "stderr",
     "output_type": "stream",
     "text": [
      "100%|██████████| 100/100 [00:00<00:00, 285.64it/s]\n"
     ]
    }
   ],
   "source": [
    "#test bfs implementation\n",
    "n_trials = 100\n",
    "for _ in tqdm(range(n_trials)):\n",
    "    n_nodes = random.randint(10, 50)\n",
    "    p = random.uniform(0.5, 0.9)\n",
    "    random_graph = nx.gnp_random_graph(n_nodes, p=p)\n",
    "    assert sorted(list(nx.bfs_predecessors(random_graph, 1))) == sorted(bfs_predecessors_nx(random_graph, 1))"
   ]
  },
  {
   "cell_type": "markdown",
   "metadata": {},
   "source": [
    "4. What is the Big-O running time of the buildGraph function? \n",
    "\n",
    "```python\n",
    "def buildGraph(wordFile):\n",
    "    d = {}\n",
    "    g = Graph()\n",
    "    wfile = open(wordFile,'r')\n",
    "    # create buckets of words that differ by one letter\n",
    "    for line in wfile:\n",
    "        word = line[:-1]\n",
    "        for i in range(len(word)):\n",
    "            bucket = word[:i] + '_' + word[i+1:]\n",
    "            if bucket in d:\n",
    "                d[bucket].append(word)\n",
    "            else:\n",
    "                d[bucket] = [word]\n",
    "    \"\"\"\n",
    "    in this step, O(k*n) where k = 4 in this instance b/c length of words is 4. \n",
    "    \"\"\"\n",
    "\n",
    "    # add vertices and edges for words in the same bucket\n",
    "    for bucket in d.keys():\n",
    "        for word1 in d[bucket]:\n",
    "            for word2 in d[bucket]:\n",
    "                if word1 != word2:\n",
    "                    g.addEdge(word1,word2)\n",
    "\n",
    "    \"\"\"\n",
    "    The maximum number of words in a bucket is 26, and theoretical upper bound of the number of buckets is \n",
    "    26^(k-1). So the theoretical maximum number of edges added is 26^k (from 26 * 26^(k-1))\n",
    "    But, of course majority of the letter combinations will not be words... and this considers ALL possible k letter word combinations \n",
    "    which is overkill.\n",
    "\n",
    "    If we consider the input size (5110 words in this case), \n",
    "    if we take n/26 = ~197, we get the minimum possible number of buckets.\n",
    "    This assumes the case where the word list perfectly segments into buckets of 26 words (WORSE case, but pretty much impossible b/c again, \n",
    "    most combinations won't be words). \n",
    "    in this case, we will need to create 197 * (26 * 25) = 133,172 edges (theoretical maximum of edges needed in this scenario - in the actual\n",
    "    buildGraph output there were only ~53,000 edges)\n",
    "\n",
    "    so, combining the two processes:\n",
    "    O(k*n) + O(n/26 * 26 * 25) -> O(k*n + (n * 25)) -> O(n(k + 1))\n",
    "\n",
    "    ^ this is just my thinking of the process... because I suppose this is a particular case where we can identify an upper bound to the number of \n",
    "    edges quite easily, and so was trying to think of it in a different way, where we can quantify the coefficients.\n",
    "    But the answer to the question is really just O(n^2) b/c the second \n",
    "    process involves two nested for loops that, which essentially always comes to n * (n-1) = n^2 - n operations, it's just that the \n",
    "    coefficient would differ based on the average number of words in each bucket (e.g. for the sample problem the coefficient would be\n",
    "    0.002. AND in theory as n increases the coefficient no longer matters, but you know number of words is a pretty finite problem so)\n",
    "    \"\"\"    \n",
    "\n",
    "    return g\n",
    "\n",
    "```\n"
   ]
  },
  {
   "cell_type": "code",
   "execution_count": 6,
   "metadata": {},
   "outputs": [
    {
     "name": "stderr",
     "output_type": "stream",
     "text": [
      "No artists with labels found to put in legend.  Note that artists whose label start with an underscore are ignored when legend() is called with no argument.\n"
     ]
    },
    {
     "data": {
      "text/plain": [
       "<matplotlib.legend.Legend at 0x10f70e760>"
      ]
     },
     "execution_count": 6,
     "metadata": {},
     "output_type": "execute_result"
    },
    {
     "data": {
      "image/png": "[encoded data removed]",
      "text/plain": [
       "<Figure size 432x288 with 1 Axes>"
      ]
     },
     "metadata": {
      "needs_background": "light"
     },
     "output_type": "display_data"
    }
   ],
   "source": [
    "\"\"\"\n",
    "Question 4. additional proof just to make sure my assumptions are correct in my own derivation... \n",
    "if the number of buckets increase, ie. the average number of words within each number decreases, the \n",
    "theoretical total number of edges added will also decrease.\n",
    "\"\"\"\n",
    "\n",
    "x = 5110\n",
    "X = []\n",
    "Y = []\n",
    "for n_words in range(26, 0, -1):\n",
    "    n_buckets = x/n_words \n",
    "    X.append(n_buckets)\n",
    "    Y.append(n_buckets * (n_words * (n_words-1)))\n",
    "\n",
    "\n",
    "\n",
    "plt.plot(X, Y, marker='.')\n",
    "\n",
    "plt.xlabel('number of buckets')\n",
    "plt.ylabel('number of edges')\n",
    "plt.legend()\n"
   ]
  },
  {
   "cell_type": "code",
   "execution_count": 7,
   "metadata": {},
   "outputs": [
    {
     "name": "stderr",
     "output_type": "stream",
     "text": [
      "No artists with labels found to put in legend.  Note that artists whose label start with an underscore are ignored when legend() is called with no argument.\n"
     ]
    },
    {
     "data": {
      "text/plain": [
       "<matplotlib.legend.Legend at 0x11c4a3700>"
      ]
     },
     "execution_count": 7,
     "metadata": {},
     "output_type": "execute_result"
    },
    {
     "data": {
      "image/png": "[encoded data removed]",
      "text/plain": [
       "<Figure size 432x288 with 1 Axes>"
      ]
     },
     "metadata": {
      "needs_background": "light"
     },
     "output_type": "display_data"
    }
   ],
   "source": [
    "\"\"\"\n",
    "Question 4. just wanted to compare the big-O that I derived and a straightforward n^2\n",
    "\"\"\"\n",
    "\n",
    "X = []\n",
    "Y = []\n",
    "for n_words in range(26, 0, -1):\n",
    "    n_buckets = x/n_words \n",
    "    X.append(n_buckets)\n",
    "    Y.append(n_buckets * (n_words * (n_words-1)))\n",
    "\n",
    "\n",
    "plt.plot(X, Y, marker='.')\n",
    "\n",
    "plt.xlabel('number of buckets')\n",
    "plt.ylabel('number of edges')\n",
    "plt.legend()"
   ]
  },
  {
   "cell_type": "markdown",
   "metadata": {},
   "source": [
    "5.Derive the Big-O running time for the topological sort algorithm.\n",
    "\n",
    "\n",
    "***\n",
    "1. Call dfs(g) for some graph g. The main reason we want to call depth first search is to compute the finish times for each of the vertices.\n",
    "***\n",
    "    Time complexity of dfs is O(V + E)\n",
    "***\n",
    "\n",
    "\n",
    "2. Store the vertices in a list in decreasing order of finish time.\n",
    "***\n",
    "    We can store vertices during dfs; the main insight is that dfs always arrives at the final \n",
    "    node in the dfs tree first, and completes it, then goes back to complete the previous nodes. \n",
    "    Again, b/c dfs is a recursive function, it essentially is serving as a stack that pushes out \n",
    "    nodes as they \"finish\". So, during DFS, we simply need to append the finished nodes into self.finish_order\n",
    "    to obtain an ordered list of nodes with increasing finishing times.\n",
    "    We then return the reversed list (or we can list.insert(0, node) during dfs if we wish) as the result for topological sort.\n",
    "    So this step does not increase the time complexity of that of dfs!\n",
    "***\n",
    "\n",
    "3. Return the ordered list as the result of the topological sort.\n",
    "***\n",
    "    Here we just need to reverse the list, which is an O(V) operation\n",
    "***\n",
    "\n",
    "Combining the big-O if the two operations:\n",
    "O(V+E) + O(V) -> O(V+E)\n"
   ]
  },
  {
   "cell_type": "code",
   "execution_count": 26,
   "metadata": {},
   "outputs": [],
   "source": [
    "#implentation of Q5 topological sort\n",
    "\n",
    "class TopologicalSort_NX:\n",
    "    __explore_status__ = 'explore_status'\n",
    "    __predecessor__ = 'predecessor'\n",
    "    __discovery_time__ = 'discovery_time'\n",
    "    __finish_time__ = 'finish_time'\n",
    "    \n",
    "    def __init__(self, g):\n",
    "        self._g = g\n",
    "        self.finish_order = []\n",
    "        self.time = 0\n",
    "\n",
    "    def set_node_attribute(self, vertex=None, key=None, val=None):\n",
    "        if vertex is None:\n",
    "            #if no vertex is specified then we just set it for all nodes\n",
    "            nx.set_node_attributes(self._g, val, key)\n",
    "        else:\n",
    "            assert vertex in list(self._g)\n",
    "            nx.set_node_attributes(self._g, {vertex: {key: val}})\n",
    "\n",
    "    def get_node_attribute(self, vertex, key):\n",
    "        assert vertex in list(self._g)\n",
    "        return self._g.nodes[vertex][key]\n",
    "\n",
    "    def _topological_dfs(self):\n",
    "        if self._g is None:\n",
    "            raise Exception('no networkx graph object stored')\n",
    "        #reset parameters\n",
    "        self.time = 0\n",
    "        self.finish_order = []\n",
    "        self.set_node_attribute(key=TopologicalSort_NX.__explore_status__, val=0)\n",
    "        self.set_node_attribute(key=TopologicalSort_NX.__predecessor__, val=None)\n",
    "        self.set_node_attribute(key=TopologicalSort_NX.__discovery_time__, val=-1)\n",
    "        self.set_node_attribute(key=TopologicalSort_NX.__finish_time__, val=-1)\n",
    "\n",
    "        for vertex in list(self._g):\n",
    "            if self._g.nodes[vertex][TopologicalSort_NX.__explore_status__] == 0:\n",
    "                self._topological_dfsVisit(vertex)\n",
    "\n",
    "\n",
    "    def _topological_dfsVisit(self, start_vertex):\n",
    "        self.time += 1\n",
    "        self.set_node_attribute(vertex=start_vertex, key=TopologicalSort_NX.__explore_status__, val=1)\n",
    "        self.set_node_attribute(vertex=start_vertex, key=TopologicalSort_NX.__discovery_time__, val=self.time)\n",
    "\n",
    "        for neighbour in list(self._g[start_vertex]):\n",
    "            if self.get_node_attribute(neighbour, TopologicalSort_NX.__explore_status__) == 0:\n",
    "                self.set_node_attribute(vertex=neighbour, key=TopologicalSort_NX.__explore_status__, val=1)\n",
    "                self.set_node_attribute(vertex=neighbour, key=TopologicalSort_NX.__predecessor__, val=start_vertex)\n",
    "                self._topological_dfsVisit(neighbour)\n",
    "        \n",
    "        self.time += 1\n",
    "        #finish node exploration\n",
    "        self.set_node_attribute(vertex=start_vertex, key=TopologicalSort_NX.__finish_time__, val=self.time)\n",
    "        self.set_node_attribute(vertex=start_vertex, key=TopologicalSort_NX.__explore_status__, val=2)\n",
    "        #here we append the finished vertex to self.order for topologicalSort\n",
    "        #check that the finishing time for this \n",
    "        if len(self.finish_order):\n",
    "            last = self.get_node_attribute(vertex=self.finish_order[-1], key=TopologicalSort_NX.__finish_time__)\n",
    "            curr = self.get_node_attribute(vertex=start_vertex, key=TopologicalSort_NX.__finish_time__)\n",
    "            assert last < curr\n",
    "        self.finish_order.append(start_vertex)\n",
    "\n",
    "    \n",
    "    def topologicalSort(self):\n",
    "        self._topological_dfs()\n",
    "        return self.finish_order[::-1]\n",
    "        \n",
    "\n"
   ]
  },
  {
   "cell_type": "code",
   "execution_count": 27,
   "metadata": {},
   "outputs": [
    {
     "name": "stderr",
     "output_type": "stream",
     "text": [
      "100%|██████████| 100/100 [00:12<00:00,  8.21it/s]\n"
     ]
    }
   ],
   "source": [
    "#test Topological sort implementation \n",
    "def generate_dag(n=5, p=0.5, directed=True):\n",
    "    #generates a random dag\n",
    "    g = nx.gnp_random_graph(n, p, directed=directed)\n",
    "    #only keep edges that point from lower to higher indices - stackoverflow\n",
    "    DAG = nx.MultiDiGraph([(u, v, {'weight': random.randint(-10, 10)}) for (u,v) in g.edges() if u < v])\n",
    "    assert nx.is_directed_acyclic_graph(DAG)\n",
    "    return DAG\n",
    "\n",
    "\n",
    "def topological_sort_check(graph, res, mode='vertex'):\n",
    "    \"\"\"\n",
    "    Topological sort definition:\n",
    "    an ordering of the nodes such that for every edge (u,v) in G,\n",
    "    u appears earlier than v in the ordering\n",
    "\n",
    "    - both modes looking at the same thing, just examining it from a different perspective\n",
    "    \"\"\"\n",
    "\n",
    "    if mode == 'vertex':\n",
    "        \"\"\"\n",
    "        vertex mode:\n",
    "        we iterate through the vertices from the sort.\n",
    "        At each vertex we look at the outgoing edges. If the target of any outgoing edges precedes the \n",
    "        vertex in the ordering, then the sort result is invalid!\n",
    "\n",
    "        time complexity: O(V^2 * E)\n",
    "        \"\"\"\n",
    "        for i,node in enumerate(res):\n",
    "            preceding = res[:i]\n",
    "            out_edges = graph.out_edges(node)\n",
    "            for _, target in out_edges:\n",
    "                if target in preceding:\n",
    "                    return False \n",
    "    elif mode == 'edge':\n",
    "        \"\"\"\n",
    "        edge mode:\n",
    "        we look at all the edges in G. for each edge, we get the index of its vertex\n",
    "        within the ordering. If the origin vertex isn't earlier than the target vertex,\n",
    "        then the ordering is invalid!\n",
    "        - here it's important that the graph is a DAG, because or else there will exist edges \n",
    "        that point from a later ordering back to an earlier vertex\n",
    "        - BASICALLY the definitin of topological ordering (look above)\n",
    "\n",
    "        time complexity: O(E*V)\n",
    "        \"\"\"\n",
    "        edges = list(graph.edges())\n",
    "        for source, target in edges:\n",
    "            source_idx = res.index(source)\n",
    "            target_idx = res.index(target)\n",
    "            if source_idx > target_idx:\n",
    "                return False\n",
    "    return True\n",
    "\n",
    "                    \n",
    "\n",
    "n_trials = 100\n",
    "for _ in tqdm(range(n_trials)):\n",
    "    n = random.randint(10, 200)\n",
    "    p = 0.5\n",
    "    dag = generate_dag(n, p, directed=True)\n",
    "    ts = TopologicalSort_NX(dag)\n",
    "    res = ts.topologicalSort()\n",
    "    assert topological_sort_check(ts._g, res, mode='edge')\n",
    "\n"
   ]
  },
  {
   "cell_type": "markdown",
   "metadata": {},
   "source": [
    "6.Derive the Big-O running time for the strongly connected components algorithm.\n",
    "\n",
    "1. Call dfs for the graph  to compute the finish times for each vertex.\n",
    "\n",
    "***\n",
    "    Time complexity of dfs is O(V+E)\n",
    "***\n",
    "\n",
    "2. Compute G<sup>T</sup>\n",
    "\n",
    "3. Call dfs for the graph  but in the main loop of DFS explore each vertex in decreasing order of finish time.\n",
    "\n",
    "4. Each tree in the forest computed in step 3 is a strongly connected component. Output the vertex ids for each vertex in each tree in the forest to identify the component."
   ]
  },
  {
   "cell_type": "markdown",
   "metadata": {},
   "source": []
  }
 ],
 "metadata": {
  "interpreter": {
   "hash": "359045f3e27cecf07abe10dbd37ce62584e3ce1e9ac16f6daff40c3aba421e00"
  },
  "kernelspec": {
   "display_name": "Python 3.9.12 ('Chapter_8')",
   "language": "python",
   "name": "python3"
  },
  "language_info": {
   "codemirror_mode": {
    "name": "ipython",
    "version": 3
   },
   "file_extension": ".py",
   "mimetype": "text/x-python",
   "name": "python",
   "nbconvert_exporter": "python",
   "pygments_lexer": "ipython3",
   "version": "3.9.12"
  },
  "orig_nbformat": 4
 },
 "nbformat": 4,
 "nbformat_minor": 2
}
