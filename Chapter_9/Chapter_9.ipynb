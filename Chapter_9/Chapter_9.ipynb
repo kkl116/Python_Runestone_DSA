{
 "cells": [
  {
   "cell_type": "code",
   "execution_count": 86,
   "metadata": {},
   "outputs": [],
   "source": [
    "import random\n",
    "from alive_progress import alive_bar, alive_it"
   ]
  },
  {
   "cell_type": "markdown",
   "metadata": {},
   "source": [
    "Notes on bit manipulation in indices calculations of OctTrees:\n",
    "- right shift = floor dividing the number by 2^shift (think if you did the same to a decimal number then it's divided by 10 essentially) - and vice versa for left shift \n",
    "- in bitwise AND operations, if one of the integers have a shorter bit length then it will be padded with 0s to the left to match the other operand's bit length\n",
    "\n",
    "I think I'm thinking about the bit indexing a bit too much... in the sense that I'm overcomplicating WHY it's done a certain way. Okay. So from wiki, the to obtain the node index we get the different most significant bits of each channel (e.g. 4r + 2g + b). So... the thing that perplexes me a little is HOW the indexing works, which doesn't seem to be explained anywhere. But here are some notes to explain the things I was confused about:\n",
    "\n",
    "The main thing that confused me a little bit, was why are we shifting each channel by a different amount? Surely that \n",
    "doesn't make sense from a calculation standpoint, because we want to look at the same magnitude bits at each level. Key idea is to understand that each bit represents which side of the \n",
    "subcube we stand at (because an Octree is essentially created by dividing each subcube's dimensions in half and then allocating children points to the different centres created, we can think of each bit as which half the point should be at at each level.) BUT. just thinking about it more simply, the different shift amounts is just because we want to create the end bits more easily. What we are doing here:\n",
    "```\n",
    "def compute_index(self, r, g, b, l):\n",
    "    # what level of division are we looking at? - caps at 8 because value <= 255\n",
    "    shift = 8 - l\n",
    "    # Different shift values below are just to position the resulting bit in the correct position\n",
    "    # in the final bitwise OR. \n",
    "    rc = r >> shift - 2 & 0x4\n",
    "    gc = g >> shift - 1 & 0x2\n",
    "    bc = b >> shift & 0x1\n",
    "    return rc | gc | bc\n",
    "```\n",
    "\n",
    "is really the same as:\n",
    "```\n",
    "def computer_index(self, r, g, b, l):\n",
    "    shift = 8-l \n",
    "    # This results in the same thing, where we first grab the bit of interest, then \n",
    "    # shift it to the desired position\n",
    "    rc = (r >> shift & 0x1) <<  2\n",
    "    gc = (g >> shift & 0x1) << 1\n",
    "    bc = b >> shift & 0x1\n",
    "    return rc | gc | bc\n",
    "```\n",
    "\n",
    "I think if I was more familiar with bit manipulation I wouldn't have thought in the wrong direction for so long... :( But good learning!\n",
    "    "
   ]
  },
  {
   "cell_type": "code",
   "execution_count": 90,
   "metadata": {},
   "outputs": [
    {
     "name": "stdout",
     "output_type": "stream",
     "text": [
      "|████████████████████████████████████████| 100000/100000 [100%] in 1.3s (78726.58/s)                    00000 [73%] in 1s (78466.7/s, eta: 0s) ▃▁▃ 89600/100000 [90%] in 1s (78563.3/s, eta: 0s)                 \n"
     ]
    }
   ],
   "source": [
    "def compute_index(r, g, b, l):\n",
    "    # what level of division are we looking at? - caps at 8 because value <= 255\n",
    "    shift = 8 - l\n",
    "    # Different shift values below are just to position the resulting bit in the correct position\n",
    "    # in the final bitwise OR. \n",
    "    # If l has a possibility of exceeding 6, this version also acts as a control point \n",
    "    # because for example if l = 7, the r shift will be negative, which will raise an error.\n",
    "    rc = r >> shift - 2 & 0x4\n",
    "    gc = g >> shift - 1 & 0x2\n",
    "    bc = b >> shift & 0x1\n",
    "    return rc | gc | bc\n",
    "\n",
    "def compute_index_2(r, g, b, l):\n",
    "    shift = 8-l \n",
    "    # This results in the same thing, where we first grab the bit of interest, then \n",
    "    # shift it to the desired position\n",
    "    rc = (r >> shift & 0x1) <<  2\n",
    "    gc = (g >> shift & 0x1) << 1\n",
    "    bc = b >> shift & 0x1\n",
    "    return rc | gc | bc\n",
    "\n",
    "#check that the two functions are equivalent \n",
    "n_points = 100_000\n",
    "for _ in alive_it(range(n_points), force_tty=True):\n",
    "    l  = random.randrange(7)\n",
    "    r = random.randrange(256)\n",
    "    g = random.randrange(256)\n",
    "    b = random.randrange(256)\n",
    "    assert compute_index(r, g, b, l) == compute_index_2(r, g, b, l)"
   ]
  },
  {
   "cell_type": "code",
   "execution_count": null,
   "metadata": {},
   "outputs": [],
   "source": []
  }
 ],
 "metadata": {
  "kernelspec": {
   "display_name": "Python 3.10.4 ('Chapter_9')",
   "language": "python",
   "name": "python3"
  },
  "language_info": {
   "codemirror_mode": {
    "name": "ipython",
    "version": 3
   },
   "file_extension": ".py",
   "mimetype": "text/x-python",
   "name": "python",
   "nbconvert_exporter": "python",
   "pygments_lexer": "ipython3",
   "version": "3.10.4"
  },
  "orig_nbformat": 4,
  "vscode": {
   "interpreter": {
    "hash": "9265221bb712d4844c63d8c18bcbe8969ec601f103b2c07c06c83687fada207e"
   }
  }
 },
 "nbformat": 4,
 "nbformat_minor": 2
}
