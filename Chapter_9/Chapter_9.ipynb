{
 "cells": [
  {
   "cell_type": "markdown",
   "metadata": {},
   "source": [
    "## Programming Exercises"
   ]
  },
  {
   "cell_type": "code",
   "execution_count": 34,
   "metadata": {},
   "outputs": [],
   "source": [
    "\"\"\"\n",
    "1. Implement the following methods for the ArrayList class and then analyze their performance.\n",
    "\n",
    "__delitem__: Delete the item at the given index from the list.\n",
    "\n",
    "pop: Implement the pop method with and without a positional parameter.\n",
    "\n",
    "index: Search for a given value in the ArrayList. Return its position in the list if it is found and -1 if the item is not present.\n",
    "\n",
    "__iter__: Make the ArrayList iterable.\n",
    "\n",
    "\"\"\"\n",
    "\n",
    "class ArrayList:\n",
    "    #code from textbook\n",
    "    def __init__(self):\n",
    "        self.size_exponent = 0\n",
    "        self.max_size = 0\n",
    "        self.last_index = 0 \n",
    "        self.my_array = []\n",
    "\n",
    "    def append(self, val):\n",
    "        if self.last_index > self.max_size - 1:\n",
    "            self.__resize()\n",
    "        self.my_array[self.last_index] = val\n",
    "        self.last_index += 1\n",
    "\n",
    "    def __resize(self):\n",
    "        new_size = 2 ** self.size_exponent\n",
    "        print(\"new_size = \", new_size)\n",
    "        new_array = [0] * new_size\n",
    "        for i in range(self.max_size): \n",
    "            new_array[i] = self.my_array[i]\n",
    "\n",
    "        self.max_size = new_size\n",
    "        self.my_array = new_array\n",
    "        self.size_exponent += 1\n",
    "\n",
    "    def __getitem__(self, idx):\n",
    "        if idx < self.last_index:\n",
    "            return self.my_array[idx]\n",
    "        raise LookupError(\"index out of bounds\")\n",
    "\n",
    "    def __setitem__(self, idx, val):\n",
    "        if idx < self.last_index:\n",
    "            self.my_array[idx] = val\n",
    "        raise LookupError(\"index out of bounds\")\n",
    "\n",
    "    def insert(self, idx, val):\n",
    "        if self.last_index > self.max_size - 1:\n",
    "            self.__resize()\n",
    "        for i in range(self.last_index, idx - 1, -1):\n",
    "            self.my_array[i + 1] = self.my_array[i]\n",
    "        self.last_index += 1\n",
    "        self.my_array[idx] = val\n",
    "\n",
    "    #Below is the own code for task \n",
    "    def __delitem__(self, idx):\n",
    "        \"\"\"\n",
    "        O(n) operation if idx = 0\n",
    "        \"\"\"\n",
    "        if idx < self.last_index:\n",
    "            tmp = self.my_array[self.last_index]\n",
    "            for i in range(self.last_index, idx, -1):\n",
    "                self.my_array[i-1], tmp = tmp, self.my_array[i-1]\n",
    "            \n",
    "            self.last_index -= 1\n",
    "            return\n",
    "        raise LookupError(\"index out of bounds\")\n",
    "\n",
    "    def pop(self, idx=None):\n",
    "        \"\"\" \n",
    "        O(n) operation if idx = 0\n",
    "        \"\"\"\n",
    "        #basically same as delitem but return the value \n",
    "        if idx is None:\n",
    "            idx = self.last_index - 1\n",
    "        val = self.my_array[idx]\n",
    "        del self.my_array[idx]\n",
    "        return val \n",
    "        \n",
    "    def index(self, val):\n",
    "        \"\"\" \n",
    "        O(n) operation if i = self.last_index - 1\n",
    "        \"\"\"\n",
    "        for i in range(self.last_index):\n",
    "            if self.my_array[i] == val:\n",
    "                return i\n",
    "        return -1 \n",
    "\n",
    "    def __iter__(self):\n",
    "        for val in self.my_array[:self.last_index-1]:\n",
    "            yield val\n",
    "        \n",
    "\n",
    "\n",
    "        \n"
   ]
  },
  {
   "cell_type": "code",
   "execution_count": 36,
   "metadata": {},
   "outputs": [
    {
     "name": "stdout",
     "output_type": "stream",
     "text": [
      "new_size =  1\n",
      "new_size =  2\n",
      "new_size =  4\n",
      "new_size =  8\n",
      "[0, 1, 2, 3, 4, 0, 0, 0]\n",
      "[1, 3, 4, 0, 0, 0, 0]\n",
      "1\n",
      "3\n",
      "4\n"
     ]
    }
   ],
   "source": [
    "lst = ArrayList()\n",
    "for i in range(5):\n",
    "    lst.append(i)\n",
    "\n",
    "print(lst.my_array)\n",
    "del lst[0]\n",
    "lst.pop(1)\n",
    "print(lst.my_array)\n",
    "\n",
    "for val in lst:\n",
    "    print(val)"
   ]
  },
  {
   "cell_type": "code",
   "execution_count": 51,
   "metadata": {},
   "outputs": [],
   "source": [
    "\"\"\" \n",
    "2. Modify encrypt method of the Caesar cipher to accept a parameter that specifies the encryption key.\n",
    "\"\"\"\n",
    "\n",
    "def caesar_cipher(string, encryptionKey=\"A\"):\n",
    "    n_steps = ord(encryptionKey.lower()) - ord(\"a\")\n",
    "    res = \"\"\n",
    "    for char in string:\n",
    "        res += chr(ord(char) + n_steps)\n",
    "    return res"
   ]
  },
  {
   "cell_type": "code",
   "execution_count": null,
   "metadata": {},
   "outputs": [],
   "source": [
    "\"\"\" \n",
    "3. The Python list supports both concatenation and repetition. Add support for the + and * operators to the ArrayList.\n",
    "\"\"\""
   ]
  }
 ],
 "metadata": {
  "kernelspec": {
   "display_name": "Python 3",
   "language": "python",
   "name": "python3"
  },
  "language_info": {
   "codemirror_mode": {
    "name": "ipython",
    "version": 3
   },
   "file_extension": ".py",
   "mimetype": "text/x-python",
   "name": "python",
   "nbconvert_exporter": "python",
   "pygments_lexer": "ipython3",
   "version": "3.11.1"
  },
  "orig_nbformat": 4,
  "vscode": {
   "interpreter": {
    "hash": "5c7b89af1651d0b8571dde13640ecdccf7d5a6204171d6ab33e7c296e100e08a"
   }
  }
 },
 "nbformat": 4,
 "nbformat_minor": 2
}
