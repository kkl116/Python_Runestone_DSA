{
 "cells": [
  {
   "cell_type": "markdown",
   "metadata": {},
   "source": [
    "#### Discussion Questions"
   ]
  },
  {
   "cell_type": "markdown",
   "metadata": {},
   "source": [
    "1. Where do skip lists get their name?\n",
    "\n",
    "At levels besides the bottom level, a single step across the level's linked list can allow you to skip multiple elements (compared to the full list), which is why it's called a skip list."
   ]
  },
  {
   "cell_type": "markdown",
   "metadata": {},
   "source": [
    "2. Compare the notion of a perfectly balanced binary search tree and a skip list. Can you draw pictures to describe these notions?"
   ]
  },
  {
   "cell_type": "markdown",
   "metadata": {},
   "source": []
  }
 ],
 "metadata": {
  "kernelspec": {
   "display_name": "Python 3.10.4 ('Chapter_9')",
   "language": "python",
   "name": "python3"
  },
  "language_info": {
   "codemirror_mode": {
    "name": "ipython",
    "version": 3
   },
   "file_extension": ".py",
   "mimetype": "text/x-python",
   "name": "python",
   "nbconvert_exporter": "python",
   "pygments_lexer": "ipython3",
   "version": "3.10.4"
  },
  "orig_nbformat": 4,
  "vscode": {
   "interpreter": {
    "hash": "9265221bb712d4844c63d8c18bcbe8969ec601f103b2c07c06c83687fada207e"
   }
  }
 },
 "nbformat": 4,
 "nbformat_minor": 2
}
